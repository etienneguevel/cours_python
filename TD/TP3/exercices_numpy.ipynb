{
 "cells": [
  {
   "attachments": {},
   "cell_type": "markdown",
   "metadata": {},
   "source": [
    "# Python par la pratique : partie 3 - Librairie NumPy\n",
    "\n",
    "Ce notebook fournit des exercices pour la pratique de NumPy."
   ]
  },
  {
   "attachments": {},
   "cell_type": "markdown",
   "metadata": {},
   "source": [
    "### Exercice 1 : Fibonnacci et nombre d'or\n",
    "\n",
    "Objectif : calculer la suite de Fibonnacci en n'utilisant que `NumPy` (pas de boucle `for` et `while`) et d'en déduire le [nombre d'or](https://en.wikipedia.org/wiki/Golden_ratio).\n",
    "\n",
    "**Question 1**\n",
    "\n",
    "Implémenter une fonction `binet` qui renvoie le $n$-ème nombre de la suite de Fibonnacci en utilisant la formule de Binet\n",
    "\n",
    "$$\n",
    "F_n = \\dfrac{1}{\\sqrt{5}} \\left[ \\left( \\dfrac{1 + \\sqrt{5}}{2} \\right)^n - \\left(\\dfrac{1 - \\sqrt{5}}{2} \\right)^n \\right]\n",
    "$$\n",
    "\n",
    "La fonction prend en argument un entier `n` et renvoie un entier de type `np.int64`.\n",
    "\n",
    "**Question 2**\n",
    "\n",
    "Implémenter une fonction `fibo` qui renvoie la suite de Fibonnacci à partir de la formule de Binet pour un entier `n` passé en argument. La fonction renvoir un objet `np.array`.\n",
    "\n",
    "**Question 3**\n",
    "\n",
    "Implémenter une fonction `golden_ratio` qui calcule le nombre d'or à partir de la formule de Binet pour un entier `n` passé en argument, sachant que :\n",
    "\n",
    "$$\n",
    "\\varphi = \\lim_{n \\rightarrow + \\infty} \\dfrac{F_{n+1}}{F_n}\n",
    "$$\n",
    "\n",
    "**Question 4**\n",
    "\n",
    "Implémenter une fonction `error` qui renvoie l'écart en valeur absolue entre le résultat de la fonction `golden_ratio` et la vraie valeur $\\varphi = \\frac{1+\\sqrt{5}}{2}$. L'idée est de vérifier que le rapport $\\frac{F_{n+1}}{F_n}$ tend vers 0.\n",
    "\n"
   ]
  },
  {
   "attachments": {},
   "cell_type": "markdown",
   "metadata": {},
   "source": [
    "### Exercice 2 : Simulation de variables aléatoires\n",
    "\n",
    "Implémenter une fonction `gaussian` qui simule un jeu de données de $n=1000$ observations et $d=10$ covariables :\n",
    "\n",
    "**Question 1:**\n",
    "\n",
    "Simuler un tableau de données contenant 10 covariables $X = (X_1, ..., X_{10})$, chacune selon une loi normale $\\mathcal N(0, 1)$.\n",
    "$X$ sera un tableau NumPy de taille $n \\times d$.\n",
    "\n",
    "Utiliser la fonction `np.random.normal`. \n",
    "\n",
    "**Question 2:**\n",
    "\n",
    "A partir de $X$, simuler un tableau $y$ de taille $n$ selon l'equation\n",
    "\n",
    "$y = 2 X_1 - 3 X_2 + 3 X_3 + \\varepsilon$\n",
    "\n",
    "où $\\varepsilon$ suit une loi $\\mathcal N(0, 0.01)$.\n",
    "\n",
    "**Question 3:**\n",
    "\n",
    "Implémenter la fonction `gaussian`. Elle doit renvoyer le tuple $(X, y)$ et a deux arguments `n_rows` et `n_cols` pour indiquer respectivement le nombre de lignes et le nombre de colonnes.\n"
   ]
  },
  {
   "attachments": {},
   "cell_type": "markdown",
   "metadata": {},
   "source": [
    "### Exercice 3 : Moindres carrés ordinaires\n",
    "\n",
    "L'objectif est de construire l'estimateur des moindres carrés en utilisant la fonction `gaussian` implémentée dans l'exercice 2.\n",
    "\n",
    "Rappel : l'estimateur des moindres carrés est défini par\n",
    "\n",
    "$$\n",
    "\\hat \\beta = (X^t X)^{-1} X^t y\n",
    "$$\n",
    "\n",
    "**Question 0 :**\n",
    "\n",
    "Simuler des données `x_data` et `y_data` en utilisant la fonction `gaussian`:\n",
    "\n",
    "```python\n",
    "x_data, y_data = gaussian(n_rows=1000, n_cols=10)\n",
    "```\n",
    "\n",
    "**Question 1 :**\n",
    "\n",
    "Implémenter une fonction `ols` qui consuit l'estimateur des MC à partir de données `x_data` et `y_data` passés en argument. Les arguments doivent être des objets `np.array`, respectivement de taille $n \\times d$ et $n$. La fonction renvoie un objet `np.array` de taille $d$."
   ]
  },
  {
   "attachments": {},
   "cell_type": "markdown",
   "metadata": {},
   "source": [
    "### Exercice 4 : The inverse transform sampling\n",
    "\n",
    "Objectif : simuler des données selon une loi exponentielle de paramètre $\\lambda$ de fonction de répartition $F_X$ en utilisant la méthode ``inverse transform sampling`` qui repose sur la proposition suivante :\n",
    "\n",
    "Proposition : Si $U \\sim \\mathcal U(0, 1)$ alors $F^{-1}_X(U) \\sim F_X$,\n",
    "\n",
    "où $F^{-1}_X$ est l'inverse généralisée de $F_X$\n",
    "\n",
    "**Question 1 :**\n",
    "\n",
    "Implémenter une fonction `sampling_uniform` qui génère des données selon une loi uniforme $\\mathcal U (0, 1)$. Le résultat est un `np.array` de taille `n_obs`. Argument : `n_obs`\n",
    "\n",
    "Utiliser la fonction `np.random.uniform`.\n",
    "\n",
    "**Question 2 :**\n",
    "\n",
    "Implémenter une fonction `exp_inv` qui renvoie l'inverse généralisée de $F_X$. Arguments : `value` la valeur pour laquelle on veut calculer l'inverse généralisée et `lam` la valeur de lambda\n",
    "\n",
    "Exemple : `exp_inv(value=-1, lam=1)` renvoie -0.693\n",
    "\n",
    "**Question 3 :**\n",
    "\n",
    "Implémenter une fonction `sampling_exponential` qui simule une loi exponentielle de paramètre $\\lambda$ en utilisant exclusivement les fonctions `sampling_uniform` et `exp_inv`. Arguments : `n_obs` et `lam`\n",
    "\n",
    "Tester avec `n_obs = 100000` et `lam = 1.5`\n",
    "\n",
    "***ATTENTION : ne pas utiliser `lambda` comme nom de variable car c'est un terme réservé pour la définition de fonctions. Préférer `lam`***"
   ]
  }
 ],
 "metadata": {
  "kernelspec": {
   "display_name": "Python 3.9.13 ('tabobine')",
   "language": "python",
   "name": "python3"
  },
  "language_info": {
   "name": "python",
   "version": "3.9.13"
  },
  "orig_nbformat": 4,
  "vscode": {
   "interpreter": {
    "hash": "bedc7b092f95d0173602028272227588ce1ed221a8ea777d6ee00b69541af8b2"
   }
  }
 },
 "nbformat": 4,
 "nbformat_minor": 2
}
