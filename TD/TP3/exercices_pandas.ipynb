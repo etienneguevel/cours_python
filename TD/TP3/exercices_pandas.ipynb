{
 "cells": [
  {
   "attachments": {},
   "cell_type": "markdown",
   "metadata": {},
   "source": [
    "# Python par la pratique : partie 3 - Librairie Pandas\n",
    "\n",
    "Ce notebook fournit des exercices pour la pratique de Pandas."
   ]
  },
  {
   "attachments": {},
   "cell_type": "markdown",
   "metadata": {},
   "source": [
    "### Exercice 1 : lecture d'un fichier CSV. Pandas vs NumPy\n",
    "\n",
    "* Comparer les fonctions `pd.read_csv`, `np.loadtxt` et `np.genfromtxt` pour lire un fichier CSV\n",
    "* Comparer la méthode `to_csv` avec la fonction `np.savetxt` pour sauvegarder des données dans un fichier CSV"
   ]
  },
  {
   "cell_type": "markdown",
   "metadata": {},
   "source": [
    "### Exercice 2 : application de Pandas à un jeu de données\n",
    "\n",
    "A partir de l'un des jeux de données fournis, appliquer les méthodes vues en cours, en particulier :\n",
    "* Chargement des données\n",
    "* Calculs de statistiques\n",
    "* Group / split / combine\n",
    "* Tableaux croisés (pivot table)\n",
    "* Recherche de valeurs manquantes\n",
    "* etc.\n"
   ]
  },
  {
   "cell_type": "code",
   "execution_count": null,
   "metadata": {},
   "outputs": [],
   "source": [
    "import pandas as pd\n",
    "\n",
    "# Jeu de données 1\n",
    "employees = pd.read_csv(\"https://gitlabsu.sorbonne-universite.fr/scai/data-visualization/-/raw/main/data/employees.csv\")\n",
    "\n",
    "# Jeu de données 2\n",
    "weather = pd.read_csv(\"https://gitlabsu.sorbonne-universite.fr/scai/data-visualization/-/raw/main/data/weather.csv\", sep=\";\")"
   ]
  }
 ],
 "metadata": {
  "kernelspec": {
   "display_name": "Python 3.9.13 ('tabobine')",
   "language": "python",
   "name": "python3"
  },
  "language_info": {
   "name": "python",
   "version": "3.9.13"
  },
  "orig_nbformat": 4,
  "vscode": {
   "interpreter": {
    "hash": "bedc7b092f95d0173602028272227588ce1ed221a8ea777d6ee00b69541af8b2"
   }
  }
 },
 "nbformat": 4,
 "nbformat_minor": 2
}
