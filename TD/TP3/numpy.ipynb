{
 "cells": [
  {
   "cell_type": "markdown",
   "metadata": {},
   "source": [
    "# Python par la pratique : partie 3 - NumPy\n",
    "\n",
    "Ce notebook fournit des ressources pour la pratique de Python.\n",
    "\n",
    "Pour chacune des méthodes, il vous faudra bien comprendre leur fonctionnement et vous pourrez vous documenter sur internet (docs officielles et forums).\n",
    "N'hésitez pas à modifier les cellules pour tester d'autres configurations que celles données ici.\n",
    "\n",
    "Si vous souhaitez connaitre les méthodes disponibles d'un objet particulier, utilisez la function ``dir(obj)``."
   ]
  },
  {
   "cell_type": "markdown",
   "metadata": {},
   "source": [
    "### Import"
   ]
  },
  {
   "cell_type": "code",
   "execution_count": null,
   "metadata": {},
   "outputs": [],
   "source": [
    "import numpy as np"
   ]
  },
  {
   "cell_type": "markdown",
   "metadata": {},
   "source": [
    "### Création de Arrays\n",
    "\n",
    "Les tableaux NumPy sont des objets de classe `NDArray`. Pour créer un tableau, **on ne crée pas** directement une instance de la classe `NDArray` mais on utilise la fonction `np.array` qui en est une interface.\n",
    "\n",
    "Cette fonction prend un itérable en argument."
   ]
  },
  {
   "cell_type": "code",
   "execution_count": null,
   "metadata": {},
   "outputs": [],
   "source": [
    "arr = np.array([])\n",
    "arr.shape"
   ]
  },
  {
   "cell_type": "code",
   "execution_count": null,
   "metadata": {},
   "outputs": [],
   "source": [
    "arr = np.array([1, 2])\n",
    "arr.shape"
   ]
  },
  {
   "cell_type": "code",
   "execution_count": null,
   "metadata": {},
   "outputs": [],
   "source": [
    "arr = np.array([[1, 2], [3, 4]])\n",
    "arr.shape"
   ]
  },
  {
   "cell_type": "code",
   "execution_count": null,
   "metadata": {},
   "outputs": [],
   "source": [
    "arr = np.array([[[1, 2], [3, 4]], [[5, 6], [7, 8]]])\n",
    "arr.shape"
   ]
  },
  {
   "cell_type": "code",
   "execution_count": null,
   "metadata": {},
   "outputs": [],
   "source": [
    "# La fonction np.zeros crée un tableau avec uniquement des 0. Les dimensions du tableau sont spécifiée en argument de la fonction\n",
    "arr = np.zeros((2, 3))\n",
    "arr"
   ]
  },
  {
   "cell_type": "code",
   "execution_count": null,
   "metadata": {},
   "outputs": [],
   "source": [
    "# Idem que np.zeros\n",
    "arr = np.ones((2, 3))\n",
    "arr"
   ]
  },
  {
   "cell_type": "code",
   "execution_count": null,
   "metadata": {},
   "outputs": [],
   "source": [
    "# Crée une matrice identité\n",
    "arr = np.eye(4)\n",
    "arr"
   ]
  },
  {
   "cell_type": "markdown",
   "metadata": {},
   "source": [
    "### Génération d'une séquence de nombres\n",
    "\n",
    "NumPy implémente un grand nombre de routine permettant de créer des séquences de nombre, en particulier les fonctions \n",
    "* `np.arange` qui est l'équivalent de la fonction `range`\n",
    "* `np.linspace`"
   ]
  },
  {
   "cell_type": "code",
   "execution_count": null,
   "metadata": {},
   "outputs": [],
   "source": [
    "np.arange(2, 5, .5)"
   ]
  },
  {
   "cell_type": "code",
   "execution_count": null,
   "metadata": {},
   "outputs": [],
   "source": [
    "np.linspace(2, 5, 6)"
   ]
  },
  {
   "cell_type": "markdown",
   "metadata": {},
   "source": [
    "### Etat d'un objet Array"
   ]
  },
  {
   "cell_type": "code",
   "execution_count": null,
   "metadata": {},
   "outputs": [],
   "source": [
    "arr = np.array([[1, 2], [3, 4]])\n",
    "\n",
    "# Affiche les dimensions du tableau\n",
    "print(arr.shape)\n",
    "print(len(arr))\n",
    "\n",
    "# Affiche le nombre de dimensions du tableau\n",
    "print(arr.ndim)\n",
    "\n",
    "# Affiche le nombre total d'éléments\n",
    "print(arr.size)\n",
    "\n",
    "# Affiche le type des données\n",
    "print(arr.dtype)"
   ]
  },
  {
   "cell_type": "code",
   "execution_count": null,
   "metadata": {},
   "outputs": [],
   "source": [
    "# Modifie le type des données\n",
    "arr2 = arr.astype(float)\n",
    "arr2"
   ]
  },
  {
   "cell_type": "markdown",
   "metadata": {},
   "source": [
    "### Opérations mathématiques\n",
    "\n",
    "Les opérations mathématiques de base s'adaptent aux tableaux NumPy.\n",
    "\n",
    "Les opérations `+`, `-`, `/` et `*` se font élément par élément."
   ]
  },
  {
   "cell_type": "code",
   "execution_count": null,
   "metadata": {},
   "outputs": [],
   "source": [
    "arr = np.array([[1, 2], [3, 4]])\n",
    "arr"
   ]
  },
  {
   "cell_type": "code",
   "execution_count": null,
   "metadata": {},
   "outputs": [],
   "source": [
    "# Addition élément par élément\n",
    "arr + arr"
   ]
  },
  {
   "cell_type": "code",
   "execution_count": null,
   "metadata": {},
   "outputs": [],
   "source": [
    "# Soustraction élément par élément\n",
    "arr - arr"
   ]
  },
  {
   "cell_type": "code",
   "execution_count": null,
   "metadata": {},
   "outputs": [],
   "source": [
    "# Multiplication élément par élément\n",
    "arr * arr"
   ]
  },
  {
   "cell_type": "code",
   "execution_count": null,
   "metadata": {},
   "outputs": [],
   "source": [
    "# Division élément par élément\n",
    "arr / arr"
   ]
  },
  {
   "cell_type": "markdown",
   "metadata": {},
   "source": [
    "Voir aussi les routines ``np.add``, ``np.substract``, ``np.divide`` et ``np.multiply``"
   ]
  },
  {
   "cell_type": "code",
   "execution_count": null,
   "metadata": {},
   "outputs": [],
   "source": [
    "np.exp(arr)"
   ]
  },
  {
   "cell_type": "code",
   "execution_count": null,
   "metadata": {},
   "outputs": [],
   "source": [
    "np.sqrt(arr)"
   ]
  },
  {
   "cell_type": "code",
   "execution_count": null,
   "metadata": {},
   "outputs": [],
   "source": [
    "np.sin(arr)"
   ]
  },
  {
   "cell_type": "code",
   "execution_count": null,
   "metadata": {},
   "outputs": [],
   "source": [
    "np.cos(arr)"
   ]
  },
  {
   "cell_type": "code",
   "execution_count": null,
   "metadata": {},
   "outputs": [],
   "source": [
    "np.log(arr)"
   ]
  },
  {
   "cell_type": "markdown",
   "metadata": {},
   "source": [
    "### Algèbre linéaire\n",
    "\n",
    "Les opérations d'algèbre linéaire sont en partie implémentées dans le module ``numpy.linalg`` :\n",
    "* produit matriciel et vectoriel\n",
    "* décompositions de matrices\n",
    "* valeurs propres, vecteurs propres\n",
    "* normes\n",
    "* etc.\n",
    "\n",
    "voir https://numpy.org/doc/stable/reference/routines.linalg.html"
   ]
  },
  {
   "cell_type": "code",
   "execution_count": null,
   "metadata": {},
   "outputs": [],
   "source": [
    "# Produit matriciel entre deux Arrays. Le résultats est un tableau NumPy\n",
    "arr1 = np.array([[1, 2], [3, 4]])\n",
    "arr2 = np.array([[1, 1], [1, 1]])\n",
    "\n",
    "# Via la méthode dot\n",
    "arr1.dot(arr2)\n",
    "\n",
    "# Via l'opérateur @\n",
    "arr1@arr2"
   ]
  },
  {
   "cell_type": "code",
   "execution_count": null,
   "metadata": {},
   "outputs": [],
   "source": [
    "# Inverse d'une matrice\n",
    "arr = np.array([[1., 2.], [3., 4.]])\n",
    "np.linalg.inv(arr)"
   ]
  },
  {
   "cell_type": "markdown",
   "metadata": {},
   "source": [
    "### Comparaisons"
   ]
  },
  {
   "cell_type": "code",
   "execution_count": null,
   "metadata": {},
   "outputs": [],
   "source": [
    "# Comparaison de deux arrays, élément par élément\n",
    "arr1 == arr2"
   ]
  },
  {
   "cell_type": "code",
   "execution_count": null,
   "metadata": {},
   "outputs": [],
   "source": [
    "# Comparaison des éléments d'une array avec un scalaire\n",
    "arr1 < 3"
   ]
  },
  {
   "cell_type": "code",
   "execution_count": null,
   "metadata": {},
   "outputs": [],
   "source": [
    "# Test d'égalité de deux arrays\n",
    "print(np.array_equal(arr1, arr2))\n",
    "print(np.array_equal(arr1, arr1))"
   ]
  },
  {
   "cell_type": "markdown",
   "metadata": {},
   "source": [
    "### Opérations statistiques\n",
    "\n",
    "Les opérations statistiques (min, max, moyennes, etc.) agissent à la fois sur l'ensemble des valeurs de l'objet mais aussi sur les lignes (en utilisant l'argument ``axis = 0``) et sur les colonnes (en utilisant ``axis = 1``).\n",
    "\n",
    "Noter que ``axis = -1`` correspond à la dernière dimension de l'array"
   ]
  },
  {
   "cell_type": "code",
   "execution_count": null,
   "metadata": {},
   "outputs": [],
   "source": [
    "print(arr)\n",
    "print(arr.sum())\n",
    "print(arr.sum(axis=0))\n",
    "print(arr.sum(axis=1))"
   ]
  },
  {
   "cell_type": "code",
   "execution_count": null,
   "metadata": {},
   "outputs": [],
   "source": [
    "print(arr)\n",
    "print(arr.min())\n",
    "print(arr.min(axis=0))\n",
    "print(arr.min(axis=1))"
   ]
  },
  {
   "cell_type": "code",
   "execution_count": null,
   "metadata": {},
   "outputs": [],
   "source": [
    "print(arr)\n",
    "print(arr.max())\n",
    "print(arr.max(axis=0))\n",
    "print(arr.max(axis=1))"
   ]
  },
  {
   "cell_type": "code",
   "execution_count": null,
   "metadata": {},
   "outputs": [],
   "source": [
    "# Moyenne empirique\n",
    "print(arr)\n",
    "print(arr.mean())\n",
    "print(arr.mean(axis=0))\n",
    "print(arr.mean(axis=1))"
   ]
  },
  {
   "cell_type": "code",
   "execution_count": null,
   "metadata": {},
   "outputs": [],
   "source": [
    "# Médiane\n",
    "print(arr)\n",
    "print(np.median(arr))\n",
    "print(np.median(arr, axis=0))\n",
    "print(np.median(arr, axis=1))"
   ]
  },
  {
   "cell_type": "code",
   "execution_count": null,
   "metadata": {},
   "outputs": [],
   "source": [
    "# Ecart-type\n",
    "print(arr)\n",
    "print(np.std(arr))\n",
    "print(np.std(arr, axis=0))\n",
    "print(np.std(arr, axis=1))"
   ]
  },
  {
   "cell_type": "markdown",
   "metadata": {},
   "source": [
    "### Tri\n",
    "\n",
    "La méthode `sort` permet de trier l'ensemble du tableau, selon les différents axes. L'opération se fait `inplace`, c'est à dire en modifiant directement les valeurs du tableau.\n",
    "Inversement, la fonction `np.sort` renvoie une copie triée du tableau passé en argument.\n",
    "\n",
    "L'argument `axis` permet d'agir sur les lignes ou sur les colonnes."
   ]
  },
  {
   "cell_type": "code",
   "execution_count": null,
   "metadata": {},
   "outputs": [],
   "source": [
    "arr = np.array([[1, -2], [4, 3]])\n",
    "print(arr)\n",
    "\n",
    "# tri inplace\n",
    "arr.sort()\n",
    "print(arr)"
   ]
  },
  {
   "cell_type": "code",
   "execution_count": null,
   "metadata": {},
   "outputs": [],
   "source": [
    "arr = np.array([[1, -2], [4, 3]])\n",
    "print(arr)\n",
    "\n",
    "# Renvoie une copie du tableau\n",
    "print(np.sort(arr))"
   ]
  },
  {
   "cell_type": "code",
   "execution_count": null,
   "metadata": {},
   "outputs": [],
   "source": [
    "arr = np.array([[1, -2], [4, 3]])\n",
    "print(arr)\n",
    "\n",
    "# tri des colonnes\n",
    "arr.sort(axis=0) \n",
    "print(arr)"
   ]
  },
  {
   "cell_type": "markdown",
   "metadata": {},
   "source": [
    "### Indexing et slicing\n",
    "\n",
    "L'indexing sur des tableaux NumPy se fait de façon similaire aux listes, c'est-à-dire via des index (ou positions).\n",
    "\n",
    "La principale différence est que l'indexing se fait selon les différentes dimensions du tableau, indépendamment les unes des autres.\n",
    "\n",
    "Par exemple, récupérer un élément d'une liste de liste nécessite d'extraire la ou les sous-listes en préalable:\n",
    "\n",
    "```python\n",
    "l = [[1, 2, 3],\n",
    "     [4, 5, 6]]\n",
    "\n",
    "print(l[0][1]) # affiche 2\n",
    "```\n",
    "\n",
    "Or pour un tableau NumPy, l'utilisation du caractère `,` permet d'indéxer sur les deux dimensions (ou plus) directement :\n",
    "\n",
    "```python\n",
    "arr = np.array([[1, 2, 3],\n",
    "               [4, 5, 6]])\n",
    "\n",
    "print(arr[0, 1])\n",
    "```\n",
    "\n",
    "Le caractère `:` permet d'extraire toutes les lignes ou toutes les colonnes (dans le cas 2D).\n",
    "\n",
    "Voir https://numpy.org/doc/stable/user/basics.indexing.html"
   ]
  },
  {
   "cell_type": "code",
   "execution_count": null,
   "metadata": {},
   "outputs": [],
   "source": [
    "arr = np.array([[1, 2, 3], [4, 5, 6], [7, 8, 9]])\n",
    "print(arr)"
   ]
  },
  {
   "cell_type": "code",
   "execution_count": null,
   "metadata": {},
   "outputs": [],
   "source": [
    "# Affiche une ligne, ou un sous-tableau si la dimension est > 2\n",
    "arr[1]"
   ]
  },
  {
   "cell_type": "code",
   "execution_count": null,
   "metadata": {},
   "outputs": [],
   "source": [
    "# Affiche une colonne\n",
    "arr[:, 1]"
   ]
  },
  {
   "cell_type": "code",
   "execution_count": null,
   "metadata": {},
   "outputs": [],
   "source": [
    "# Affiche un sous-tableau\n",
    "arr[0:2]"
   ]
  },
  {
   "cell_type": "code",
   "execution_count": null,
   "metadata": {},
   "outputs": [],
   "source": [
    "# Affiche une colonne et un sous-ensemble des lignes\n",
    "arr[0:2, 1]"
   ]
  },
  {
   "cell_type": "code",
   "execution_count": null,
   "metadata": {},
   "outputs": [],
   "source": [
    "# Affiche un sous-tableau\n",
    "arr[0:2, 0:2]"
   ]
  },
  {
   "cell_type": "code",
   "execution_count": null,
   "metadata": {},
   "outputs": [],
   "source": [
    "# Affiche toutes les lignes et un sous-ensemble des colonnes\n",
    "arr[:, 1:]"
   ]
  },
  {
   "cell_type": "code",
   "execution_count": null,
   "metadata": {},
   "outputs": [],
   "source": [
    "# Affiche toutes les lignes et un sous-ensemble des colonnes\n",
    "arr[:, 2:]"
   ]
  },
  {
   "cell_type": "code",
   "execution_count": null,
   "metadata": {},
   "outputs": [],
   "source": [
    "# Spécifie les indexes des lignes/colonnes à extraire\n",
    "indexes_1 = [0, 2, 0, 2]\n",
    "indexes_2 = [0, 0, 2, 2]\n",
    "arr[indexes_1, indexes_2]"
   ]
  },
  {
   "cell_type": "code",
   "execution_count": null,
   "metadata": {},
   "outputs": [],
   "source": [
    "arr[arr > 3]"
   ]
  },
  {
   "cell_type": "code",
   "execution_count": null,
   "metadata": {},
   "outputs": [],
   "source": [
    "indexes = np.where(arr > 3)\n",
    "arr[indexes]"
   ]
  },
  {
   "cell_type": "markdown",
   "metadata": {},
   "source": [
    "### Manipulation d'arrays"
   ]
  },
  {
   "cell_type": "code",
   "execution_count": null,
   "metadata": {},
   "outputs": [],
   "source": [
    "# Transposée\n",
    "arr = np.array([[1, 2, 3], [4, 5, 6], [7, 8, 9]])\n",
    "print(arr)\n",
    "\n",
    "# version 1\n",
    "print(np.transpose(arr))\n",
    "\n",
    "# version 2, via la property T\n",
    "print(arr.T)"
   ]
  },
  {
   "cell_type": "code",
   "execution_count": null,
   "metadata": {},
   "outputs": [],
   "source": [
    "# Reshape\n",
    "arr = np.arange(0, 10, 1)\n",
    "print(arr)\n",
    "print(arr.reshape((2, 5)))"
   ]
  },
  {
   "cell_type": "code",
   "execution_count": null,
   "metadata": {},
   "outputs": [],
   "source": [
    "# Applatir une Array\n",
    "arr.ravel()"
   ]
  },
  {
   "cell_type": "code",
   "execution_count": null,
   "metadata": {},
   "outputs": [],
   "source": [
    "### Combiner deux arrays par ligne\n",
    "arr = np.array([[1, 2, 3], [4, 5, 6], [7, 8, 9]])\n",
    "print(arr)\n",
    "print(np.concatenate((arr, arr), axis=0))\n",
    "print(np.vstack((arr, arr)))"
   ]
  },
  {
   "cell_type": "code",
   "execution_count": null,
   "metadata": {},
   "outputs": [],
   "source": [
    "### Combiner deux arrays par colonnes\n",
    "print(arr)\n",
    "print(np.concatenate((arr, arr), axis=1))\n",
    "print(np.hstack((arr, arr)))"
   ]
  },
  {
   "cell_type": "markdown",
   "metadata": {},
   "source": [
    "### Simulation de nombres aléatoires\n",
    "\n",
    "La simulation de nombres aléatoires se fait via le module ``numpy.random``"
   ]
  },
  {
   "cell_type": "code",
   "execution_count": null,
   "metadata": {},
   "outputs": [],
   "source": [
    "# Simulation selon une loi Gaussienne\n",
    "np.random.normal(loc=0, scale=1, size=10)"
   ]
  },
  {
   "cell_type": "code",
   "execution_count": null,
   "metadata": {},
   "outputs": [],
   "source": [
    "np.random.normal(loc=0, scale=1, size=10).reshape((2, 5))"
   ]
  },
  {
   "cell_type": "code",
   "execution_count": null,
   "metadata": {},
   "outputs": [],
   "source": [
    "mean = (0, 0)\n",
    "cov = ((1, 0), (0, 100))\n",
    "x1, x2 = np.random.multivariate_normal(mean, cov, 5000).T"
   ]
  },
  {
   "cell_type": "code",
   "execution_count": null,
   "metadata": {},
   "outputs": [],
   "source": [
    "np.random.exponential(scale=1, size=10)"
   ]
  }
 ],
 "metadata": {
  "interpreter": {
   "hash": "189bdd17e24a4dfcda3682842dffb4a233faf59b8973c185911bad3dd63e3bca"
  },
  "kernelspec": {
   "display_name": "Python 3 (ipykernel)",
   "language": "python",
   "name": "python3"
  },
  "language_info": {
   "codemirror_mode": {
    "name": "ipython",
    "version": 3
   },
   "file_extension": ".py",
   "mimetype": "text/x-python",
   "name": "python",
   "nbconvert_exporter": "python",
   "pygments_lexer": "ipython3",
   "version": "3.12.2"
  }
 },
 "nbformat": 4,
 "nbformat_minor": 4
}
