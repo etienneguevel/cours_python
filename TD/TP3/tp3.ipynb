{
 "cells": [
  {
   "attachments": {},
   "cell_type": "markdown",
   "metadata": {},
   "source": [
    "# Python par la pratique : partie 3 - Librairies scientifiques et visualisation de données\n",
    "\n",
    "Ce notebook fournit des exercices sur NumPy, Pandas, Matplotlib et Seaborn"
   ]
  },
  {
   "attachments": {},
   "cell_type": "markdown",
   "metadata": {},
   "source": [
    "### Exercice 1 : visualisation avec matplotlib et seaborn\n",
    "\n",
    "**Question 1**\n",
    "\n",
    "1. Simuler `n` valeurs selons une loi Gaussienne centrée réduite en utilisant `np.random.normal`.\n",
    "2. Construire un histogramme avec `plt.hist` et `sns.histplot`\n",
    "3. Faire varier `n` et commenter le résultat\n",
    "\n",
    "**Question 2**\n",
    "1. Simuler un tableau 2D (`n` observations et 2 variables) selon une loi Gaussienne en utilisant `np.random.normal`\n",
    "2. Construire un nuage de point pour visualiser les deux variables en utilisant `plt.plot`, `plt.scatter` et `sns.scatterplot`\n"
   ]
  },
  {
   "attachments": {},
   "cell_type": "markdown",
   "metadata": {},
   "source": [
    "### Exercice 2 : Fibonnacci et nombre d'or\n",
    "\n",
    "Objectif : calculer la suite de Fibonnacci en n'utilisant que `NumPy` (pas de boucle `for` et `while`) et d'en déduire le [nombre d'or](https://en.wikipedia.org/wiki/Golden_ratio).\n",
    "\n",
    "***Utiliser uniquement les librairies suivantes : numpy et matplotlib (ou seaborn)***\n",
    "\n",
    "\n",
    "\n",
    "**Question 1**\n",
    "\n",
    "Implémenter une fonction `binet` qui renvoie le $n$-ème nombre de la suite de Fibonnacci en utilisant la formule de Binet\n",
    "\n",
    "$$\n",
    "F_n = \\dfrac{1}{\\sqrt{5}} \\left[ \\left( \\dfrac{1 + \\sqrt{5}}{2} \\right)^n - \\left(\\dfrac{1 - \\sqrt{5}}{2} \\right)^n \\right]\n",
    "$$\n",
    "\n",
    "La fonction prend en argument un entier `n` et renvoie un entier de type `np.int32`.\n",
    "\n",
    "**Question 2**\n",
    "\n",
    "Implémenter une fonction `fibo` qui renvoie la suite de Fibonnacci à partir de la formule de Binet pour un entier `n` passé en argument. La fonction renvoir un objet `np.array`.\n",
    "\n",
    "**Question 3**\n",
    "\n",
    "Implémenter une fonction `golden_ratio` qui calcule le nombre d'or à partir de la formule de Binet pour un entier `n` passé en argument, sachant que :\n",
    "\n",
    "$$\n",
    "\\varphi = \\lim_{n \\rightarrow + \\infty} \\dfrac{F_{n+1}}{F_n}\n",
    "$$\n",
    "\n",
    "**Question 4**\n",
    "\n",
    "Implémenter une fonction `plot_error` pour visualiser l'écart en valeur absolue entre le résultat de la fonction `golden_ratio` et la vraie valeur $\\varphi = \\frac{1+\\sqrt{5}}{2}$ comme dans la figure ci-dessous. L'idée est de vérifier la limite du rapport $\\frac{F_{n+1}}{F_n}$. Autrement dit, visualiser l'écart $\\left| \\varphi - \\frac{F_{n+1}}{F_n} \\right|$ en fonction de $n$.\n",
    "\n",
    "![](./golden.png)\n",
    "\n",
    "\n",
    "\n",
    "\n"
   ]
  },
  {
   "attachments": {},
   "cell_type": "markdown",
   "metadata": {},
   "source": [
    "### Exercice 3 : Simulation de variables aléatoires\n",
    "\n",
    "***Utiliser uniquement les librairies suivantes : numpy et matplotlib (ou seaborn)***\n",
    "\n",
    "Implémenter une fonction `gaussian` qui simule un jeu de données de $n=1000$ observations et $d=10$ covariables :\n",
    "* simuler 10 covariables $X = (X_1, ..., X_{10})$ selon une loi normale $\\mathcal N(0, 1)$\n",
    "* créer une variable cible $y = 2 X_1 - 3 X_2 + 3 X_3 + \\varepsilon$ où $\\varepsilon$ suit une loi $\\mathcal N(0, 0.01)$\n",
    "* La fonction `gaussian` doit renvoyer le tuple $(X, y)$. $X$ est de taille $n \\times d$ et $y$ de taille $n$. Arguments : `n_rows` et `n_cols`\n",
    "\n",
    "Implémenter une fonction `gaussian_plot` pour visualiser la distribution des données simulées (histogramme ou densité). Arguments : `x_data` et `y_data`\n",
    "\n"
   ]
  },
  {
   "attachments": {},
   "cell_type": "markdown",
   "metadata": {},
   "source": [
    "### Exercice 4 : The inverse transform sampling\n",
    "\n",
    "Objectif : simuler des données selon une loi exponentielle de paramètre $\\lambda$ de fonction de répartition $F_X$ en utilisant la méthode ``inverse transform sampling`` qui repose sur la proposition suivante :\n",
    "\n",
    "Proposition : Si $U \\sim \\mathcal U(0, 1)$ alors $F^{-1}_X(U) \\sim F_X$,\n",
    "\n",
    "où $F^{-1}_X$ est l'inverse généralisée de $F_X$\n",
    "\n",
    "***Utiliser uniquement les librairies suivantes : numpy et matplotlib et seaborn***\n",
    "\n",
    "Questions :\n",
    "* Implémenter une fonction `sampling_uniform` qui génère des données selon une loi uniforme $\\mathcal U (0, 1)$. Le résultat est un `np.array` de taille `n_obs`. Argument : `n_obs`\n",
    "* Implémenter une fonction `exp_inv` qui renvoie l'inverse généralisée de $F_X$. Arguments : `value` la valeur pour laquelle on veut calculer l'inverse généralisée et `lam` la valeur de lambda\n",
    "\n",
    "Exemple : `exp_inv(value=-1, lam=1)` renvoie -0.693\n",
    "\n",
    "* Implémenter une fonction `sampling_exponential` qui simule une loi exponentielle de paramètre $\\lambda$ en utilisant exclusivement les fonctions `sampling_uniform` et `exp_inv`. Arguments : `n_obs` et `lam`\n",
    "* Tester avec `n_obs = 100000` et `lam = 1.5`\n",
    "* Implémenter une fonction `plot_exponential` pour visualiser le résultat comme suit :\n",
    "\n",
    "![](./exp_sample.png)\n",
    "\n"
   ]
  },
  {
   "attachments": {},
   "cell_type": "markdown",
   "metadata": {},
   "source": [
    "### Exercice 5 : Moindres carrés ordinaires\n",
    "\n",
    "***Utiliser uniquement la librairie numpy***\n",
    "\n",
    "L'objectif est de construire l'estimateur des moindres carrés en utilisant la fonction `gaussian` implémentée dans l'exercice 2.\n",
    "\n",
    "Rappel : l'estimateur des moindres carrés est défini par\n",
    "\n",
    "$$\n",
    "\\hat \\beta = (X^t X)^{-1} X^t y\n",
    "$$\n",
    "\n",
    "* Implémenter une fonction `ols` qui consuit l'estimateur des MC à partir de données `x_data` et `y_data` passés en argument. Les arguments doivent être des objets `np.array`, respectivement de taille $n \\times d$ et $n$. La fonction renvoie un objet `np.array` de taille $d$.\n",
    "* Implémenter une fonction `verify` pour vérifier que l'estimateur est proche des vraies valeurs. Tester pour $n=1000$ et $d=10$. Utiliser l'instruction `assert`."
   ]
  },
  {
   "attachments": {},
   "cell_type": "markdown",
   "metadata": {},
   "source": [
    "### Exercice 6 : Pandas vs NumPy\n",
    "\n",
    "**Avec Pandas**\n",
    "\n",
    "1. Comparer `pd.read_csv` pour lire un fichier CSV\n",
    "2. Visualiser les données\n",
    "3. Extraire des statistiques (nombre d'observation et colonnes, moyennes, écart-types, correlation, etc.) et construire une `DatFrame` avec le résultat\n",
    "4. Sauvegarder la `DataFrame` en CSV avec la méthode `to_csv`\n",
    "\n",
    "**Avec NumPy**\n",
    "\n",
    "1. Comparer `np.genfromtxt` pour lire un fichier CSV\n",
    "2. Visualiser les données\n",
    "3. Extraire des statistiques (nombre d'observation et colonnes, moyennes, écart-types, correlation, etc.) et construire une `np.array` avec le résultat\n",
    "4. Sauvegarder le `np.array` en CSV avec la routine `np.savetxt` et en NPY avec la routine `np.save`\n"
   ]
  }
 ],
 "metadata": {
  "kernelspec": {
   "display_name": "Python 3.9.13 ('tabobine')",
   "language": "python",
   "name": "python3"
  },
  "language_info": {
   "name": "python",
   "version": "3.9.13"
  },
  "orig_nbformat": 4,
  "vscode": {
   "interpreter": {
    "hash": "bedc7b092f95d0173602028272227588ce1ed221a8ea777d6ee00b69541af8b2"
   }
  }
 },
 "nbformat": 4,
 "nbformat_minor": 2
}
