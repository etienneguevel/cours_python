{
 "cells": [
  {
   "cell_type": "markdown",
   "metadata": {
    "id": "YosssvHjVS_j"
   },
   "source": [
    "# Advanced plots with seaborn and pandas\n",
    "\n",
    "In this activity, we will learn how to create more advanced plots using matplotlib, seaborn and pandas.\n",
    "\n",
    "Features of the activity:\n",
    "* How the seaborn functions work?\n",
    "* Advanced plotting: \n",
    "  * Visualize groups of data\n",
    "  * Customize plots and styling\n",
    "  * Use subplots for chart comparison\n",
    "* Use seaborn and pandas to visualize statistics\n",
    "\n",
    "![](https://seaborn.pydata.org/_static/logo-wide-lightbg.svg)\n"
   ]
  },
  {
   "cell_type": "code",
   "execution_count": null,
   "metadata": {},
   "outputs": [],
   "source": [
    "import seaborn as sns\n",
    "import pandas as pd\n",
    "import matplotlib.pyplot as plt"
   ]
  },
  {
   "cell_type": "code",
   "execution_count": null,
   "metadata": {},
   "outputs": [],
   "source": [
    "sns.set_theme()"
   ]
  },
  {
   "cell_type": "markdown",
   "metadata": {},
   "source": [
    "## How the seaborn functions work?\n",
    "\n",
    "As an interface of matplotlib library, seaborn proposes a set of functions with similar signature but for different tasks. \n",
    "These functions are organized into three groups:\n",
    "* Relational\n",
    "* Distributional\n",
    "* Categorical\n",
    "\n",
    "In addition to that, there is a cross-cutting classification of seaborn functions as \"axes-level\" or \"figure-level\". Axes-level functions plots data onto a single `matplotlib.pyplot.Axes` object, which is the return value of the function. In contrast, figure-level functions interface with matplotlib through a seaborn object that manages the figure. Each module has a single figure-level function, which offers a unitary interface to its various axes-level functions.\n",
    "\n",
    "For example, the figure-level function `displot` is an interface to the axes-level functions `histplot`, `kdeplot`, etc. see the figure below.\n",
    "\n",
    "![](https://seaborn.pydata.org/_images/function_overview_8_0.png)"
   ]
  },
  {
   "cell_type": "markdown",
   "metadata": {},
   "source": [
    "**Let's have a look on the argument of the seaborn functions !**\n",
    "\n",
    "The functions provided by seaborn have broadly the same signature, meaning that the arguments are (almost) the same.\n",
    "Indeed, seaborn closely works with pandas data frames which makes the use easier than matplotlib.\n",
    "\n",
    "The main arguments of the axes-level functions are:\n",
    "* data: usually a pandas DataFrame. Either a long-form or a wide-form dataset.\n",
    "* x, y: columns names in the data frame\n",
    "* hue: name of the column used to determine the color of plot elements\n",
    "* ax: maplotlib `Axes` object in which to draw the plot, otherwise use the currently-active `Axes`\n",
    "\n",
    "The figure-level functions have broadly the same main arguments. But as they create a matplotlib figure directly, they do not have `ax` as argument."
   ]
  },
  {
   "cell_type": "code",
   "execution_count": null,
   "metadata": {},
   "outputs": [],
   "source": [
    "sns.histplot?"
   ]
  },
  {
   "cell_type": "markdown",
   "metadata": {},
   "source": [
    "### Examples of distribution plots"
   ]
  },
  {
   "cell_type": "code",
   "execution_count": null,
   "metadata": {},
   "outputs": [],
   "source": [
    "# Load the Employees dataset\n",
    "weather = pd.read_csv(\"https://gitlabsu.sorbonne-universite.fr/scai/data-visualization/-/raw/main/data/weather.csv\", sep=\";\")\n",
    "\n",
    "# Convert the date column as a datetime object\n",
    "weather[\"date\"] = pd.to_datetime(weather[\"date\"])\n",
    "\n",
    "# Extract the year from the dates\n",
    "weather[\"year\"] = weather[\"date\"].dt.year\n",
    "\n",
    "# Extract the seasons\n",
    "season = weather.date.dt.month%12 // 3 + 1 # Get the season number and replace it by the season names\n",
    "season[season == 1] = \"winter\"\n",
    "season[season == 2] = \"spring\"\n",
    "season[season == 3] = \"summer\"\n",
    "season[season == 4] = \"autumn\"\n",
    "weather[\"season\"] = season # add a new column in the dataframe\n",
    "\n",
    "# Set the date as new index\n",
    "# We keep the date in a separated column (drop=False) because we will need it later\n",
    "weather.set_index(\"date\", inplace=True, drop=False)\n",
    "\n",
    "weather.head()"
   ]
  },
  {
   "cell_type": "code",
   "execution_count": null,
   "metadata": {},
   "outputs": [],
   "source": [
    "# Load the Employees dataset\n",
    "employees = pd.read_csv(\"https://gitlabsu.sorbonne-universite.fr/scai/data-visualization/-/raw/main/data/employees.csv\")\n",
    "employees.head()"
   ]
  },
  {
   "cell_type": "code",
   "execution_count": null,
   "metadata": {},
   "outputs": [],
   "source": [
    "# Create an histogram of the temperature for each year\n",
    "# The argument multiple can have the values \"stack\", \"fill\", \"dodge\", \"layer\"\n",
    "# Change the palette for a different colors\n",
    "sns.histplot(data=weather, x=\"temp_max\", hue=\"year\", multiple=\"stack\", palette=\"viridis\")"
   ]
  },
  {
   "cell_type": "code",
   "execution_count": null,
   "metadata": {},
   "outputs": [],
   "source": [
    "# Density estimator, kdeplot\n",
    "sns.kdeplot(data=weather, x=\"temp_max\", hue=\"year\", multiple=\"stack\", palette=\"viridis\")"
   ]
  },
  {
   "cell_type": "markdown",
   "metadata": {},
   "source": [
    "### Axes-level vs Figure-level plots"
   ]
  },
  {
   "cell_type": "code",
   "execution_count": null,
   "metadata": {},
   "outputs": [],
   "source": [
    "# Example of axes-level distribution plot, just as previous\n",
    "sns.histplot(data=weather, x=\"temp_max\", hue=\"year\", multiple=\"stack\", palette=\"viridis\")"
   ]
  },
  {
   "cell_type": "code",
   "execution_count": null,
   "metadata": {},
   "outputs": [],
   "source": [
    "# Example of figure-level distribution plot, just as previous\n",
    "sns.displot(data=weather, x=\"temp_max\", hue=\"year\", multiple=\"stack\", palette=\"viridis\")"
   ]
  },
  {
   "cell_type": "markdown",
   "metadata": {},
   "source": [
    "## Visualization x Statistics\n",
    "\n",
    "Sometimes, data visualization requires a process of aggregation or estimation in which numerous data points are condensed into a summary statistic, like the mean or median. When displaying a summary statistic, it is generally advisable to include error bars, offering a visual indication of the accuracy with which the summary reflects the original data points.\n",
    "\n",
    "Seaborn integrates error estimations directly on the plotting functions. In the case of a barplot, this means that the condense statistic is plotted as well as the variability of the data points within each category."
   ]
  },
  {
   "cell_type": "markdown",
   "metadata": {},
   "source": [
    "### Barplot with error bar"
   ]
  },
  {
   "cell_type": "code",
   "execution_count": null,
   "metadata": {},
   "outputs": [],
   "source": [
    "# Data\n",
    "df = pd.DataFrame({\n",
    "    \"categories\": [\"A\", \"B\", \"C\", \"A\", \"B\", \"C\"],\n",
    "    \"column_1\": [15, 25, 35, 45, 30, 20]\n",
    "})\n",
    "\n",
    "# Barplot, the error bar is displayed in black lines, indicating the variability of the estimates\n",
    "sns.barplot(data=df, x=\"categories\", y=\"column_1\")"
   ]
  },
  {
   "cell_type": "markdown",
   "metadata": {},
   "source": [
    "### Regression plot\n",
    "\n",
    "The regression plot visualizes a scatter plot of two variables together and fits a regression line."
   ]
  },
  {
   "cell_type": "code",
   "execution_count": null,
   "metadata": {},
   "outputs": [],
   "source": [
    "# Scatter plot and linear regression fit, function sns.regplot\n",
    "\n",
    "# extract a sample for the example\n",
    "sample = weather.sample(100)\n",
    "\n",
    "sns.regplot(data=sample, x=\"temp_max\", y=\"wind\")"
   ]
  },
  {
   "cell_type": "markdown",
   "metadata": {},
   "source": [
    "## Visualize groups of data\n",
    "\n",
    "Most of the functions from seaborn has a parameter `hue` allowing us to add information about a categorical variable to the chart. This is possible with the following functions: barplot, histplot, kdeplot, scatterplot, heatmap.\n",
    "\n",
    "The data usually needs to be in a long format."
   ]
  },
  {
   "cell_type": "code",
   "execution_count": null,
   "metadata": {},
   "outputs": [],
   "source": [
    "# Data with long format\n",
    "df = pd.DataFrame({\n",
    "    \"categories\": [\"A\", \"B\", \"C\", \"A\", \"B\", \"C\"],\n",
    "    \"classes\": [\"class 1\", \"class 1\", \"class 1\", \"class 2\", \"class 2\", \"class 2\"],\n",
    "    \"values\": [10, 20, 30, 45, 25, 15]\n",
    "})\n",
    "df"
   ]
  },
  {
   "cell_type": "markdown",
   "metadata": {},
   "source": [
    "### Grouped barplot\n",
    "\n",
    "To create grouped bar plots, you can use the `sns.barplot()` as below. It produces an axes-level plots and the arguments used are `x`, `y` and `hue`."
   ]
  },
  {
   "cell_type": "code",
   "execution_count": null,
   "metadata": {},
   "outputs": [],
   "source": [
    "sns.barplot(data=df, x=\"categories\", y=\"values\", hue=\"classes\")"
   ]
  },
  {
   "cell_type": "code",
   "execution_count": null,
   "metadata": {},
   "outputs": [],
   "source": [
    "# Another palette\n",
    "sns.barplot(data=df, x=\"categories\", y=\"values\", hue=\"classes\", palette=\"hot\")"
   ]
  },
  {
   "cell_type": "markdown",
   "metadata": {},
   "source": [
    "### Grouped barplot for columns comparison\n",
    "\n",
    "If you want to compare the values of two (comparable) columns, you need to prepare the data using the melt function."
   ]
  },
  {
   "cell_type": "code",
   "execution_count": null,
   "metadata": {},
   "outputs": [],
   "source": [
    "# Data\n",
    "df = pd.DataFrame({\n",
    "    \"categories\": [\"A\", \"B\", \"C\", \"A\", \"B\", \"C\"],\n",
    "    \"column_1\": [15, 25, 35, 45, 30, 20],\n",
    "    \"column_2\": [10, 20, 30, 45, 25, 15]\n",
    "})\n",
    "\n",
    "# transform into a long format where the previous column names will be considered as categories\n",
    "melted = pd.melt(df, id_vars=\"categories\", var_name=\"column\", value_name=\"values\")\n",
    "melted"
   ]
  },
  {
   "cell_type": "code",
   "execution_count": null,
   "metadata": {},
   "outputs": [],
   "source": [
    "# Axes-level plot\n",
    "sns.barplot(data=melted, x=\"categories\", y=\"values\", hue=\"column\")"
   ]
  },
  {
   "cell_type": "code",
   "execution_count": null,
   "metadata": {},
   "outputs": [],
   "source": [
    "# Figure-level plot\n",
    "sns.catplot(data=melted, x=\"categories\", y=\"values\", hue=\"column\", kind=\"bar\")"
   ]
  },
  {
   "cell_type": "markdown",
   "metadata": {},
   "source": [
    "### Grouped boxplot"
   ]
  },
  {
   "cell_type": "code",
   "execution_count": null,
   "metadata": {},
   "outputs": [],
   "source": [
    "# Axes-level plot\n",
    "sns.set_theme(style=\"whitegrid\")\n",
    "sns.boxplot(data=melted, x=\"categories\", y=\"values\", hue=\"column\")"
   ]
  },
  {
   "cell_type": "code",
   "execution_count": null,
   "metadata": {},
   "outputs": [],
   "source": [
    "# Figure-level plot\n",
    "sns.catplot(data=melted, x=\"categories\", y=\"values\", hue=\"column\", kind=\"box\")"
   ]
  },
  {
   "cell_type": "markdown",
   "metadata": {},
   "source": [
    "## High-dimensional scatter plots\n",
    "\n",
    "High-dimensional plots refers to visualizing data points in a higher dimension than 2.\n",
    "\n",
    "Seaborn does not have a 3D scatter plot that represents three variables x, y and z together. So we need to use the function `sns.scatterplot` and to modify the visual if the data points to represent the other variables. In particular, when you have categorical variables, it is of interest to expose the categories by modifying the style of the data points (colors, sizes, shapes).\n",
    "\n",
    "It should noted that `Matplotlib` has a 3D toolkit for this purpose, see [here](https://matplotlib.org/stable/gallery/mplot3d/index.html).\n",
    "\n",
    "The function `sns.scatterplot` has the following arguments for this purpose:\n",
    "* `hue`: grouping variable that will produce points with different colors. Can be either categorical or numeric.\n",
    "* `size`: grouping variable that will produce points with different sizes. Can be either categorical or numeric.\n",
    "* `style`: grouping variable that will produce points with different markers. Can have a numeric dtype but will always be treated as categorical.\n",
    "\n",
    "By setting these arguments, you can produce a scatterplot with a dimension up to 5D! Be careful, increasing the chart dimension will not necessarily help the interpretation.\n",
    "\n",
    "You also can use the arguments `col` and `row` that creates a faceted figure with multiple subplots arranged across the columns of the grid."
   ]
  },
  {
   "cell_type": "markdown",
   "metadata": {},
   "source": [
    "### Toy data examples"
   ]
  },
  {
   "cell_type": "code",
   "execution_count": null,
   "metadata": {},
   "outputs": [],
   "source": [
    "# Load a small data set from seaborn\n",
    "tips = sns.load_dataset(\"tips\")\n",
    "tips.head()"
   ]
  },
  {
   "cell_type": "code",
   "execution_count": null,
   "metadata": {},
   "outputs": [],
   "source": [
    "# 3D plot\n",
    "sns.scatterplot(data=tips, x=\"total_bill\", y=\"tip\", hue=\"time\")"
   ]
  },
  {
   "cell_type": "code",
   "execution_count": null,
   "metadata": {},
   "outputs": [],
   "source": [
    "# 4D plot\n",
    "sns.scatterplot(data=tips, x=\"total_bill\", y=\"tip\", hue=\"time\", size=\"size\", sizes=(10, 300))"
   ]
  },
  {
   "cell_type": "code",
   "execution_count": null,
   "metadata": {},
   "outputs": [],
   "source": [
    "# 5D plot, use relplot to have teh legend outside of the axes, increse the height\n",
    "sns.relplot(data=tips, x=\"total_bill\", y=\"tip\", hue=\"time\", size=\"size\", sizes=(10, 300), style=\"sex\", height=10)"
   ]
  },
  {
   "cell_type": "markdown",
   "metadata": {},
   "source": [
    "### Weather data examples"
   ]
  },
  {
   "cell_type": "code",
   "execution_count": null,
   "metadata": {},
   "outputs": [],
   "source": [
    "# 3D plot\n",
    "months = [\"January\", \"February\", \"March\", \"April\", \"May\", \"June\", \"July\", \"August\", \"September\", \"October\", \"November\", \"December\"]\n",
    "sns.scatterplot(data=weather, x=\"temp_max\", y=\"temp_min\", \n",
    "                hue=\"month\", hue_order=months,\n",
    "                palette=\"viridis\")"
   ]
  },
  {
   "cell_type": "code",
   "execution_count": null,
   "metadata": {},
   "outputs": [],
   "source": [
    "# 3D plot: Just extract a sample to better visualize\n",
    "sample = weather.sample(100)\n",
    "\n",
    "months = [\"January\", \"February\", \"March\", \"April\", \"May\", \"June\", \"July\", \"August\", \"September\", \"October\", \"November\", \"December\"]\n",
    "sns.scatterplot(data=sample, x=\"temp_max\", y=\"temp_min\", \n",
    "                hue=\"month\", hue_order=months,\n",
    "                palette=\"viridis\")"
   ]
  },
  {
   "cell_type": "code",
   "execution_count": null,
   "metadata": {},
   "outputs": [],
   "source": [
    "# 4D plot: add different style for the points\n",
    "sns.scatterplot(data=weather, x=\"temp_min\", y=\"temp_max\", hue=\"month\", palette=\"viridis\", style=\"year\")"
   ]
  },
  {
   "cell_type": "code",
   "execution_count": null,
   "metadata": {},
   "outputs": [],
   "source": [
    "# 5D plot: Add different sizes\n",
    "sns.scatterplot(data=weather, x=\"temp_min\", y=\"temp_max\", hue=\"month\", palette=\"viridis\", style=\"year\", size=\"weather\")"
   ]
  },
  {
   "cell_type": "code",
   "execution_count": null,
   "metadata": {},
   "outputs": [],
   "source": [
    "# Figure-level plot\n",
    "months = [\"January\", \"February\", \"March\", \"April\", \"May\", \"June\", \"July\", \"August\", \"September\", \"October\", \"November\", \"December\"]\n",
    "sns.relplot(data=weather, x=\"temp_max\", y=\"temp_min\", \n",
    "            hue=\"month\", hue_order=months,\n",
    "            palette=\"viridis\", kind=\"scatter\",\n",
    "            style=\"year\", size=\"weather\")"
   ]
  },
  {
   "cell_type": "markdown",
   "metadata": {},
   "source": [
    "## Stacking plots"
   ]
  },
  {
   "cell_type": "markdown",
   "metadata": {},
   "source": [
    "The most useful feature offered by the figure-level functions is that they can easily create figures with multiple subplots. For example, instead of stacking the three distributions for each category in the same axes, we can “facet” them by plotting each distribution across the columns of the figure:\n",
    "\n",
    "```python\n",
    "sns.displot(data=weather, x=\"temp_max\", col=\"species\")\n",
    "```"
   ]
  },
  {
   "cell_type": "code",
   "execution_count": null,
   "metadata": {},
   "outputs": [],
   "source": [
    "# Four plots = four categories\n",
    "sns.displot(data=weather, x=\"temp_max\", col=\"year\")"
   ]
  },
  {
   "cell_type": "code",
   "execution_count": null,
   "metadata": {},
   "outputs": [],
   "source": [
    "# Four plots = four categories with colors and a legend\n",
    "sns.displot(data=weather, x=\"temp_max\", hue=\"year\", multiple=\"stack\", palette=\"viridis\", col=\"year\")"
   ]
  },
  {
   "cell_type": "code",
   "execution_count": null,
   "metadata": {},
   "outputs": [],
   "source": [
    "# Add the weather categories with hue parameter\n",
    "sns.displot(data=weather, x=\"temp_max\", hue=\"weather\", multiple=\"stack\", palette=\"viridis\", col=\"year\")"
   ]
  },
  {
   "cell_type": "code",
   "execution_count": null,
   "metadata": {},
   "outputs": [],
   "source": [
    "# Another way to stack the histograms with multiple=\"layer\"\n",
    "sns.displot(data=weather, x=\"temp_max\", hue=\"weather\", multiple=\"layer\", palette=\"viridis\", col=\"year\")"
   ]
  },
  {
   "cell_type": "code",
   "execution_count": null,
   "metadata": {},
   "outputs": [],
   "source": [
    "# Stacked density estimators\n",
    "sns.displot(data=weather, x=\"temp_max\", hue=\"weather\", multiple=\"layer\", col=\"year\", kind=\"kde\", fill=True)"
   ]
  },
  {
   "cell_type": "markdown",
   "metadata": {},
   "source": [
    "## Seaborn x Matplotlib: How to use `ax` argument in axes-level plots?\n",
    "\n",
    "Axes-level plots contains an optional argument `ax` that specifies the maplotlib `Axes` object in which to draw the plot. By default, the currently-active `Axes` is used.\n",
    "It allows to use the tools of matplotlib in a seaborn figure."
   ]
  },
  {
   "cell_type": "code",
   "execution_count": null,
   "metadata": {},
   "outputs": [],
   "source": [
    "# Example 1\n",
    "\n",
    "import matplotlib.pyplot as plt\n",
    "\n",
    "# Create the figure and the axes, with a specific figsize\n",
    "fig, ax = plt.subplots(figsize=(8, 6))\n",
    "\n",
    "# Plot the data in the axes\n",
    "sns.histplot(data=weather, x=\"temp_max\", hue=\"year\", multiple=\"stack\", palette=\"viridis\", ax=ax)\n",
    "\n",
    "# Set titles and labels\n",
    "ax.set_title(\"Seaborn x Matplotlib\", fontsize=18)\n",
    "ax.set_xlabel(\"X-axis\", fontsize=18)\n",
    "ax.set_ylabel(\"Y-axis\", fontsize=18)\n",
    "\n",
    "# Save the figure\n",
    "fig.savefig(\"fig.png\")"
   ]
  },
  {
   "cell_type": "code",
   "execution_count": null,
   "metadata": {},
   "outputs": [],
   "source": [
    "# Example 2\n",
    "\n",
    "# Create the figure and the axes, with a specific figsize\n",
    "fig, axes = plt.subplots(nrows=1, ncols=2, figsize=(12, 6), sharey=True, sharex=True)\n",
    "\n",
    "# Plot an histogram in the first ax\n",
    "sns.histplot(data=weather, x=\"temp_max\", hue=\"year\", multiple=\"stack\", palette=\"viridis\", ax=axes[0])\n",
    "\n",
    "# Plot another histogram in the second ax\n",
    "sns.histplot(data=weather, x=\"temp_min\", hue=\"year\", multiple=\"stack\", palette=\"viridis\", ax=axes[1], legend=False) # disable the legend because it is the same as the other chart\n",
    "\n",
    "# Set titles and labels in each subplot\n",
    "axes[0].set_xlabel(\"Maximum temperature\", fontsize=18)\n",
    "axes[0].set_ylabel(\"Count\", fontsize=18)\n",
    "\n",
    "axes[1].set_title(\"Seaborn x Matplotlib\", fontsize=18)\n",
    "axes[1].set_xlabel(\"Minimum temperature\", fontsize=18)\n",
    "axes[1].set_ylabel(\"Count\", fontsize=18)\n",
    "\n"
   ]
  },
  {
   "cell_type": "markdown",
   "metadata": {},
   "source": [
    "## Time series"
   ]
  },
  {
   "cell_type": "markdown",
   "metadata": {},
   "source": [
    "### Long-form data\n",
    "\n",
    "Seaborn can consider teh two data forms when dealing with time series: long and wide.\n",
    "\n",
    "We give the two ways with the weather dataset. Let say that we need to plot the mean temperature versus the time."
   ]
  },
  {
   "cell_type": "code",
   "execution_count": null,
   "metadata": {},
   "outputs": [],
   "source": [
    "# Compute the mean temperature\n",
    "weather[\"temp_mean\"] = (weather[\"temp_max\"] + weather[\"temp_min\"]) / 2"
   ]
  },
  {
   "cell_type": "code",
   "execution_count": null,
   "metadata": {},
   "outputs": [],
   "source": [
    "# Use the function relplot with kind=\"line\"\n",
    "sns.relplot(data=weather[\"temp_mean\"], kind=\"line\", height=10)"
   ]
  },
  {
   "cell_type": "code",
   "execution_count": null,
   "metadata": {},
   "outputs": [],
   "source": [
    "# The function lineplot may be more convenient for resizing the figure\n",
    "fig, ax = plt.subplots(1, 1, figsize=(18, 6))\n",
    "\n",
    "# Just pass the desired column, and make sure that the indexes are the date in the good format\n",
    "sns.lineplot(data=weather[\"temp_mean\"], ax=ax)"
   ]
  },
  {
   "cell_type": "code",
   "execution_count": null,
   "metadata": {},
   "outputs": [],
   "source": [
    "# Here we specify with column is X and which one is Y\n",
    "# Make sure that the date are in a separated column\n",
    "\n",
    "# Add colors with year column\n",
    "fig, ax = plt.subplots(1, 1, figsize=(18, 6))\n",
    "sns.lineplot(data=weather, x=\"date\", y=\"temp_mean\", hue=\"year\", ax=ax, palette=\"tab10\")\n",
    "ax.set_ylabel(\"Mean temperature\")"
   ]
  },
  {
   "cell_type": "code",
   "execution_count": null,
   "metadata": {},
   "outputs": [],
   "source": [
    "# Let say that we want to visualize the temperature versus the month\n",
    "# Need to group the data for each month\n",
    "mean_by_month = weather.groupby(\"month\").mean()\n",
    "\n",
    "# Re-order the months\n",
    "months = [\"January\", \"February\", \"March\",\n",
    "          \"April\", \"May\", \"June\",\n",
    "          \"July\", \"August\", \"September\",\n",
    "          \"October\", \"November\", \"December\"]\n",
    "mean_by_month = mean_by_month.loc[months]\n",
    "\n",
    "fig, ax = plt.subplots(1, 1, figsize=(18, 6))\n",
    "sns.lineplot(data=mean_by_month, x=\"month\", y=\"temp_mean\", ax=ax, palette=\"tab10\")\n",
    "ax.set_ylabel(\"Mean temperature\")"
   ]
  },
  {
   "cell_type": "code",
   "execution_count": null,
   "metadata": {},
   "outputs": [],
   "source": [
    "# In fact, lineplot can do this in one line!\n",
    "# It agregates the data points by month, plots the mean curve and the error bar\n",
    "\n",
    "fig, ax = plt.subplots(1, 1, figsize=(18, 6))\n",
    "sns.lineplot(data=weather, x=\"month\", y=\"temp_mean\", ax=ax, palette=\"tab10\")\n",
    "ax.set_ylabel(\"Mean temperature\")"
   ]
  },
  {
   "cell_type": "code",
   "execution_count": null,
   "metadata": {},
   "outputs": [],
   "source": [
    "# Same with separated years\n",
    "fig, ax = plt.subplots(1, 1, figsize=(18, 6))\n",
    "sns.lineplot(data=weather, x=\"month\", y=\"temp_mean\", hue=\"year\", ax=ax, palette=\"tab10\")\n",
    "ax.set_ylabel(\"Mean temperature\")"
   ]
  },
  {
   "cell_type": "markdown",
   "metadata": {},
   "source": [
    "### Wide-form data\n",
    "\n",
    "It is also possible to plot the time series when the data are in a wide form.\n",
    "\n",
    "Applying this in the previous example, the wide form can have the same three variables (mean temperature, month and year), but they are organized differently. For example, the months are the indexes, the year are the columns and the values of the temperature are stored in the cells of the data."
   ]
  },
  {
   "cell_type": "code",
   "execution_count": null,
   "metadata": {},
   "outputs": [],
   "source": [
    "wide = pd.pivot_table(data=weather, index=\"month\", columns=\"year\", values=\"temp_mean\")\n",
    "\n",
    "# Re-order the months\n",
    "months = [\"January\", \"February\", \"March\",\n",
    "          \"April\", \"May\", \"June\",\n",
    "          \"July\", \"August\", \"September\",\n",
    "          \"October\", \"November\", \"December\"]\n",
    "wide = wide.loc[months]\n",
    "wide"
   ]
  },
  {
   "cell_type": "code",
   "execution_count": null,
   "metadata": {},
   "outputs": [],
   "source": [
    "fig, ax = plt.subplots(1, 1, figsize=(18, 6))\n",
    "sns.lineplot(data=wide, ax=ax, palette=\"tab10\")\n",
    "ax.set_ylabel(\"Mean temperature\")"
   ]
  },
  {
   "cell_type": "markdown",
   "metadata": {},
   "source": [
    "## Combining multiple views on the data\n",
    "\n",
    "The functions `pairplot` and `jointplot` allows to combine many charts in order to analyze the data with different points of view.\n",
    "\n",
    "A joint plot is a 2D visualization chart that displays a scatter plot with density estimates for each axis.\n",
    "A pair plot is a matrix of scatter plot. The data points are plotted by pairs of columns using a scatter plot for each."
   ]
  },
  {
   "cell_type": "markdown",
   "metadata": {},
   "source": [
    "### Joint plot"
   ]
  },
  {
   "cell_type": "code",
   "execution_count": null,
   "metadata": {},
   "outputs": [],
   "source": [
    "# Joint plot / scatter\n",
    "\n",
    "sample = weather.sample(100)\n",
    "\n",
    "months = [\"January\", \"February\", \"March\", \"April\", \"May\", \"June\", \"July\", \"August\", \"September\", \"October\", \"November\", \"December\"]\n",
    "sns.jointplot(data=sample, x=\"temp_max\", y=\"temp_min\", \n",
    "                palette=\"tab10\",\n",
    "                kind=\"scatter\")"
   ]
  },
  {
   "cell_type": "code",
   "execution_count": null,
   "metadata": {},
   "outputs": [],
   "source": [
    "# Joint plot / Hex\n",
    "\n",
    "sample = weather.sample(100)\n",
    "\n",
    "months = [\"January\", \"February\", \"March\", \"April\", \"May\", \"June\", \"July\", \"August\", \"September\", \"October\", \"November\", \"December\"]\n",
    "sns.jointplot(data=sample, x=\"temp_max\", y=\"temp_min\", palette=\"tab10\", kind=\"hex\")"
   ]
  },
  {
   "cell_type": "code",
   "execution_count": null,
   "metadata": {},
   "outputs": [],
   "source": [
    "# Joint plot / Density\n",
    "\n",
    "sample = weather.sample(100)\n",
    "\n",
    "months = [\"January\", \"February\", \"March\", \"April\", \"May\", \"June\", \"July\", \"August\", \"September\", \"October\", \"November\", \"December\"]\n",
    "sns.jointplot(data=sample, x=\"temp_max\", y=\"temp_min\", palette=\"tab10\", kind=\"kde\", fill=True)"
   ]
  },
  {
   "cell_type": "code",
   "execution_count": null,
   "metadata": {},
   "outputs": [],
   "source": [
    "# Joint plot / Density\n",
    "\n",
    "sample = weather.sample(100)\n",
    "\n",
    "months = [\"January\", \"February\", \"March\", \"April\", \"May\", \"June\", \"July\", \"August\", \"September\", \"October\", \"November\", \"December\"]\n",
    "sns.jointplot(data=sample, x=\"temp_max\", y=\"temp_min\", palette=\"tab10\", kind=\"kde\")"
   ]
  },
  {
   "cell_type": "code",
   "execution_count": null,
   "metadata": {},
   "outputs": [],
   "source": [
    "# Joint plot / with regression plot\n",
    "\n",
    "sample = weather.sample(100)\n",
    "\n",
    "months = [\"January\", \"February\", \"March\", \"April\", \"May\", \"June\", \"July\", \"August\", \"September\", \"October\", \"November\", \"December\"]\n",
    "sns.jointplot(data=sample, x=\"temp_max\", y=\"temp_min\", palette=\"tab10\", kind=\"reg\")"
   ]
  },
  {
   "cell_type": "code",
   "execution_count": null,
   "metadata": {},
   "outputs": [],
   "source": [
    "# Joint plot with hue parameter, it works with kind=scatter, kde, hist \n",
    "\n",
    "sample = weather.sample(100)\n",
    "\n",
    "months = [\"January\", \"February\", \"March\", \"April\", \"May\", \"June\", \"July\", \"August\", \"September\", \"October\", \"November\", \"December\"]\n",
    "sns.jointplot(data=sample, x=\"temp_max\", y=\"temp_min\", \n",
    "              hue=\"season\",\n",
    "              palette=\"tab10\",\n",
    "              kind=\"scatter\")"
   ]
  },
  {
   "cell_type": "markdown",
   "metadata": {},
   "source": [
    "### Pair plot"
   ]
  },
  {
   "cell_type": "code",
   "execution_count": null,
   "metadata": {},
   "outputs": [],
   "source": [
    "# Pair plot / IT MAY BE LONG TO COMPUTE\n",
    "# You should take only the numerical columns. Use vars argument\n",
    "# The kind argument changes the kind of the plot (scatter, kde, hist or reg)\n",
    "\n",
    "sample = weather.sample(100)\n",
    "\n",
    "sns.pairplot(data=sample, vars=[\"precipitation\", \"temp_max\", \"temp_min\", \"wind\"], kind=\"scatter\")"
   ]
  },
  {
   "cell_type": "code",
   "execution_count": null,
   "metadata": {},
   "outputs": [],
   "source": [
    "# Pair plot / IT MAY BE LONG TO COMPUTE\n",
    "# You should take only the numerical columns. Use vars argument\n",
    "\n",
    "sample = weather.sample(100)\n",
    "\n",
    "sns.pairplot(data=sample, vars=[\"precipitation\", \"temp_max\", \"temp_min\", \"wind\"], hue=\"season\", palette=\"tab10\", kind=\"scatter\")"
   ]
  }
 ],
 "metadata": {
  "colab": {
   "collapsed_sections": [],
   "name": "dataViz-part1.ipynb",
   "provenance": []
  },
  "kernelspec": {
   "display_name": "Python 3",
   "language": "python",
   "name": "python3"
  },
  "language_info": {
   "codemirror_mode": {
    "name": "ipython",
    "version": 3
   },
   "file_extension": ".py",
   "mimetype": "text/x-python",
   "name": "python",
   "nbconvert_exporter": "python",
   "pygments_lexer": "ipython3",
   "version": "3.8.11"
  }
 },
 "nbformat": 4,
 "nbformat_minor": 4
}
