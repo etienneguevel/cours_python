{
 "cells": [
  {
   "cell_type": "markdown",
   "metadata": {},
   "source": [
    "# Basic plots with Matplotlib and Seaborn"
   ]
  },
  {
   "cell_type": "markdown",
   "metadata": {
    "id": "YosssvHjVS_j"
   },
   "source": [
    "![](https://matplotlib.org/_static/logo_dark.svg)\n",
    "\n",
    "Matplotlib is a comprehensive library for creating static, animated, and interactive visualizations in Python. It is widely used for generating high-quality plots, charts, histograms, and other graphical representations of data.\n",
    "\n",
    "Matplotlib provides a flexible interface for constructing a wide range of visualizations, making it suitable for both simple exploratory data analysis and complex data visualization tasks.\n",
    "\n",
    "## Online Documentation\n",
    "\n",
    "The [matplotlib.org](https://matplotlib.org/) project website is the primary online resource for the library's documentation. It contains the example galleries, FAQs, API documentation, and tutorials.\n",
    "You can take a look at the [Gallery](https://matplotlib.org/stable/gallery/index.html) and the [tutorial](https://github.com/matplotlib/AnatomyOfMatplotlib) to see the variety of ways one can make figures.\n",
    "\n",
    "## Basics of Matplotlib\n",
    "\n",
    "Let's start by taking a closer look at the anatomy of a Matplolib plot.\n",
    "\n",
    "First of all, Matplotlib is based on two main concepts: \n",
    "* **Figure:** a container that holds all elements of the plot, including a title, a legend or a color bar. It can contain one or more axes.\n",
    "* **Axes:** the area where data is plotted. A given figure can contain many Axes arranged in a grid, but a given Axes object can only be in one Figure. The Axes contains two (or three in the case of 3D visualisation) Axis objects (x and y).\n",
    "\n",
    "![](https://gitlabsu.sorbonne-universite.fr/scai/data-visualization/-/raw/main/assets/Figure_Axes.png)\n",
    "\n",
    "\n",
    "\n",
    "## Two approaches for creating a plot\n",
    "\n",
    "There are two ways to plot data using matplotlib.\n",
    "\n",
    "**Simple approach**\n",
    "\n",
    "In the simple approach, specific functions are used as interfaces to the underlying plotting library in matplotlib. It means that figures and axes are implicitly and automatically created to achieve the desired plot. \n",
    "\n",
    "For example, calling `plt.plot` will automatically create the necessary figure and axes to achieve the desired plot, as follows:\n",
    "\n",
    "```python\n",
    "import matplotlib.pyplot as plt # usual import of matplotlib\n",
    "import numpy as np # import numpy for data sampling\n",
    "\n",
    "# Sample data\n",
    "x = np.linspace(0, 10, 100)\n",
    "y = np.sin(x)\n",
    "\n",
    "plt.plot(x, y)\n",
    "plt.title(\"Simple Approach\", fontsize=18)\n",
    "plt.xlabel(\"X-axis\", fontsize=18)\n",
    "plt.ylabel(\"Y-axis\", fontsize=18)\n",
    "plt.show() # not necessary in Jupyter Notebook and Google Colab\n",
    "```\n",
    "\n",
    "Note that calling the function `plt.figure` can be useful if you want to modify the dimensions of the figure:\n",
    "\n",
    "```python\n",
    "plt.figure(figsize=(8, 6))\n",
    "```\n",
    "\n",
    "\n",
    "**Advanced approach**\n",
    "\n",
    "In comparison, the advanced (and more complicated) way needs to create the figure and the axes separately and then to add the chart:\n",
    "\n",
    "```python\n",
    " # Create the figure\n",
    "fig = plt.figure()\n",
    "\n",
    "# Create axes from the figure, setting the dimensions within the figure\n",
    "ax = fig.add_axes([0, 0, 1, 1])\n",
    "\n",
    "# Plot the data in the axes\n",
    "ax.plot(x, y)\n",
    "\n",
    "# Set the title and the axis labels\n",
    "ax.set_title(\"Advanced Approach\", fontsize=18)\n",
    "ax.set_xlabel(\"X-axis\", fontsize=18)\n",
    "ax.set_ylabel(\"Y-axis\", fontsize=18)\n",
    "```\n",
    "\n",
    "One other way, using the function `plt.subplots` that creates the figure and the axes in one line:\n",
    "\n",
    "```python\n",
    "# Create the figure and the axes, with a specific figsize\n",
    "fig, ax = plt.subplots(figsize=(8, 6))\n",
    "\n",
    "# Plot the data in the axes\n",
    "ax.plot(x, y)\n",
    "\n",
    "# Plot the data in the axes\n",
    "ax.set_title(\"Advanced Approach\", fontsize=18)\n",
    "ax.set_xlabel(\"X-axis\", fontsize=18)\n",
    "ax.set_ylabel(\"Y-axis\", fontsize=18)\n",
    "```"
   ]
  },
  {
   "cell_type": "code",
   "execution_count": null,
   "metadata": {
    "colab": {
     "base_uri": "https://localhost:8080/",
     "height": 374
    },
    "id": "ts8gVPx_gGHP",
    "outputId": "a87b7cba-3c48-4c40-9734-5f7684cb40fe"
   },
   "outputs": [],
   "source": [
    "# Usual import\n",
    "import matplotlib.pyplot as plt\n",
    "\n",
    "# Needed in the following\n",
    "import pandas as pd\n",
    "import numpy as np"
   ]
  },
  {
   "cell_type": "markdown",
   "metadata": {},
   "source": [
    "## Data sampling"
   ]
  },
  {
   "cell_type": "code",
   "execution_count": null,
   "metadata": {},
   "outputs": [],
   "source": [
    "# generate data\n",
    "x = np.random.normal(0, 1, 1000)\n",
    "y = np.random.normal(0, 1, 1000)"
   ]
  },
  {
   "cell_type": "markdown",
   "metadata": {},
   "source": [
    "## Save a figure"
   ]
  },
  {
   "cell_type": "code",
   "execution_count": null,
   "metadata": {},
   "outputs": [],
   "source": [
    "# The figure can be saved using the savefig method\n",
    "\n",
    "x = np.linspace(0, 10, 100)\n",
    "y = np.sin(x)\n",
    "\n",
    "# First need to get a  fig object\n",
    "fig = plt.figure()\n",
    "\n",
    "# Plot the data\n",
    "plt.plot(x, y)\n",
    "\n",
    "# Save the figure\n",
    "fig.savefig(\"some_figure.png\")"
   ]
  },
  {
   "cell_type": "markdown",
   "metadata": {},
   "source": [
    "## One-dimensional charts\n",
    "\n",
    "One-dimensional charts refers to plotting the values of a single variable:\n",
    "* histogram and density: distribution of numerical values\n",
    "* barplot and piechart: distribution of categorical values\n",
    "* lineplot: lines/timeseries plot"
   ]
  },
  {
   "cell_type": "markdown",
   "metadata": {},
   "source": [
    "### Histrogram"
   ]
  },
  {
   "cell_type": "code",
   "execution_count": null,
   "metadata": {},
   "outputs": [],
   "source": [
    "# Histogram, numerical 1D data\n",
    "\n",
    "# Create the figure with a specific size\n",
    "plt.figure(figsize=(8, 6))\n",
    "\n",
    "# Plot\n",
    "plt.hist(x)\n",
    "\n",
    "# Set title and labels\n",
    "plt.title(\"Histogram\")\n",
    "plt.xlabel(\"Values\")\n",
    "plt.ylabel(\"Frequency\")"
   ]
  },
  {
   "cell_type": "code",
   "execution_count": null,
   "metadata": {},
   "outputs": [],
   "source": [
    "# Histogram, numerical 1D data with a different style\n",
    "\n",
    "# Create the figure with a specific size\n",
    "plt.figure(figsize=(8, 6))\n",
    "\n",
    "# Plot\n",
    "plt.hist(x, bins=30, color=\"skyblue\", edgecolor=\"black\")\n",
    "\n",
    "# Set title and labels\n",
    "plt.title(\"Histogram\")\n",
    "plt.xlabel(\"Values\")\n",
    "plt.ylabel(\"Frequency\")"
   ]
  },
  {
   "cell_type": "code",
   "execution_count": null,
   "metadata": {},
   "outputs": [],
   "source": [
    "# With a title and axis labels\n",
    "\n",
    "plt.hist(x)\n",
    "\n",
    "plt.title(\"Example of an histogram\")\n",
    "plt.xlabel(\"Bins\")\n",
    "plt.ylabel(\"Frequencies\")"
   ]
  },
  {
   "cell_type": "code",
   "execution_count": null,
   "metadata": {},
   "outputs": [],
   "source": [
    "# Alternativelly\n",
    "\n",
    "# First create the figure object\n",
    "fig = plt.figure()\n",
    "\n",
    "# Create the axes object\n",
    "ax = fig.add_axes([0, 0, 1, 1])\n",
    "\n",
    "# Build the chart within the axes\n",
    "ax.hist(x, bins=30, color=\"skyblue\", edgecolor=\"black\")\n",
    "\n",
    "# Set title and labels\n",
    "ax.set_title(\"Histogram\")\n",
    "ax.set_xlabel(\"Values\")\n",
    "ax.set_ylabel(\"Frequency\")"
   ]
  },
  {
   "cell_type": "markdown",
   "metadata": {},
   "source": [
    "### Boxplot: visualize statistics of numerical values\n",
    "\n",
    "A boxplot shows the three quartile values of the distribution along with extreme values."
   ]
  },
  {
   "cell_type": "code",
   "execution_count": null,
   "metadata": {},
   "outputs": [],
   "source": [
    "# Boxplot\n",
    "\n",
    "plt.boxplot(x, labels=[\"Some variable\"])\n",
    "plt.title(\"Example of a boxplot\")\n",
    "plt.ylabel(\"Values\")"
   ]
  },
  {
   "cell_type": "code",
   "execution_count": null,
   "metadata": {},
   "outputs": [],
   "source": [
    "# Many boxplots / variables comparison\n",
    "\n",
    "# The data are stored in a dictionnary for a convenient use\n",
    "data = {\n",
    "    \"variable 1\": np.random.normal(0, 1, 1000),\n",
    "    \"variable 2\": np.random.normal(1, 1, 1000),\n",
    "    \"variable 3\": np.random.normal(3, 1, 1000)\n",
    "}\n",
    "\n",
    "plt.boxplot(data.values(), labels=data.keys())\n",
    "plt.title(\"Many boxplots\")\n",
    "plt.ylabel(\"Values\")"
   ]
  },
  {
   "cell_type": "markdown",
   "metadata": {},
   "source": [
    "### Bar plots and Pie chart\n",
    "\n",
    "Visualizing categories"
   ]
  },
  {
   "cell_type": "code",
   "execution_count": null,
   "metadata": {},
   "outputs": [],
   "source": [
    "# Generate example data\n",
    "categories = [\"A\", \"B\", \"C\", \"D\"]\n",
    "counts = [20, 35, 30, 25]\n",
    "\n",
    "plt.bar(categories, counts, color=\"orange\")\n",
    "plt.title(\"Bar Plot\")\n",
    "plt.xlabel(\"Categories\")\n",
    "plt.ylabel(\"Values\")"
   ]
  },
  {
   "cell_type": "code",
   "execution_count": null,
   "metadata": {},
   "outputs": [],
   "source": [
    "# Horizontal bar plot\n",
    "\n",
    "# Generate example data\n",
    "categories = [\"A\", \"B\", \"C\", \"D\"]\n",
    "counts = [20, 35, 30, 25]\n",
    "\n",
    "plt.barh(categories, counts, color=\"green\")\n",
    "plt.title(\"Bar Plot\")\n",
    "plt.xlabel(\"Categories\")\n",
    "plt.ylabel(\"Values\")"
   ]
  },
  {
   "cell_type": "code",
   "execution_count": null,
   "metadata": {},
   "outputs": [],
   "source": [
    "# Exercise: load the weather dataset and create a barplot with the variable \"weather\"\n",
    "# Tip: the first need to count the number of samples for each category\n",
    "\n",
    "weather = pd.read_csv(\"https://gitlabsu.sorbonne-universite.fr/scai/data-visualization/-/raw/main/data/weather.csv\", sep=\";\")\n",
    "\n",
    "# TO DO"
   ]
  },
  {
   "cell_type": "code",
   "execution_count": null,
   "metadata": {},
   "outputs": [],
   "source": [
    "# Piechart\n",
    "# The piechart takes a list of categories and a list of the number of samples for each category.\n",
    "# Then is compute the proportion of each category. The areas of the chart must sum to 1\n",
    "\n",
    "# Reference: https://chartio.com/learn/charts/pie-chart-complete-guide/\n",
    "\n",
    "# Generate example data\n",
    "categories = [\"A\", \"B\", \"C\", \"D\"]\n",
    "counts = [20, 35, 30, 25]\n",
    "\n",
    "plt.pie(counts, labels=categories, autopct='%1.1f%%')\n",
    "plt.title(\"Bar Plot\")"
   ]
  },
  {
   "cell_type": "markdown",
   "metadata": {},
   "source": [
    "### Line plot / time series"
   ]
  },
  {
   "cell_type": "code",
   "execution_count": null,
   "metadata": {},
   "outputs": [],
   "source": [
    "# Line plot using plt.plot\n",
    "\n",
    "# Samples\n",
    "x = np.linspace(0, 10, 100)\n",
    "y = np.sin(x)\n",
    "\n",
    "plt.plot(x, y, color=\"green\")\n",
    "plt.title(\"Line Plot\")\n",
    "plt.xlabel(\"X-axis\")\n",
    "plt.ylabel(\"Y-axis\")"
   ]
  },
  {
   "cell_type": "code",
   "execution_count": null,
   "metadata": {},
   "outputs": [],
   "source": [
    "# Many lines: just stack the plt.plot instructions\n",
    "# We also add a legend\n",
    "\n",
    "# Samples\n",
    "x = np.linspace(0, 10, 100)\n",
    "y = np.sin(x)\n",
    "\n",
    "# Plots\n",
    "plt.plot(x, y, label=\"Line 1\")\n",
    "plt.plot(x+1, y, label=\"Line 2\")\n",
    "plt.plot(x+2, y, label=\"Line 3\")\n",
    "\n",
    "# Title and labels\n",
    "plt.title(\"Line Plot\")\n",
    "plt.xlabel(\"X-axis\")\n",
    "plt.ylabel(\"Y-axis\")\n",
    "\n",
    "# Legend\n",
    "plt.legend()"
   ]
  },
  {
   "cell_type": "code",
   "execution_count": null,
   "metadata": {},
   "outputs": [],
   "source": [
    "# What about time series?\n",
    "\n",
    "# Sample time series data\n",
    "data_1 = {\n",
    "    \"Date\": pd.date_range(start=\"2022-01-01\", periods=1000),\n",
    "    \"Value\": np.random.randn(1000).cumsum() # random generation of number and cumulative sum\n",
    "}\n",
    "\n",
    "data_2 = {\n",
    "    \"Date\": pd.date_range(start=\"2022-01-01\", periods=1000),\n",
    "    \"Value\": np.random.randn(1000).cumsum() # random generation of number and cumulative sum\n",
    "}\n",
    "\n",
    "# Set the figure size\n",
    "plt.figure(figsize=(10, 6))\n",
    "\n",
    "# Plotting the time series\n",
    "plt.plot(data_1[\"Date\"], data_1[\"Value\"], linestyle=\"-\", label=\"Time series 1\")\n",
    "plt.plot(data_2[\"Date\"], data_2[\"Value\"], linestyle=\"-\", label=\"Time series 2\")\n",
    "\n",
    "# Title and labels\n",
    "plt.title(\"Time Series Plot\")\n",
    "plt.xlabel(\"Date\")\n",
    "plt.ylabel(\"Value\")\n",
    "\n",
    "# legend\n",
    "plt.legend()\n",
    "\n",
    "# Add a grid in the background\n",
    "plt.grid(True)"
   ]
  },
  {
   "cell_type": "markdown",
   "metadata": {},
   "source": [
    "## Two-dimensional charts\n",
    "\n",
    "Two-dimensional charts refers to visualize the values of two variables together. The goal is basically to compare and analyze the correlations of these two variables.\n",
    "* scatter plot\n",
    "* heatmap"
   ]
  },
  {
   "cell_type": "markdown",
   "metadata": {},
   "source": [
    "### Scatter plots"
   ]
  },
  {
   "cell_type": "code",
   "execution_count": null,
   "metadata": {},
   "outputs": [],
   "source": [
    "# Case 1: one group of data points\n",
    "\n",
    "# Generate data\n",
    "x = np.random.normal(0, 1, 1000)\n",
    "y = np.random.normal(0, 1, 1000)\n",
    "\n",
    "# scatter\n",
    "plt.scatter(x, y, color=\"red\")\n",
    "\n",
    "plt.title(\"Some title\")\n",
    "plt.xlabel(\"Label for X\")\n",
    "plt.ylabel(\"Label for Y\")\n",
    "\n",
    "# Change the limits of the axis\n",
    "plt.xlim(-3, 3)\n",
    "plt.ylim(-3, 3)"
   ]
  },
  {
   "cell_type": "code",
   "execution_count": null,
   "metadata": {},
   "outputs": [],
   "source": [
    "# Case 2: two groups of data points\n",
    "\n",
    "# Generate data\n",
    "x1 = np.random.normal(0, 1, 100)\n",
    "y1 = np.random.normal(0, 1, 100)\n",
    "\n",
    "x2 = np.random.normal(5, 1, 100)\n",
    "y2 = np.random.normal(5, 1, 100)\n",
    "\n",
    "\n",
    "# Two scatters for the two groups\n",
    "# Here we add a 50% transparency to the data points using alpha=.5\n",
    "\n",
    "plt.scatter(x1, y1, label=\"Group 1\", alpha=.5)\n",
    "plt.scatter(x2, y2, label=\"Group 2\", alpha=.5)\n",
    "\n",
    "plt.title(\"Scatter plot with two groups\")\n",
    "plt.xlabel(\"Label for X\")\n",
    "plt.ylabel(\"Label for Y\")\n",
    "plt.legend()\n",
    "\n",
    "# Add a grid on the Y-axis\n",
    "plt.grid(True, axis=\"y\")"
   ]
  },
  {
   "cell_type": "markdown",
   "metadata": {},
   "source": [
    "### Bubble plot\n",
    "\n",
    "A bubble plot is a scatter plot whose data points have different sizes refering a third variable. It allows to plot data points in 3D."
   ]
  },
  {
   "cell_type": "code",
   "execution_count": null,
   "metadata": {},
   "outputs": [],
   "source": [
    "x3 = np.random.uniform(0, 1, 100)\n",
    "plt.scatter(x1, y1, s=x3*1000, label=\"Group 1\", alpha=.5)"
   ]
  },
  {
   "cell_type": "markdown",
   "metadata": {},
   "source": [
    "### Heatmap\n",
    "\n",
    "Heatmaps are useful for visualizing the distribution or relationships between two-dimensional data, such as correlation matrices, spatial data, or density plots.\n",
    "\n",
    "The function in matplotlib is `imshow`. Specifying the colormap (`cmap`) modifies the color contrast of the pixels. Setting the interpolation to `nearest` allows avoiding smoothing.\n",
    "\n",
    "Colormaps documentation: https://matplotlib.org/stable/users/explain/colors/colormaps.html"
   ]
  },
  {
   "cell_type": "code",
   "execution_count": null,
   "metadata": {},
   "outputs": [],
   "source": [
    "# Generate sample data for the heatmap, a matrix of size 10x10\n",
    "data = np.random.rand(10, 10)"
   ]
  },
  {
   "cell_type": "code",
   "execution_count": null,
   "metadata": {},
   "outputs": [],
   "source": [
    "# Create the heatmap\n",
    "\n",
    "# Create the figure\n",
    "plt.figure(figsize=(8, 6))\n",
    "\n",
    "# Create heatmap with a colorbar indicating the values of the cells\n",
    "plt.imshow(data, cmap=\"viridis\", interpolation=\"nearest\")\n",
    "plt.colorbar(label=\"Value\")\n",
    "plt.title(\"Heatmap Example\")"
   ]
  },
  {
   "cell_type": "markdown",
   "metadata": {},
   "source": [
    "In general, your data is not a matrix format. You might prepare the data before creating the heatmap.\n",
    "\n",
    "For example, the data contains two categorical variables `categorical_1` and `categorical_2` and one numerical variable `values`.\n",
    "Let's say that you want to visualize the values of `numerical` for each category given by the two features together.\n",
    "\n",
    "```yaml\n",
    "categorical_1  categorical_2  values\n",
    "A              AA             50\n",
    "B              BB             45\n",
    "C              CC             60\n",
    "...            ...            ...\n",
    "```"
   ]
  },
  {
   "cell_type": "code",
   "execution_count": null,
   "metadata": {},
   "outputs": [],
   "source": [
    "# Generate a toy example\n",
    "cat_1 = np.random.choice([\"A\", \"B\", \"C\", \"D\", \"E\", \"F\"], 1000)\n",
    "cat_2 = np.random.choice([\"AA\", \"BB\", \"CC\", \"DD\", \"EE\", \"FF\"], 1000)\n",
    "values = np.random.uniform(0, 100, 1000)\n",
    "data = pd.DataFrame({\"categorical_1\": cat_1, \"categorical_2\": cat_2, \"values\": values})\n",
    "data"
   ]
  },
  {
   "cell_type": "code",
   "execution_count": null,
   "metadata": {},
   "outputs": [],
   "source": [
    "# Build a pivot table from the dataset\n",
    "df = data.pivot_table(index=\"categorical_1\", columns=\"categorical_2\", values=\"values\", aggfunc=\"mean\")\n",
    "df"
   ]
  },
  {
   "cell_type": "code",
   "execution_count": null,
   "metadata": {},
   "outputs": [],
   "source": [
    "# Create the figure\n",
    "fit, ax = plt.subplots(figsize=(12, 8))\n",
    "\n",
    "# Create the heatmap\n",
    "plt.imshow(df)\n",
    "\n",
    "# Change the ticks labels to the categories\n",
    "ax.set_xticks(np.arange(df.shape[1]), labels=list(df.columns))\n",
    "ax.set_yticks(np.arange(df.shape[0]), labels=list(df.index))\n",
    "\n",
    "# Axis labels and colorbar\n",
    "ax.set_xlabel(\"categorical_2\")\n",
    "ax.set_ylabel(\"categorical_1\")\n",
    "plt.colorbar(label=\"Value\")"
   ]
  },
  {
   "cell_type": "code",
   "execution_count": null,
   "metadata": {},
   "outputs": [],
   "source": [
    "# Exercise: apply the previous cells to the weather dataset. Ex: visualize the mean temperature for each month and each year\n",
    "# Tip: you first need to extract the year from the dates\n",
    "\n",
    "# TO DO"
   ]
  },
  {
   "cell_type": "markdown",
   "metadata": {},
   "source": [
    "## Creating multiple subplots\n",
    "\n",
    "In matplotlib, a subplot refers to a grid-based layout of multiple plots within a single figure. Subplots allow you to visualize and compare different aspects of your data side by side, making it easier to explore relationships and patterns. \n",
    "\n",
    "The `plt.subplot()` function is used to create subplots, and it takes three arguments: the number of rows (`nrows`), the number of columns (`ncols`), and the index of the subplot you want to create. The index starts from 1 and increases row-wise. For example, `plt.subplot(1, 2, 1)` creates a grid with 1 row and 2 columns and selects the first subplot in the grid. Similarly, `plt.subplot(1, 2, 2)` selects the second subplot, and so on.\n",
    "\n",
    "Example:\n",
    "\n",
    "```python\n",
    "# Create a grid of two plots side-by-side\n",
    "# plot an histogram in the first plot and a boxplot in the second one\n",
    "\n",
    "plt.subplot(1, 2, 1)\n",
    "plt.hist(x)\n",
    "\n",
    "plt.subplot(1, 2, 2)\n",
    "plt.boxplot(x)\n",
    "```"
   ]
  },
  {
   "cell_type": "code",
   "execution_count": null,
   "metadata": {},
   "outputs": [],
   "source": [
    "# Exercise: use the function plt.subplot with one of the datasets.\n",
    "\n",
    "# TO DO"
   ]
  },
  {
   "cell_type": "markdown",
   "metadata": {},
   "source": [
    "\n",
    "Another convient way to create subplots uses the function `plt.subplots`. It creates the figure and the axes in the same time allowing to pass additional keyword arguments the (internal) `plt.figure` call.\n",
    "Otherwise, the function `plt.subplots` takes two arguments: the number of rows (`nrows`), the number of columns (`ncols`). It returns a figure object and the axes objects (an array of possibly many axes).\n",
    "\n",
    "Example:\n",
    "\n",
    "```python\n",
    "# Create a grid of two plots side-by-side, set the figure size.\n",
    "# plot an histogram in the first plot and a boxplot in the second one\n",
    "\n",
    "fig, axes = plt.subplots(nrows=1, ncols=2, figsize=(12, 8))\n",
    "axes[0].hist(x)\n",
    "axes[1].boxplot(x)\n",
    "```"
   ]
  },
  {
   "cell_type": "code",
   "execution_count": null,
   "metadata": {},
   "outputs": [],
   "source": [
    "# Exercise: use the function plt.subplots with one of the datasets.\n",
    "\n",
    "# TO DO"
   ]
  },
  {
   "cell_type": "markdown",
   "metadata": {},
   "source": [
    "### Stacking subplots\n",
    "\n",
    "Stacking many subplots is possible using the two previous functions by setting nrows and ncols larger than 1.\n",
    "In particular, when calling the function `plt.subplot`, we just need to increase the plot index as shown in the example below:\n",
    "\n",
    "```python\n",
    "# Create a grid of four plots, 2 rows and 2 cols\n",
    "\n",
    "plt.subplot(2, 2, 1)\n",
    "plt.hist(x)\n",
    "\n",
    "plt.subplot(2, 2, 2)\n",
    "plt.boxplot(x)\n",
    "\n",
    "plt.subplot(2, 2, 3)\n",
    "plt.scatter(x, x)\n",
    "\n",
    "plt.subplot(2, 2, 4)\n",
    "plt.hist(y)\n",
    "```\n",
    "\n",
    "But there is a difference when using the function `plt.subplots`. The axes returned by the function is a 2D numpy array. So the access to the axes object is a bit more complicated, especially if you want to customize the plots.\n",
    "\n",
    "```python\n",
    "fig, axes = plt.subplots(2, 2)\n",
    "\n",
    "axs[0, 0].plot(x, y)\n",
    "axs[0, 0].set_title('Axis [0, 0]')\n",
    "\n",
    "axs[0, 1].plot(x, y)\n",
    "axs[0, 1].set_title('Axis [0, 1]')\n",
    "\n",
    "axs[1, 0].plot(x, -y)\n",
    "axs[1, 0].set_title('Axis [1, 0]')\n",
    "\n",
    "axs[1, 1].plot(x, -y)\n",
    "axs[1, 1].set_title('Axis [1, 1]')\n",
    "```\n",
    "\n",
    "If you have to set parameters for each subplot it's handy to flatten the `axes` object using axes.flat and to iterate over it. Example:\n",
    "\n",
    "```python\n",
    "for ax in axes.flat:\n",
    "    ax.set_xlabel(\"X Label\")\n",
    "    ax.set_ylabel(\"Y Label\")\n",
    "```"
   ]
  },
  {
   "cell_type": "code",
   "execution_count": null,
   "metadata": {},
   "outputs": [],
   "source": [
    "# Exercise: use the function plt.subplots with one of the datasets.\n",
    "\n",
    "# TO DO"
   ]
  },
  {
   "cell_type": "markdown",
   "metadata": {},
   "source": [
    "### Sharing axes\n",
    "\n",
    "By default, each axes is scaled individually. Thus, if the ranges are different the tick values of the subplots do not align."
   ]
  },
  {
   "cell_type": "code",
   "execution_count": null,
   "metadata": {},
   "outputs": [],
   "source": [
    "# Data for the example\n",
    "x = np.linspace(0, 2*np.pi, 400)\n",
    "y = np.sin(x**2)"
   ]
  },
  {
   "cell_type": "code",
   "execution_count": null,
   "metadata": {},
   "outputs": [],
   "source": [
    "# Create the subplot and store the axes objects in ax1 and ax2\n",
    "fig, (ax1, ax2) = plt.subplots(2)\n",
    "ax1.plot(x, y)\n",
    "ax2.plot(x + 1, -y)"
   ]
  },
  {
   "cell_type": "markdown",
   "metadata": {},
   "source": [
    "You can use `sharex` or `sharey` to align the horizontal or vertical axis."
   ]
  },
  {
   "cell_type": "code",
   "execution_count": null,
   "metadata": {},
   "outputs": [],
   "source": [
    "# sharex=True\n",
    "fig, (ax1, ax2) = plt.subplots(2, sharex=True) # or sharex=\"all\"\n",
    "ax1.plot(x, y)\n",
    "ax2.plot(x + 1, -y)"
   ]
  },
  {
   "cell_type": "markdown",
   "metadata": {},
   "source": [
    "# Seaborn library\n",
    "\n",
    "Seaborn is a Python visualization library based on matplotlib that provides a high-level interface for creating attractive and informative statistical graphics.\n",
    "\n",
    "**Statistical data visualization**\n",
    "\n",
    "Seaborn simplifies the creation of complex statistical plots by providing functions for common visualization tasks such as plotting univariate and bivariate distributions, visualizing linear relationships, and exploring pairwise relationships in datasets.\n",
    "\n",
    "**Integration with pandas**\n",
    "\n",
    "Seaborn seamlessly integrates with pandas data frames, allowing users to directly pass DataFrame objects to plotting functions. This integration makes it easy to work with tabular data and visualize patterns and relationships within datasets.\n",
    "\n",
    "**Default Aesthetics**\n",
    "\n",
    "Seaborn enhances the visual appeal of plots by providing attractive default aesthetics, including color palettes, themes, and styles. These defaults can be easily customized to match specific preferences or the requirements of a particular analysis.\n",
    "\n",
    "**Advanced Features**\n",
    "\n",
    "Seaborn includes advanced features for visualizing complex relationships in data, such as conditional plots, faceting, and multivariate analysis. These features enable users to explore and visualize high-dimensional datasets effectively.\n",
    "\n",
    "*Remark: As seaborn is based on matplotlib, many matplotlib functions can (or should) be used with seaborn, in particular for titles, axis labels, legends, etc.*\n",
    "\n",
    "\n",
    "\n",
    "![](https://seaborn.pydata.org/_static/logo-wide-lightbg.svg)\n",
    "\n",
    "Official documentation: https://seaborn.pydata.org\n"
   ]
  },
  {
   "cell_type": "markdown",
   "metadata": {},
   "source": [
    "## Usual import"
   ]
  },
  {
   "cell_type": "code",
   "execution_count": null,
   "metadata": {},
   "outputs": [],
   "source": [
    "import seaborn as sns"
   ]
  },
  {
   "cell_type": "markdown",
   "metadata": {},
   "source": [
    "## Change the visual theme\n",
    "\n",
    "Set aspects of the visual theme for all matplotlib and seaborn plots.\n",
    "\n",
    "Be aware that calling the function `set_theme` will change the style of every matplotlib figures.\n",
    "\n",
    "See https://seaborn.pydata.org/generated/seaborn.set_theme.html"
   ]
  },
  {
   "cell_type": "code",
   "execution_count": null,
   "metadata": {},
   "outputs": [],
   "source": [
    "sns.set_theme()"
   ]
  },
  {
   "cell_type": "markdown",
   "metadata": {},
   "source": [
    "## Histogram and density"
   ]
  },
  {
   "cell_type": "code",
   "execution_count": null,
   "metadata": {},
   "outputs": [],
   "source": [
    "data = np.random.normal(size=10000)"
   ]
  },
  {
   "cell_type": "code",
   "execution_count": null,
   "metadata": {},
   "outputs": [],
   "source": [
    "# Simple histogram\n",
    "sns.histplot(data)"
   ]
  },
  {
   "cell_type": "code",
   "execution_count": null,
   "metadata": {},
   "outputs": [],
   "source": [
    "# Histogram and density estimator in the same figure\n",
    "sns.histplot(data, kde=True)\n",
    "\n",
    "# Some matplotlib functions\n",
    "plt.title(\"A seaborn histogram\")\n",
    "plt.xlabel(\"Values\")\n",
    "plt.ylabel(\"Frequency\")"
   ]
  },
  {
   "cell_type": "code",
   "execution_count": null,
   "metadata": {},
   "outputs": [],
   "source": [
    "# Change the background style\n",
    "sns.set_theme(style=\"whitegrid\")\n",
    "\n",
    "# Density estimator\n",
    "sns.kdeplot(data)\n",
    "\n",
    "# Some matplotlib functions\n",
    "plt.title(\"Density estimator\")\n",
    "plt.xlabel(\"Values\")\n",
    "plt.ylabel(\"Frequency\")"
   ]
  },
  {
   "cell_type": "code",
   "execution_count": null,
   "metadata": {},
   "outputs": [],
   "source": [
    "# Change the background style\n",
    "sns.set_theme(style=\"whitegrid\")\n",
    "\n",
    "# Density estimator\n",
    "sns.kdeplot(data, fill=True, color=\"orange\")\n",
    "\n",
    "# Some matplotlib functions\n",
    "plt.title(\"Density estimator\")\n",
    "plt.xlabel(\"Values\")\n",
    "plt.ylabel(\"Frequency\")"
   ]
  },
  {
   "cell_type": "code",
   "execution_count": null,
   "metadata": {},
   "outputs": [],
   "source": [
    "# Two density plots in the same chart\n",
    "\n",
    "sns.kdeplot(data, fill=True, label=\"Data 1\")\n",
    "\n",
    "# Generate another dataset and plot it\n",
    "data = np.random.normal(4, 1, size=10000)\n",
    "sns.kdeplot(data, fill=True, color=\"orange\", label=\"Data 2\")\n",
    "\n",
    "plt.legend()\n"
   ]
  },
  {
   "cell_type": "code",
   "execution_count": null,
   "metadata": {},
   "outputs": [],
   "source": [
    "# Another way using a data frame\n",
    "\n",
    "data_1 = np.random.normal(0, 1, size=1000)\n",
    "data_2 = np.random.normal(4, 1, size=1000)\n",
    "df = pd.DataFrame({\"data_1\": data_1, \"data_2\": data_2})\n",
    "\n",
    "# Just one boxplot calling\n",
    "sns.kdeplot(data=df, fill=True)"
   ]
  },
  {
   "cell_type": "markdown",
   "metadata": {},
   "source": [
    "## Boxplot"
   ]
  },
  {
   "cell_type": "code",
   "execution_count": null,
   "metadata": {},
   "outputs": [],
   "source": [
    "# Default theme\n",
    "sns.set_theme()"
   ]
  },
  {
   "cell_type": "code",
   "execution_count": null,
   "metadata": {},
   "outputs": [],
   "source": [
    "# Simple boxplot, horizontally\n",
    "sns.boxplot(x=data)"
   ]
  },
  {
   "cell_type": "code",
   "execution_count": null,
   "metadata": {},
   "outputs": [],
   "source": [
    "# Simple boxplot, horizontally\n",
    "sns.boxplot(y=data)"
   ]
  },
  {
   "cell_type": "code",
   "execution_count": null,
   "metadata": {},
   "outputs": [],
   "source": [
    "# What if we try to plot two boxplots in the same chart?\n",
    "# Is it what you want?\n",
    "\n",
    "data = np.random.normal(0, 1, size=1000)\n",
    "sns.boxplot(y=data)\n",
    "\n",
    "# Generate another dataset and plot it\n",
    "data = np.random.normal(4, 1, size=1000)\n",
    "sns.boxplot(y=data)"
   ]
  },
  {
   "cell_type": "code",
   "execution_count": null,
   "metadata": {},
   "outputs": [],
   "source": [
    "# SOLUTION: Pass a data frame instead of the two series of data\n",
    "\n",
    "# Create the data frame (or import it)\n",
    "data_1 = np.random.normal(0, 1, size=1000)\n",
    "data_2 = np.random.normal(4, 1, size=1000)\n",
    "df = pd.DataFrame({\"data_1\": data_1, \"data_2\": data_2})\n",
    "\n",
    "# Just one boxplot calling\n",
    "sns.boxplot(data=df)"
   ]
  },
  {
   "cell_type": "code",
   "execution_count": null,
   "metadata": {},
   "outputs": [],
   "source": [
    "# Exercise: use one of the CSV datasets, visualize and compare distributions with histplot, kdeplot or boxplot\n",
    "\n",
    "# TO DO"
   ]
  },
  {
   "cell_type": "markdown",
   "metadata": {},
   "source": [
    "## Barplot"
   ]
  },
  {
   "cell_type": "code",
   "execution_count": null,
   "metadata": {},
   "outputs": [],
   "source": [
    "# Create a data frame with categories and values\n",
    "df = pd.DataFrame({\n",
    "    \"categories\": [\"A\", \"B\", \"C\"],\n",
    "    \"values\": [10, 20, 30]\n",
    "})"
   ]
  },
  {
   "cell_type": "code",
   "execution_count": null,
   "metadata": {},
   "outputs": [],
   "source": [
    "# Barplot, vertically\n",
    "# Use x and y argument with the names of the columns\n",
    "sns.barplot(data=df, x=\"categories\", y=\"values\")"
   ]
  },
  {
   "cell_type": "code",
   "execution_count": null,
   "metadata": {},
   "outputs": [],
   "source": [
    "# Barplot, horizontally\n",
    "# Use x and y argument with the names of the columns\n",
    "sns.barplot(data=df, y=\"categories\", x=\"values\")"
   ]
  },
  {
   "cell_type": "markdown",
   "metadata": {},
   "source": [
    "## Line plot and time series"
   ]
  },
  {
   "cell_type": "code",
   "execution_count": null,
   "metadata": {},
   "outputs": [],
   "source": [
    "# Create a data frame with two time series\n",
    "data = {\n",
    "    \"date\": pd.date_range(start=\"2022-01-01\", periods=1000),\n",
    "    \"series_1\": np.random.randn(1000).cumsum(), # random generation of number and cumulative sum\n",
    "    \"series_2\": np.random.randn(1000).cumsum() # random generation of number and cumulative sum\n",
    "}\n",
    "\n",
    "df = pd.DataFrame(data)\n",
    "df"
   ]
  },
  {
   "cell_type": "code",
   "execution_count": null,
   "metadata": {},
   "outputs": [],
   "source": [
    "sns.set_theme(style=\"whitegrid\")\n",
    "plt.figure(figsize=(10, 6))\n",
    "sns.lineplot(data=df)"
   ]
  },
  {
   "cell_type": "markdown",
   "metadata": {},
   "source": [
    "## Scatter plot"
   ]
  },
  {
   "cell_type": "code",
   "execution_count": null,
   "metadata": {},
   "outputs": [],
   "source": [
    "# data\n",
    "data_1 = np.random.normal(0, 1, size=1000)\n",
    "data_2 = np.random.normal(4, 1, size=1000)\n",
    "df = pd.DataFrame({\"data_1\": data_1, \"data_2\": data_2})"
   ]
  },
  {
   "cell_type": "code",
   "execution_count": null,
   "metadata": {},
   "outputs": [],
   "source": [
    "# Create a scatter plot from two columns in a data frame\n",
    "\n",
    "# If you just pass the data frame in the function, the X-axis will be the position of each data point, and two groups of data will be displayed\n",
    "sns.scatterplot(data=df)"
   ]
  },
  {
   "cell_type": "code",
   "execution_count": null,
   "metadata": {},
   "outputs": [],
   "source": [
    "# Create a scatter plot from two columns in a data frame\n",
    "\n",
    "# Pass x and y arguments with the names of the columns\n",
    "sns.scatterplot(data=df, x=\"data_1\", y=\"data_2\", alpha=.5)"
   ]
  },
  {
   "cell_type": "markdown",
   "metadata": {},
   "source": [
    "## Bubble plot"
   ]
  },
  {
   "cell_type": "code",
   "execution_count": null,
   "metadata": {},
   "outputs": [],
   "source": [
    "df[\"data_3\"] = np.random.exponential(1, size=1000)\n",
    "sns.scatterplot(data=df, x=\"data_1\", y=\"data_2\", size=\"data_3\", alpha=.5, legend=False, sizes=(20, 200))"
   ]
  },
  {
   "cell_type": "markdown",
   "metadata": {},
   "source": [
    "## Heatmap"
   ]
  },
  {
   "cell_type": "code",
   "execution_count": null,
   "metadata": {},
   "outputs": [],
   "source": [
    "# In the same way than before, we need to tranform our data into a pivot table\n",
    "# Let's say that we want to visualize numerical values given by one column from categories given from two other columns\n",
    "\n",
    "# Generate a toy example\n",
    "cat_1 = np.random.choice([\"A\", \"B\", \"C\", \"D\", \"E\", \"F\"], 1000)\n",
    "cat_2 = np.random.choice([\"AA\", \"BB\", \"CC\", \"DD\", \"EE\", \"FF\"], 1000)\n",
    "values = np.random.uniform(0, 100, 1000)\n",
    "data = pd.DataFrame({\"categorical_1\": cat_1, \"categorical_2\": cat_2, \"values\": values})\n",
    "\n",
    "# Build a pivot table from the dataset\n",
    "df = data.pivot_table(index=\"categorical_1\", columns=\"categorical_2\", values=\"values\", aggfunc=\"mean\")\n",
    "df"
   ]
  },
  {
   "cell_type": "code",
   "execution_count": null,
   "metadata": {},
   "outputs": [],
   "source": [
    "sns.heatmap(data=df, cbar=True, annot=False, cmap=\"viridis\")"
   ]
  },
  {
   "cell_type": "code",
   "execution_count": null,
   "metadata": {},
   "outputs": [],
   "source": [
    "sns.heatmap(data=df, cbar=False, annot=True, cmap=\"seismic\")"
   ]
  },
  {
   "cell_type": "markdown",
   "metadata": {},
   "source": [
    "## Exercise: Anscombe quartet\n",
    "\n",
    "Reproduce the Anscombe quartet phenomenon: compute basic statistics and visualize the data points for each dataset."
   ]
  },
  {
   "cell_type": "code",
   "execution_count": null,
   "metadata": {},
   "outputs": [],
   "source": [
    "anscombe_data = sns.load_dataset(\"anscombe\")\n",
    "anscombe_data"
   ]
  },
  {
   "cell_type": "code",
   "execution_count": null,
   "metadata": {},
   "outputs": [],
   "source": [
    "# Compute basic statistics using pandas: means, variances, correlations, etc.\n",
    "\n",
    "# TO DO"
   ]
  },
  {
   "cell_type": "code",
   "execution_count": null,
   "metadata": {},
   "outputs": [],
   "source": [
    "# Visualize the data points\n",
    "\n",
    "# TO DO"
   ]
  }
 ],
 "metadata": {
  "colab": {
   "collapsed_sections": [],
   "name": "dataViz-part1.ipynb",
   "provenance": []
  },
  "kernelspec": {
   "display_name": "Python 3",
   "language": "python",
   "name": "python3"
  },
  "language_info": {
   "codemirror_mode": {
    "name": "ipython",
    "version": 3
   },
   "file_extension": ".py",
   "mimetype": "text/x-python",
   "name": "python",
   "nbconvert_exporter": "python",
   "pygments_lexer": "ipython3",
   "version": "3.8.11"
  }
 },
 "nbformat": 4,
 "nbformat_minor": 4
}
