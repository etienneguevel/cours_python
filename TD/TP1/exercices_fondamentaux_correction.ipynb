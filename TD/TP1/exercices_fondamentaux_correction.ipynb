{
 "cells": [
  {
   "attachments": {},
   "cell_type": "markdown",
   "metadata": {},
   "source": [
    "## Exercices"
   ]
  },
  {
   "attachments": {},
   "cell_type": "markdown",
   "metadata": {},
   "source": [
    "### Opérations sur les chaînes de caractères"
   ]
  },
  {
   "cell_type": "markdown",
   "metadata": {},
   "source": [
    "**Exercice 1 : boucle ``for``**\n",
    "\n",
    "Implémenter une fonction ``to_list`` qui renvoie la liste des caractères d'une chaîne de caractères, sans utiliser la fonction ``list``.\n",
    "\n",
    "Par exemple,\n",
    "* pour `s = \"python\"`, la fonction renverra la liste `[\"p\", \"y\", \"t\", \"h\", \"o\", \"n\"]`\n",
    "* pour `s = \"\"`, la fonction renverra la liste `[]`"
   ]
  },
  {
   "cell_type": "code",
   "execution_count": 1,
   "metadata": {},
   "outputs": [],
   "source": [
    "def to_list(s):\n",
    "    return [i for i in s]"
   ]
  },
  {
   "cell_type": "markdown",
   "metadata": {},
   "source": [
    "**Exercice 2 : `length`**\n",
    "\n",
    "Implémenter une fonction qui compte le nombre de caractères dans une chaîne de caractères, sans utiliser la fonction `len`. La fonction doit rester valide également pour des listes, tuples et dictionnaires\n",
    "\n",
    "Par exemple,\n",
    "* ``length([])`` donnera 0\n",
    "* ``length([\"p\", \"y\", \"t\", \"h\", \"o\", \"n\"])`` donnera 6\n",
    "* ``length((\"p\", \"y\", \"t\", \"h\", \"o\", \"n\"))`` donnera 6\n",
    "* ``length(\"python\")`` donnera 6\n",
    "* ``length({\"key1\": \"val1\", \"key2\": \"val2\"})`` donnera 2\n",
    "* ``length({})`` donnera 0\n"
   ]
  },
  {
   "cell_type": "code",
   "execution_count": 2,
   "metadata": {},
   "outputs": [],
   "source": [
    "def length(arg):\n",
    "    c = 0\n",
    "    for k in arg:\n",
    "        c += 1\n",
    "\n",
    "    return c"
   ]
  },
  {
   "cell_type": "markdown",
   "metadata": {},
   "source": [
    "**Exercice 3 : `count_element`**\n",
    "\n",
    "* Implémenter une fonction ``count_element`` qui compte le nombre d'occurences d'un caractère `elt` d'une chaîne de caractères `s` sans utiliser la fonction `count`.\n",
    "* Vérifier que la fonction `count_element` fonctionne avec une liste en entrée à la place d'une chaîne de caractère. En particulier, pour une liste `l = [\"a\", 1., 2, 1, 2, 2, \"a\"]` et `elt=\"a\"`, la fonction renverra 2.\n",
    "* Implémenter une fonction ``count_sub_str`` qui compte le nombre d'occurences d'une sous-chaîne de caractères `sub_str` d'une chaîne de caractères `s` sans utiliser la fonction `count`."
   ]
  },
  {
   "cell_type": "code",
   "execution_count": 3,
   "metadata": {},
   "outputs": [],
   "source": [
    "def count_element(s, elt):\n",
    "    c = 0\n",
    "    for i in s:\n",
    "        if i == elt:\n",
    "            c += 1\n",
    "\n",
    "    return c"
   ]
  },
  {
   "cell_type": "code",
   "execution_count": 4,
   "metadata": {},
   "outputs": [],
   "source": [
    "def count_element2(s, elt):\n",
    "    return sum([i == elt for i in s])"
   ]
  },
  {
   "cell_type": "code",
   "execution_count": 5,
   "metadata": {},
   "outputs": [
    {
     "name": "stdout",
     "output_type": "stream",
     "text": [
      "Test de la première fonction: \n",
      "\n",
      "Le résultat du test 0 est: 2\n",
      "Le résultat du test 1 est: 5\n"
     ]
    }
   ],
   "source": [
    "tests = [\n",
    "    (([\"a\", 1., 2, 1, 2, 2, \"a\"], \"a\"), 2),\n",
    "    ((\"abracadaba\", \"a\"), 5)   \n",
    "]\n",
    "\n",
    "print(\"Test de la première fonction: \\n\")\n",
    "for i, ((s, elt), expected) in enumerate(tests):\n",
    "    result = count_element(s, elt)\n",
    "    print(f\"Le résultat du test {i} est:\", result)\n",
    "    assert result == expected"
   ]
  },
  {
   "cell_type": "code",
   "execution_count": 6,
   "metadata": {},
   "outputs": [
    {
     "name": "stdout",
     "output_type": "stream",
     "text": [
      "Test de la deuxième fonction: \n",
      "\n",
      "Le résultat du test 0 est: 2\n",
      "Le résultat du test 1 est: 5\n"
     ]
    }
   ],
   "source": [
    "tests = [\n",
    "    (([\"a\", 1., 2, 1, 2, 2, \"a\"], \"a\"), 2),\n",
    "    ((\"abracadaba\", \"a\"), 5)   \n",
    "]\n",
    "\n",
    "print(\"Test de la deuxième fonction: \\n\")\n",
    "for i, ((s, elt), expected) in enumerate(tests):\n",
    "    result = count_element2(s, elt)\n",
    "    print(f\"Le résultat du test {i} est:\", result)\n",
    "    assert result == expected"
   ]
  },
  {
   "cell_type": "code",
   "execution_count": 7,
   "metadata": {},
   "outputs": [],
   "source": [
    "def count_sub_str(s, sub_str):\n",
    "    n, p = len(s), len(sub_str)\n",
    "    c = 0\n",
    "    if p > n:\n",
    "        return c\n",
    "\n",
    "    for i in range(n-p+1):\n",
    "        if s[i:i+p] == sub_str:\n",
    "            c += 1\n",
    "    return c"
   ]
  },
  {
   "cell_type": "code",
   "execution_count": 8,
   "metadata": {},
   "outputs": [],
   "source": [
    "def count_sub_str2(s, sub_str):\n",
    "    n, p = len(s), len(sub_str)\n",
    "    if p > n:\n",
    "        return 0\n",
    "    return sum([s[i:i+p] == sub_str for i in range(n-p+1)])"
   ]
  },
  {
   "cell_type": "code",
   "execution_count": 9,
   "metadata": {},
   "outputs": [
    {
     "name": "stdout",
     "output_type": "stream",
     "text": [
      "Test de la première fonction: \n",
      "\n",
      "Le résultat du test 0 est: 2\n",
      "Le résultat du test 1 est: 5\n",
      "Le résultat du test 2 est: 0\n"
     ]
    }
   ],
   "source": [
    "tests = [\n",
    "    ((\"cacahoetes\", \"ca\"), 2),\n",
    "    ((\"abracadabra\", \"a\"), 5),\n",
    "    ((\"abracadabra\", \"e\"), 0)\n",
    "]\n",
    "\n",
    "print(\"Test de la première fonction: \\n\")\n",
    "for i, ((s, sub_str), expected) in enumerate(tests):\n",
    "    result = count_sub_str(s, sub_str)\n",
    "    print(f\"Le résultat du test {i} est:\", result)\n",
    "    assert result == expected"
   ]
  },
  {
   "cell_type": "code",
   "execution_count": 10,
   "metadata": {},
   "outputs": [
    {
     "name": "stdout",
     "output_type": "stream",
     "text": [
      "Test de la deuxième fonction: \n",
      "\n",
      "Le résultat du test 0 est: 2\n",
      "Le résultat du test 1 est: 5\n",
      "Le résultat du test 2 est: 0\n"
     ]
    }
   ],
   "source": [
    "tests = [\n",
    "    ((\"cacahoetes\", \"ca\"), 2),\n",
    "    ((\"abracadabra\", \"a\"), 5),\n",
    "    ((\"abracadabra\", \"e\"), 0)\n",
    "]\n",
    "\n",
    "print(\"Test de la deuxième fonction: \\n\")\n",
    "for i, ((s, sub_str), expected) in enumerate(tests):\n",
    "    result = count_sub_str2(s, sub_str)\n",
    "    print(f\"Le résultat du test {i} est:\", result)\n",
    "    assert result == expected"
   ]
  },
  {
   "cell_type": "markdown",
   "metadata": {},
   "source": [
    "**Exercice 4 : `index`**\n",
    "\n",
    "* Implémenter une fonction ``get_first`` qui renvoie l'indice de la première ocurrence d'un caractère donné en argument, sans utiliser la fonction `index`. La fonction renvoie `None` si le caractère n'est pas dans la chaîne de caractères.\n",
    "* Implémenter une fonction ``get_all`` qui renvoie l'indice de toutes les ocurrences d'un caractère donné en argument. Le type du retour sera une liste d'indices. La fonction renvoie `None` si le caractère n'est pas dans la chaîne de caractères."
   ]
  },
  {
   "cell_type": "code",
   "execution_count": 11,
   "metadata": {},
   "outputs": [],
   "source": [
    "def get_first(s, char):\n",
    "    for i, c in enumerate(s):\n",
    "        if c == char:\n",
    "            return i\n",
    "\n",
    "    return None"
   ]
  },
  {
   "cell_type": "code",
   "execution_count": 12,
   "metadata": {},
   "outputs": [
    {
     "name": "stdout",
     "output_type": "stream",
     "text": [
      "Le résultat du test 0 est: 0\n",
      "Le résultat du test 1 est: None\n",
      "Le résultat du test 2 est: 4\n"
     ]
    }
   ],
   "source": [
    "tests = [\n",
    "    ((\"abracadabra\", \"a\"), 0),\n",
    "    ((\"abracadabra\", \"A\"), None),\n",
    "    ((\"abracadabra\", \"c\"), 4)\n",
    "]\n",
    "\n",
    "for i, ((s, char), expected) in enumerate(tests):\n",
    "    result = get_first(s, char)\n",
    "    print(f\"Le résultat du test {i} est:\", result)\n",
    "    assert result == expected"
   ]
  },
  {
   "cell_type": "code",
   "execution_count": 13,
   "metadata": {},
   "outputs": [],
   "source": [
    "def get_all(s, char):\n",
    "    l = []\n",
    "    for i, c in enumerate(s):\n",
    "        if c == char:\n",
    "            l.append(i)\n",
    "\n",
    "    if len(l) == 0:\n",
    "        return None\n",
    "    else:\n",
    "        return l"
   ]
  },
  {
   "cell_type": "code",
   "execution_count": 14,
   "metadata": {},
   "outputs": [
    {
     "name": "stdout",
     "output_type": "stream",
     "text": [
      "Le résultat du test 0 est: [0, 3, 5, 7, 10]\n",
      "Le résultat du test 1 est: None\n",
      "Le résultat du test 2 est: [4]\n"
     ]
    }
   ],
   "source": [
    "tests = [\n",
    "    ((\"abracadabra\", \"a\"), [0, 3, 5, 7, 10]),\n",
    "    ((\"abracadabra\", \"A\"), None),\n",
    "    ((\"abracadabra\", \"c\"), [4])\n",
    "]\n",
    "\n",
    "for i, ((s, char), expected) in enumerate(tests):\n",
    "    result = get_all(s, char)\n",
    "    print(f\"Le résultat du test {i} est:\", result)\n",
    "    assert result == expected"
   ]
  },
  {
   "cell_type": "markdown",
   "metadata": {},
   "source": [
    "**Exercice 5 : `replace`**\n",
    "\n",
    "Implémenter une fonction qui remplace un élément dans une chaîne de caractères par un autre, sans utiliser la fonction `replace`.\n",
    "La fonction doit retourner la nouvelle chaîne de caractère\n"
   ]
  },
  {
   "cell_type": "code",
   "execution_count": 15,
   "metadata": {},
   "outputs": [],
   "source": [
    "def replace(s, char, new_char):\n",
    "    new_word = \"\"\n",
    "    for i, c in enumerate(s):\n",
    "        if c == char:\n",
    "            new_word += new_char\n",
    "        else:\n",
    "            new_word += c\n",
    "\n",
    "    return new_word"
   ]
  },
  {
   "cell_type": "code",
   "execution_count": 16,
   "metadata": {},
   "outputs": [],
   "source": [
    "def replace2(s, char, new_char):\n",
    "\n",
    "    return \"\".join([c if c!=char else new_char for c in s])"
   ]
  },
  {
   "cell_type": "code",
   "execution_count": 17,
   "metadata": {},
   "outputs": [
    {
     "name": "stdout",
     "output_type": "stream",
     "text": [
      "Test de la première fonction: \n",
      "\n",
      "Le résultat du test 0 est: ebrecedebre\n",
      "Le résultat du test 1 est: abracadabra\n"
     ]
    }
   ],
   "source": [
    "tests = [\n",
    "    ((\"abracadabra\", \"a\", \"e\"), \"ebrecedebre\"),\n",
    "    ((\"abracadabra\", \"z\", \"e\"), \"abracadabra\")\n",
    "]\n",
    "\n",
    "print(\"Test de la première fonction: \\n\")\n",
    "for i, ((s, char, new_char), expected) in enumerate(tests):\n",
    "    result = replace(s, char, new_char)\n",
    "    print(f\"Le résultat du test {i} est:\", result)\n",
    "    assert result == expected"
   ]
  },
  {
   "cell_type": "code",
   "execution_count": 18,
   "metadata": {},
   "outputs": [
    {
     "name": "stdout",
     "output_type": "stream",
     "text": [
      "Test de la deuxième fonction: \n",
      "\n",
      "Le résultat du test 0 est: ebrecedebre\n",
      "Le résultat du test 1 est: abracadabra\n"
     ]
    }
   ],
   "source": [
    "tests = [\n",
    "    ((\"abracadabra\", \"a\", \"e\"), \"ebrecedebre\"),\n",
    "    ((\"abracadabra\", \"z\", \"e\"), \"abracadabra\")\n",
    "]\n",
    "\n",
    "print(\"Test de la deuxième fonction: \\n\")\n",
    "for i, ((s, char, new_char), expected) in enumerate(tests):\n",
    "    result = replace2(s, char, new_char)\n",
    "    print(f\"Le résultat du test {i} est:\", result)\n",
    "    assert result == expected"
   ]
  },
  {
   "cell_type": "markdown",
   "metadata": {},
   "source": [
    "**Exercice 6 : `join`**\n",
    "\n",
    "Implémenter une fonction qui joint les éléments d'une liste de chaîne de caractères avec un séparateur `sep` donné en argument, sans utiliser la fonction ``join``.\n",
    "La fonction doit également prendre une chaîne de caractères en argument. Dans ce cas, la fonction insèrera le séparateur dans la chaîne de caractères. \n",
    "\n",
    "Par exemple, \n",
    "* `join(iterable=[\"py\", \"th\", \"on\"], sep=\"_\")` renverra \"py_th_on\"\n",
    "* `join(iterable=\"python\", sep=\"_\")` renverra \"p_y_t_h_o_n\"\n",
    "* `join(iterable=[\"py\", \"th\", \"on\"], sep=\"\")` renverra \"python\""
   ]
  },
  {
   "cell_type": "code",
   "execution_count": 19,
   "metadata": {},
   "outputs": [],
   "source": [
    "def join(iterable, sep):\n",
    "    n = len(iterable)\n",
    "    word = \"\"\n",
    "\n",
    "    for i in range(n):\n",
    "        word += iterable[i]\n",
    "        if i != n-1:\n",
    "            word += sep\n",
    "\n",
    "    return word"
   ]
  },
  {
   "cell_type": "code",
   "execution_count": 20,
   "metadata": {},
   "outputs": [
    {
     "name": "stdout",
     "output_type": "stream",
     "text": [
      "Le résultat du test 0 est: py_th_on\n",
      "Le résultat du test 1 est: p_y_t_h_o_n\n",
      "Le résultat du test 2 est: python\n"
     ]
    }
   ],
   "source": [
    "tests = [\n",
    "    (([\"py\", \"th\", \"on\"], \"_\"), \"py_th_on\"),\n",
    "    ((\"python\", \"_\"), \"p_y_t_h_o_n\"),\n",
    "    (([\"py\", \"th\", \"on\"], \"\"), \"python\")\n",
    "]\n",
    "\n",
    "for i, ((iterable, sep), expected) in enumerate(tests):\n",
    "    result = join(iterable, sep)\n",
    "\n",
    "    print(f\"Le résultat du test {i} est:\", result)\n",
    "    assert result == expected"
   ]
  },
  {
   "attachments": {},
   "cell_type": "markdown",
   "metadata": {},
   "source": [
    "### Opérations sur les listes"
   ]
  },
  {
   "cell_type": "markdown",
   "metadata": {},
   "source": [
    "**Exercice 1 : Test d'égalité entre deux liste**\n",
    "\n",
    "Implémenter une fonction ``equal`` qui renvoie qui renvoie ``True`` si deux listes passées en argument sont égales élément par élément, sans utiliser l'opérateur ``==``\n",
    "\n",
    "Par exemple,\n",
    "* pour `l1 = []` et `l2 = []`, la fonction renverra `True`\n",
    "* pour `l1 = [1, 2, 3]` et `l2 = [1, 2, 3]`, la fonction renverra `True`\n",
    "* pour `l1 = [1, 2, 3]` et `l2 = [1, 3, 2]`, la fonction renverra `False`\n",
    "* pour `l1 = [1, 2, 3]` et `l2 = [1, 2]`, la fonction renverra `False`"
   ]
  },
  {
   "cell_type": "code",
   "execution_count": 21,
   "metadata": {},
   "outputs": [],
   "source": [
    "def equal(l1, l2):\n",
    "    if len(l1) != len(l2):\n",
    "        return False\n",
    "    else:\n",
    "        for (i, j) in zip(l1, l2):\n",
    "            if i != j:\n",
    "                return False\n",
    "\n",
    "        return True"
   ]
  },
  {
   "cell_type": "code",
   "execution_count": 22,
   "metadata": {},
   "outputs": [],
   "source": [
    "def equal2(l1, l2):\n",
    "    if len(l1) != len(l2):\n",
    "        return False\n",
    "    else:\n",
    "        return all([l1[i]==l2[i] for i in range(len(l1))])"
   ]
  },
  {
   "cell_type": "code",
   "execution_count": 23,
   "metadata": {},
   "outputs": [
    {
     "name": "stdout",
     "output_type": "stream",
     "text": [
      "Test de la première fonction: \n",
      "\n",
      "Le résultat du test 0 est: True\n",
      "Le résultat du test 1 est: True\n",
      "Le résultat du test 2 est: False\n",
      "Le résultat du test 3 est: False\n"
     ]
    }
   ],
   "source": [
    "tests = [\n",
    "    (([], []), True),\n",
    "    (([1, 2, 3], [1, 2, 3]), True),\n",
    "    (([1, 2, 3], [1, 3, 2]), False),\n",
    "    (([1, 2], [1, 2, 3]), False)\n",
    "]\n",
    "\n",
    "print(\"Test de la première fonction: \\n\")\n",
    "\n",
    "for i, ((l1, l2), expected) in enumerate(tests):\n",
    "    result = equal(l1, l2)\n",
    "    print(f\"Le résultat du test {i} est:\", result)\n",
    "    assert expected == result"
   ]
  },
  {
   "cell_type": "code",
   "execution_count": 24,
   "metadata": {},
   "outputs": [
    {
     "name": "stdout",
     "output_type": "stream",
     "text": [
      "Test de la deuxième fonction: \n",
      "\n",
      "Le résultat du test 0 est: True\n",
      "Le résultat du test 1 est: True\n",
      "Le résultat du test 2 est: False\n",
      "Le résultat du test 3 est: False\n"
     ]
    }
   ],
   "source": [
    "tests = [\n",
    "    (([], []), True),\n",
    "    (([1, 2, 3], [1, 2, 3]), True),\n",
    "    (([1, 2, 3], [1, 3, 2]), False),\n",
    "    (([1, 2], [1, 2, 3]), False)\n",
    "]\n",
    "\n",
    "print(\"Test de la deuxième fonction: \\n\")\n",
    "\n",
    "for i, ((l1, l2), expected) in enumerate(tests):\n",
    "    result = equal2(l1, l2)\n",
    "    print(f\"Le résultat du test {i} est:\", result)\n",
    "    assert expected == result"
   ]
  },
  {
   "cell_type": "markdown",
   "metadata": {},
   "source": [
    "**Exercice 2 : `range_list`**\n",
    "\n",
    "Créer une fonction `range_list` qui prend `start`, `end` et `step` en argument et qui renvoie une liste d'entiers compris entre `start` et `end`, sans utiliser la fonction `range`.\n",
    "\n",
    "Attention : bien vérifier que `start` est supérieur à `end` et adapter le code au cas où `start < end`. Vous pouvez utiliser plusieurs sous-fonctions si besoin.\n",
    "\n",
    "Exemples :\n",
    "* `range_list(1, 5)` donne ``[1, 2, 3, 4]``\n",
    "* `range_list(1, 5, 1)` donne ``[1, 2, 3, 4]``\n",
    "* `range_list(1, 5, 2)` donne ``[1, 3]``\n",
    "* `range_list(1, 5, -1)` donne ``[]``\n",
    "* `range_list(5, 1, -1)` donne ``[5, 4, 3, 2]``"
   ]
  },
  {
   "cell_type": "code",
   "execution_count": 25,
   "metadata": {},
   "outputs": [],
   "source": [
    "def range_list_forward(start, end, step):\n",
    "    if step <= 0:\n",
    "        return []\n",
    "    \n",
    "    new_list = []\n",
    "    i = start         \n",
    "    while i < end:\n",
    "        new_list.append(i)\n",
    "        i += step\n",
    "    \n",
    "    return new_list\n",
    "\n",
    "def range_list_backward(start, end, step):\n",
    "    if step >= 0:\n",
    "        return []\n",
    "    \n",
    "    new_list = []\n",
    "    i = start         \n",
    "    while i > end:\n",
    "        new_list.append(i)\n",
    "        i += step\n",
    "\n",
    "    return new_list\n",
    "\n",
    "def range_list(start, end, step=1):\n",
    "    if start < end:\n",
    "        return range_list_forward(start, end, step)\n",
    "    else:\n",
    "        return range_list_backward(start, end, step)"
   ]
  },
  {
   "cell_type": "code",
   "execution_count": 26,
   "metadata": {},
   "outputs": [
    {
     "name": "stdout",
     "output_type": "stream",
     "text": [
      "Le résultat du test 0 est: [1, 2, 3, 4]\n",
      "Le résultat du test 1 est: [1, 2, 3, 4]\n",
      "Le résultat du test 2 est: [1, 3]\n",
      "Le résultat du test 3 est: []\n",
      "Le résultat du test 4 est: [5, 4, 3, 2]\n"
     ]
    }
   ],
   "source": [
    "tests = [\n",
    "    ((1, 5), [1, 2, 3, 4]),\n",
    "    ((1, 5, 1), [1, 2, 3, 4]),\n",
    "    ((1, 5, 2), [1, 3]),\n",
    "    ((1, 5, -1), []),\n",
    "    ((5, 1, -1), [5, 4, 3, 2])\n",
    "]\n",
    "\n",
    "for i, (args, expected) in enumerate(tests):\n",
    "    # Utilisation de l'opérateur * pour donner des arguments à une fonction\n",
    "    # args va être un tuple du type (start, end) ou (start, end, step)\n",
    "    # * permet de faire coller les arguments indépendemment de la taille de args,\n",
    "    # et de les faire matcher avec les arguments de la fonction selon leur positions.\n",
    "    \n",
    "    result = range_list(*args)\n",
    "    print(f\"Le résultat du test {i} est:\", result)\n",
    "    assert expected == result"
   ]
  },
  {
   "cell_type": "markdown",
   "metadata": {},
   "source": [
    "**Exercice 3 : `len`**\n",
    "* Implémenter une fonction `count_pairs` qui renvoie le nombre d'entiers pairs dans une liste et la liste de leur position. Par exemple pour la liste `[1, 2, 3, 4]`, la fonction renverra `(2, [1, 3])`\n",
    "* Implémenter une fonction `get_pairs` qui renvoie la sous-liste des entiers pairs\n",
    "* Implémenter une fonction `increment` qui ajoute 1 aux entiers impairs trouvés dans la liste passée en argument. Par exemple, pour la liste `[1, 5, 3, 2, 6]`, la fonction renverra la liste `[2, 6, 4, 2, 6]`"
   ]
  },
  {
   "cell_type": "code",
   "execution_count": 27,
   "metadata": {},
   "outputs": [],
   "source": [
    "def count_pairs(l):\n",
    "    pos = []\n",
    "    c = 0\n",
    "    for p, i in enumerate(l):\n",
    "        if i % 2 == 0:\n",
    "            c += 1\n",
    "            pos.append(p)\n",
    "    return (c, pos) "
   ]
  },
  {
   "cell_type": "code",
   "execution_count": 28,
   "metadata": {},
   "outputs": [
    {
     "name": "stdout",
     "output_type": "stream",
     "text": [
      "Le résultat du test 0 est: (2, [1, 3])\n"
     ]
    }
   ],
   "source": [
    "tests = [\n",
    "    ([1, 2, 3, 4], (2, [1, 3]))\n",
    "]\n",
    "\n",
    "for i, (l, expected) in enumerate(tests):\n",
    "    result = count_pairs(l)\n",
    "    print(f\"Le résultat du test {i} est:\", result)\n",
    "    assert result == expected"
   ]
  },
  {
   "cell_type": "code",
   "execution_count": 29,
   "metadata": {},
   "outputs": [],
   "source": [
    "def get_pairs(l):\n",
    "    return [i for i in l if i%2 == 0]"
   ]
  },
  {
   "cell_type": "code",
   "execution_count": 30,
   "metadata": {},
   "outputs": [
    {
     "name": "stdout",
     "output_type": "stream",
     "text": [
      "Le résultat du test 0 est: [2, 4]\n"
     ]
    }
   ],
   "source": [
    "tests = [\n",
    "    ([1, 2, 3, 4], [2, 4])\n",
    "]\n",
    "\n",
    "for i, (l, expected) in enumerate(tests):\n",
    "    result = get_pairs(l)\n",
    "    print(f\"Le résultat du test {i} est:\", result)\n",
    "    assert result == expected"
   ]
  },
  {
   "cell_type": "code",
   "execution_count": 31,
   "metadata": {},
   "outputs": [],
   "source": [
    "def increment(l):\n",
    "    new_list = []\n",
    "    for i in l:\n",
    "        if i%2 == 0:\n",
    "            new_list.append(i)\n",
    "        else:\n",
    "            new_list.append(i+1)\n",
    "\n",
    "    return new_list"
   ]
  },
  {
   "cell_type": "code",
   "execution_count": 32,
   "metadata": {},
   "outputs": [
    {
     "name": "stdout",
     "output_type": "stream",
     "text": [
      "Le résultat du test 0 est: [2, 6, 4, 2, 6]\n"
     ]
    }
   ],
   "source": [
    "tests = [\n",
    "    ([1, 5, 3, 2, 6], [2, 6, 4, 2, 6])\n",
    "]\n",
    "\n",
    "for i, (l, expected) in enumerate(tests):\n",
    "    result = increment(l)\n",
    "    print(f\"Le résultat du test {i} est:\", result)\n",
    "    assert result == expected"
   ]
  },
  {
   "cell_type": "markdown",
   "metadata": {},
   "source": [
    "**Exercice 4 : `insert` et `pop`**\n",
    "\n",
    "* Implémenter une fonction `insert_list` qui insère un élément `elt` dans une liste à une position `n` fixée, sans utiliser la fonction `insert`. Exemple : pour `l = [1, 2, 3, 4]`, `elt = 10` et `n = 2`, la fonction renvoie la liste `[1, 2, 10, 3, 4]`\n",
    "* Implémenter une fonction `pop_list` qui supprime l'élément d'une liste à la position `n`, sans utiliser la fonction `pop`. Exemple : pour `l = [1, 2, 3, 4]` et `n = 2`, la fonction renvoie la liste `[1, 2, 4]`"
   ]
  },
  {
   "cell_type": "code",
   "execution_count": 33,
   "metadata": {},
   "outputs": [],
   "source": [
    "def insert_list(l, elt, n):\n",
    "    return l[:n] + [elt] + l[n:]"
   ]
  },
  {
   "cell_type": "code",
   "execution_count": 34,
   "metadata": {},
   "outputs": [
    {
     "name": "stdout",
     "output_type": "stream",
     "text": [
      "Le résultat du test 0 est: [1, 2, 10, 3, 4]\n"
     ]
    }
   ],
   "source": [
    "tests = [\n",
    "    (([1, 2, 3, 4], 10, 2), [1, 2, 10, 3, 4])\n",
    "]\n",
    "\n",
    "for i, ((l, elt, n), expected) in enumerate(tests):\n",
    "    result = insert_list(l, elt, n)\n",
    "    print(f\"Le résultat du test {i} est:\", result)\n",
    "    assert result == expected"
   ]
  },
  {
   "cell_type": "code",
   "execution_count": 35,
   "metadata": {},
   "outputs": [],
   "source": [
    "def pop_list(l, n):\n",
    "    return l[:n] + l[n+1:]"
   ]
  },
  {
   "cell_type": "code",
   "execution_count": 36,
   "metadata": {},
   "outputs": [
    {
     "name": "stdout",
     "output_type": "stream",
     "text": [
      "Le résultat du test 0 est: [1, 2, 4]\n"
     ]
    }
   ],
   "source": [
    "tests = [\n",
    "    (([1, 2, 3, 4], 2), [1, 2, 4])\n",
    "]\n",
    "\n",
    "for i, ((l, n), expected) in enumerate(tests):\n",
    "    result = pop_list(l, n)\n",
    "    print(f\"Le résultat du test {i} est:\", result)\n",
    "    assert result == expected"
   ]
  },
  {
   "cell_type": "markdown",
   "metadata": {},
   "source": [
    "**Exercice 5 : Fibonacci**\n",
    "\n",
    "Implémenter une fonction `fibo` qui renvoie la suite de Fibonacci dont les élements sont inférieurs à `n`. \n",
    "\n",
    "Par exemple, pour `n=6`, la fonction renverra `[0, 1, 1, 2, 3, 5]`"
   ]
  },
  {
   "cell_type": "code",
   "execution_count": 37,
   "metadata": {},
   "outputs": [],
   "source": [
    "# voir correction session 1"
   ]
  },
  {
   "cell_type": "markdown",
   "metadata": {},
   "source": [
    "**Exercice 6 :**\n",
    "\n",
    "Implémenter une fonction `replace_in_list` qui remplace un élément `old` par un autre élément `new` dans une liste `list_of_elements`. Le remplacement doit s'effectuer directement dans la liste passée en argument et ne renvoie rien."
   ]
  },
  {
   "cell_type": "code",
   "execution_count": 38,
   "metadata": {},
   "outputs": [],
   "source": [
    "def replace_in_list(list_of_elements, old, new):\n",
    "    for indice, item in enumerate(list_of_elements):\n",
    "        if item == old:\n",
    "            list_of_elements[indice] = new"
   ]
  },
  {
   "cell_type": "code",
   "execution_count": 39,
   "metadata": {},
   "outputs": [
    {
     "name": "stdout",
     "output_type": "stream",
     "text": [
      "Le résultat du test 0 est: [1, 'test', 3, 4, 'test']\n"
     ]
    }
   ],
   "source": [
    "tests = [\n",
    "    (([1, 2, 3, 4, 2], 2, \"test\"), [1, \"test\", 3, 4, \"test\"]),\n",
    "]\n",
    "\n",
    "for i, ((list_of_elements, old, new), expected) in enumerate(tests):\n",
    "    replace_in_list(list_of_elements, old, new)\n",
    "    print(f\"Le résultat du test {i} est:\", list_of_elements)\n",
    "    assert expected == list_of_elements"
   ]
  },
  {
   "cell_type": "markdown",
   "metadata": {},
   "source": [
    "**Exercice 7 : Triangle de Pascal**\n",
    "\n",
    "Implémenter une fonction `pascal` qui calcule le triangle de Pascal pour un entier `n` passé en argument. Exemple pour `n=6` :\n",
    "\n",
    "```\n",
    "1\n",
    "1  1\n",
    "1  2  1\n",
    "1  3  3  1\n",
    "1  4  6  4  1\n",
    "1  5  10 10 5  1\n",
    "```\n",
    "\n",
    "Les valeurs du triangle devront être stockées dans une liste de `n` listes de taille `n`. Les valeurs en dehors du triangle seront mises à 0.\n",
    "La fonction renverra la liste remplie, par exemple :\n",
    "\n",
    "```python\n",
    "pascal(3)\n",
    "```\n",
    "\n",
    "donnera\n",
    "\n",
    "```python\n",
    "[[1, 0, 0], [1, 1, 0], [1, 2, 1]]\n",
    "```\n"
   ]
  },
  {
   "cell_type": "code",
   "execution_count": 40,
   "metadata": {},
   "outputs": [],
   "source": [
    "def pascal(n):\n",
    "\n",
    "    if n == 1:\n",
    "        return [[1]]\n",
    "\n",
    "    if n == 2:\n",
    "        return [[1, 0], [1, 1]]\n",
    "\n",
    "    # Set the triangle with zeros\n",
    "    triangle = [[0 for _ in range(n)] for _ in range(n)]\n",
    "\n",
    "    # Set the two first rows\n",
    "    triangle[0][0] = 1\n",
    "    triangle[1][0] = 1\n",
    "    triangle[1][1] = 1\n",
    "\n",
    "    # Run the algorithm\n",
    "    for i in range(n):\n",
    "        for j in range(n):\n",
    "            if j==0:\n",
    "                triangle[i][j] = 1\n",
    "            else:\n",
    "                triangle[i][j] = triangle[i-1][j-1] + triangle[i-1][j]\n",
    "    return triangle"
   ]
  },
  {
   "cell_type": "code",
   "execution_count": 41,
   "metadata": {},
   "outputs": [
    {
     "name": "stdout",
     "output_type": "stream",
     "text": [
      "----Triangle de taille 1----\n",
      "1\n",
      "\n",
      "\n",
      "----Triangle de taille 3----\n",
      "1\n",
      "1 1\n",
      "1 2 1\n",
      "\n",
      "\n",
      "----Triangle de taille 5----\n",
      "1\n",
      "1 1\n",
      "1 2 1\n",
      "1 3 3 1\n",
      "1 4 6 4 1\n",
      "\n",
      "\n"
     ]
    }
   ],
   "source": [
    "for i in range(1, 7, 2):\n",
    "    print(f\"----Triangle de taille {i}----\")\n",
    "    triangle = pascal(i)\n",
    "    for line in triangle:\n",
    "        print(*[l for l in line if l!=0])\n",
    "    print(\"\\n\")"
   ]
  },
  {
   "cell_type": "code",
   "execution_count": 42,
   "metadata": {},
   "outputs": [
    {
     "name": "stdout",
     "output_type": "stream",
     "text": [
      "[[0, 1, 0], [0, 0, 0], [0, 0, 0]]\n",
      "[[0, 1, 0], [0, 1, 0], [0, 1, 0]]\n"
     ]
    }
   ],
   "source": [
    "# Attention à la manière d'instantier la liste initiale\n",
    "\n",
    "first = [[0 for _ in range(3)] for _ in range(3)] # manière correcte\n",
    "second = [[0]*3] * 3 # manière pouvant causer des erreurs\n",
    "\n",
    "# Exemple : on veut modifier première ligne deuxième colonne\n",
    "first[0][1] = 1 \n",
    "print(first)\n",
    "\n",
    "second[0][1] = 1 \n",
    "print(second) # tous les éléments de la deuxième colonne ont été modifié !\n",
    "\n",
    "# C'est le case parce que les listes sont mutables, et que chaque liste de la liste sont le même objet "
   ]
  },
  {
   "attachments": {},
   "cell_type": "markdown",
   "metadata": {},
   "source": [
    "**Exercice 8 : tri à bulle**\n",
    "\n",
    "Implémenter le tri à bulle dans une fonction `tri_bulle` selon le pseudo-code suivant :\n",
    "\n",
    "```\n",
    "tri_bulle(Tableau T)\n",
    "    pour i allant de taille(T) - 1 a 1\n",
    "        pour j allant de 0 a i-1\n",
    "            si T[j+1] < T[j]\n",
    "                intervertir T[j] et T[j+1]\n",
    "```\n",
    "\n",
    "L'argument de la fonction est une liste. La fonction ne renvoie rien et modifie la list passée en argument.\n",
    "\n",
    "Exemple :\n",
    "\n",
    "```python\n",
    ">>> my_list = [1, 3, 2, 4]\n",
    ">>> tri_bulle(my_list)\n",
    ">>> print(my_list)\n",
    "[1, 2, 3, 4]\n",
    "```"
   ]
  },
  {
   "cell_type": "code",
   "execution_count": 43,
   "metadata": {},
   "outputs": [],
   "source": [
    "def tri_bulle(arr):\n",
    "    n = len(arr)\n",
    "    # Traverse through all array elements\n",
    "    for i in range(n):\n",
    "        # Last i elements are already sorted, no need to check them\n",
    "        for j in range(0, n - i - 1):\n",
    "            # Swap if the element found is greater than the next element\n",
    "            if arr[j] > arr[j + 1]:\n",
    "                arr[j], arr[j + 1] = arr[j + 1], arr[j]\n",
    "    return arr"
   ]
  },
  {
   "cell_type": "code",
   "execution_count": 44,
   "metadata": {},
   "outputs": [
    {
     "data": {
      "text/plain": [
       "[1, 2, 3, 4]"
      ]
     },
     "execution_count": 44,
     "metadata": {},
     "output_type": "execute_result"
    }
   ],
   "source": [
    "tri_bulle([1, 3, 2, 4])"
   ]
  },
  {
   "attachments": {},
   "cell_type": "markdown",
   "metadata": {},
   "source": [
    "**Exercice 9 : tri par insertion**\n",
    "\n",
    "Implémenter le tri par insertion dans une fonction `tri_insertion` selon le pseudo-code suivant :\n",
    "\n",
    "```\n",
    "tri_insertion(tableau T)\n",
    "  pour i allant de 1 a taille(T) - 1\n",
    "    stocker T[i] dans x\n",
    "      # decaler les elements T[0]..T[i-1] qui sont plus grands que x, en partant de T[i-1]\n",
    "      j = i                               \n",
    "      tant que j > 0 et T[j - 1] > x\n",
    "        T[j] = T[j - 1]\n",
    "        j = j - 1\n",
    "      # placer x dans le \"trou\" laisse par le decalage\n",
    "      T[j] = x\n",
    "```\n",
    "\n",
    "L'argument de la fonction est une liste. La fonction ne renvoie rien et modifie la list passée en argument.\n",
    "\n",
    "Exemple :\n",
    "\n",
    "```python\n",
    ">>> my_list = [1, 3, 2, 4]\n",
    ">>> tri_insertion(my_list)\n",
    ">>> print(my_list)\n",
    "[1, 2, 3, 4]\n",
    "```"
   ]
  },
  {
   "cell_type": "code",
   "execution_count": 45,
   "metadata": {},
   "outputs": [],
   "source": [
    "def tri_insertion(arr):\n",
    "    # Traverse through 1 to len(arr)\n",
    "    for i in range(1, len(arr)):\n",
    "        x = arr[i]\n",
    "        j = i\n",
    "        # Move elements of arr[0...i-1], that are greater than key,\n",
    "        # to one position ahead of their current position\n",
    "        while j > 0 and x < arr[j - 1]:\n",
    "            arr[j] = arr[j - 1]\n",
    "            j -= 1\n",
    "        arr[j] = x\n",
    "    return arr"
   ]
  },
  {
   "cell_type": "code",
   "execution_count": 46,
   "metadata": {},
   "outputs": [
    {
     "data": {
      "text/plain": [
       "[1, 2, 3, 4]"
      ]
     },
     "execution_count": 46,
     "metadata": {},
     "output_type": "execute_result"
    }
   ],
   "source": [
    "tri_insertion([1, 3, 2, 4])"
   ]
  },
  {
   "attachments": {},
   "cell_type": "markdown",
   "metadata": {},
   "source": [
    "### Opérations sur les dictionnaires"
   ]
  },
  {
   "cell_type": "markdown",
   "metadata": {},
   "source": [
    "**Exercice 1 :**\n",
    "\n",
    "* Implémenter une fonction `dict_to_list` qui renvoie une liste contenant des tuples `(key, value)` comme suit :\n",
    "```json\n",
    "[\n",
    "    (\"a\", 1),\n",
    "    (\"b\", 2),\n",
    "    (\"c\", 3)\n",
    "]\n",
    "```\n",
    "correspondant au dictionnaire\n",
    "```json\n",
    "{\n",
    "    \"a\": 1,\n",
    "    \"b\": 2,\n",
    "    \"c\": 3\n",
    "}\n",
    "```\n",
    "\n",
    "\n",
    "* Implémenter une fonction `get_type` qui renvoie un dictionnaire contenant le type de chaque élément et ce à partir d'une liste d'éléments quelconques nommée `list_of_items`.\n",
    "\n",
    "Par exemple, pour la liste `[0, \"1\", True, 9]`, la fonction renverra\n",
    "```json\n",
    "{\n",
    "    0: int,\n",
    "    \"1\": str,\n",
    "    True: bool,\n",
    "    9: int\n",
    "}\n",
    "```"
   ]
  },
  {
   "cell_type": "code",
   "execution_count": 47,
   "metadata": {},
   "outputs": [],
   "source": [
    "def dict_to_list(l):\n",
    "    return {k: v for (k, v) in l}"
   ]
  },
  {
   "cell_type": "code",
   "execution_count": 48,
   "metadata": {},
   "outputs": [
    {
     "data": {
      "text/plain": [
       "{'a': 1, 'b': 2, 'c': 3}"
      ]
     },
     "execution_count": 48,
     "metadata": {},
     "output_type": "execute_result"
    }
   ],
   "source": [
    "tests = [\n",
    "    [(\"a\", 1),(\"b\", 2),(\"c\", 3)]\n",
    "]\n",
    "\n",
    "dict_to_list(tests[0])"
   ]
  },
  {
   "cell_type": "code",
   "execution_count": 49,
   "metadata": {},
   "outputs": [
    {
     "data": {
      "text/plain": [
       "{'a': 1, 'b': 2, 'c': 3}"
      ]
     },
     "execution_count": 49,
     "metadata": {},
     "output_type": "execute_result"
    }
   ],
   "source": [
    "# marche aussi !\n",
    "dict(tests[0])"
   ]
  },
  {
   "cell_type": "code",
   "execution_count": 50,
   "metadata": {},
   "outputs": [],
   "source": [
    "def get_type(l):\n",
    "    return {k: type(k) for k in l}"
   ]
  },
  {
   "cell_type": "code",
   "execution_count": 51,
   "metadata": {},
   "outputs": [
    {
     "data": {
      "text/plain": [
       "{0: int, '1': str, True: bool, 9: int}"
      ]
     },
     "execution_count": 51,
     "metadata": {},
     "output_type": "execute_result"
    }
   ],
   "source": [
    "tests = [\n",
    "    [0, \"1\", True, 9]\n",
    "]\n",
    "\n",
    "get_type(tests[0])"
   ]
  },
  {
   "cell_type": "markdown",
   "metadata": {},
   "source": [
    "**Exercice 2 :**\n",
    "\n",
    "Implémenter une fonction `update_dict` qui modifie un dictionnaire `dic` passé en paramètre avec une listes de tuples `(key, value)`, sans utiliser `update`.\n",
    "\n",
    "Exemple : pour\n",
    "\n",
    "```json\n",
    "dic = {\n",
    "    \"a\": 1,\n",
    "    \"b\": 2,\n",
    "    \"c\": 3\n",
    "}\n",
    "```\n",
    "\n",
    "et\n",
    "\n",
    "```json\n",
    "[\n",
    "    (\"b\", 20),\n",
    "    (\"c\", 30),\n",
    "    (\"d\", -1)\n",
    "]\n",
    "```\n",
    "\n",
    "la fonction modifiera le dictionnaire en\n",
    "\n",
    "```json\n",
    "{\n",
    "    \"a\": 1,\n",
    "    \"b\": 20,\n",
    "    \"c\": 30,\n",
    "    \"d\": -1\n",
    "}\n",
    "```\n",
    "\n",
    "Implémenter une fonction `update_dict_copy` qui ne modifie pas le dictionnaire donné en argument et qui renvoie une copie modifiée"
   ]
  },
  {
   "cell_type": "code",
   "execution_count": 52,
   "metadata": {},
   "outputs": [],
   "source": [
    "def update_dict(dic, l):\n",
    "    for (key, value) in l:\n",
    "        dic[key] = value\n",
    "\n",
    "    return dic"
   ]
  },
  {
   "cell_type": "code",
   "execution_count": 53,
   "metadata": {},
   "outputs": [
    {
     "name": "stdout",
     "output_type": "stream",
     "text": [
      "The new dictionary is: {'a': 1, 'b': 20, 'c': 30, 'd': -1}\n",
      "The old dictionary is: {'a': 1, 'b': 20, 'c': 30, 'd': -1}\n"
     ]
    }
   ],
   "source": [
    "dic = {\"a\": 1,\"b\": 2,\"c\": 3}\n",
    "l = [(\"b\", 20),(\"c\", 30),(\"d\", -1)]\n",
    "\n",
    "new_dic = update_dict(dic, l)\n",
    "print(\"The new dictionary is:\", new_dic)\n",
    "print(\"The old dictionary is:\", dic)\n",
    "# L'ancien dictionnaire a aussi été modifié par la fonction !"
   ]
  },
  {
   "cell_type": "code",
   "execution_count": 54,
   "metadata": {},
   "outputs": [],
   "source": [
    "def update_dict_copy(dic, l):\n",
    "    new_dic = dict(dic)\n",
    "    for key, value in l:\n",
    "        new_dic[key] = value\n",
    "\n",
    "    return new_dic"
   ]
  },
  {
   "cell_type": "code",
   "execution_count": 64,
   "metadata": {},
   "outputs": [
    {
     "name": "stdout",
     "output_type": "stream",
     "text": [
      "The new dictionary is: {'a': 1, 'b': 20, 'c': 30, 'd': -1}\n",
      "The old dictionary is: {'a': 1, 'b': 2, 'c': 3}\n"
     ]
    }
   ],
   "source": [
    "dic = {\"a\": 1,\"b\": 2,\"c\": 3}\n",
    "l = [(\"b\", 20),(\"c\", 30),(\"d\", -1)]\n",
    "\n",
    "new_dic = update_dict_copy(dic, l)\n",
    "print(\"The new dictionary is:\", new_dic)\n",
    "print(\"The old dictionary is:\", dic)\n",
    "# En copiant l'ancien dictionnaire (en appelant dict) avant de le modifier celui ci est resté inchangé"
   ]
  },
  {
   "cell_type": "markdown",
   "metadata": {},
   "source": [
    "**Exercice 3 :**\n",
    "\n",
    "Implémenter une fonction `get_item` qui fait la même chose que la méthode `get` d'un dictionnaire. Par exemple, pour `d = {\"a\": 1, \"b\": 2}`\n",
    "\n",
    "* ``get_item(dic=d, item=\"a\")`` donne ``1``\n",
    "* ``get_item(dic=d, item=\"c\")`` donne ``None``\n",
    "* ``get_item(dic=d, item=\"b\", default=-1)`` donne ``2``\n",
    "* ``get_item(dic=d, item=\"c\", default=-1)`` donne ``-1``"
   ]
  },
  {
   "cell_type": "code",
   "execution_count": 56,
   "metadata": {},
   "outputs": [],
   "source": [
    "def get_item(dic, item, default=None):\n",
    "    if item in dic.keys():\n",
    "        return dic[item]\n",
    "    else:\n",
    "        return default"
   ]
  },
  {
   "cell_type": "code",
   "execution_count": 57,
   "metadata": {},
   "outputs": [
    {
     "name": "stdout",
     "output_type": "stream",
     "text": [
      "1\n",
      "None\n",
      "-1\n"
     ]
    }
   ],
   "source": [
    "d = {\"a\": 1, \"b\": 2}\n",
    "\n",
    "print(get_item(d, \"a\"))\n",
    "print(get_item(dic=d, item=\"c\"))\n",
    "print(get_item(dic=d, item=\"c\", default=-1))"
   ]
  },
  {
   "cell_type": "markdown",
   "metadata": {},
   "source": [
    "**Exercice 4 :**\n",
    "\n",
    "Implémenter une fonction `count_pairs_dict` qui compte le nombre d'entiers pairs et impairs dans un dictionnaire et qui renvoie un dictionnaire de la forme :\n",
    "\n",
    "```python\n",
    "{\n",
    "    \"even\": 2,\n",
    "    \"keys_even\": [\"a\", \"b\"],\n",
    "    \"odd\": 1,\n",
    "    \"keys_odd\": [\"c\"]\n",
    "}\n",
    "```\n",
    "\n",
    "pour le dictionnaire \n",
    "\n",
    "```python\n",
    "dic = {\n",
    "    \"a\": 2,\n",
    "    \"b\": 4,\n",
    "    \"c\": 1\n",
    "}\n",
    "```"
   ]
  },
  {
   "cell_type": "code",
   "execution_count": 58,
   "metadata": {},
   "outputs": [],
   "source": [
    "def count_pairs_dict(dic):\n",
    "    count = {\n",
    "        \"even\": 0,\n",
    "        \"odd\": 0,\n",
    "        \"keys_even\": [],\n",
    "        \"keys_odd\": []\n",
    "    }\n",
    "    for key, val in dic.items():\n",
    "        if val%2:\n",
    "            count[\"odd\"] += 1\n",
    "            count[\"keys_odd\"].append(key)\n",
    "        else:\n",
    "            count[\"even\"] += 1\n",
    "            count[\"keys_even\"].append(key)\n",
    "    return count"
   ]
  },
  {
   "attachments": {},
   "cell_type": "markdown",
   "metadata": {},
   "source": [
    "### Fonctions"
   ]
  },
  {
   "attachments": {},
   "cell_type": "markdown",
   "metadata": {},
   "source": [
    "**Exercice 1**\n",
    "\n",
    "Utiliser la fonction `lambda` pour recoder la fonction suivant en une seule ligne :\n",
    "\n",
    "```python\n",
    "def fct(a, b, c=None):\n",
    "    if not c:\n",
    "        d = a + b\n",
    "    else:\n",
    "        d = (a + b) * c\n",
    "    return d\n",
    "```"
   ]
  },
  {
   "cell_type": "code",
   "execution_count": 59,
   "metadata": {},
   "outputs": [],
   "source": [
    "fct = lambda a, b, c=None: a+b if not c else (a+b)*c"
   ]
  },
  {
   "attachments": {},
   "cell_type": "markdown",
   "metadata": {},
   "source": [
    "**Exercice 2**\n",
    "\n",
    "*Question 1*. Implémenter une fonction `modify_inplace` qui modifie une liste passée en paramètre de la façon suivante :\n",
    "\n",
    "```python\n",
    ">>> my_list = [1, 2, 3, 4, 5]\n",
    ">>> modify_inplace(iterable=my_list, position=0, value=10)\n",
    ">>> print(my_list)\n",
    "[10, 2, 3, 4, 5]\n",
    "```\n",
    "\n",
    "*Question 2*. Implémenter une fonction `modify` qui ne modifie pas la liste passée en paramètre mais qui en renvoie une copie modifiée. \n",
    "\n",
    "Exemple :\n",
    "\n",
    "```python\n",
    ">>> my_list = [1, 2, 3, 4, 5]\n",
    ">>> list_modified = modify(iterable=my_list, position=0, value=10)\n",
    ">>> print(my_list)\n",
    "[1, 2, 3, 4, 5]\n",
    ">>> print(list_modified)\n",
    "[10, 2, 3, 4, 5]\n",
    "```"
   ]
  },
  {
   "cell_type": "code",
   "execution_count": 60,
   "metadata": {},
   "outputs": [],
   "source": [
    "def modify_inplace(iterable, position, value):\n",
    "    iterable[position] = value"
   ]
  },
  {
   "cell_type": "code",
   "execution_count": 61,
   "metadata": {},
   "outputs": [
    {
     "data": {
      "text/plain": [
       "[10, 2, 3, 4, 5]"
      ]
     },
     "execution_count": 61,
     "metadata": {},
     "output_type": "execute_result"
    }
   ],
   "source": [
    "my_list = [1, 2, 3, 4, 5]\n",
    "modify_inplace(my_list, 0, 10)\n",
    "my_list"
   ]
  },
  {
   "cell_type": "code",
   "execution_count": 62,
   "metadata": {},
   "outputs": [],
   "source": [
    "def modify(iterable, position, value):\n",
    "    new_list = list(iterable)\n",
    "    new_list[position] = value\n",
    "\n",
    "    return new_list"
   ]
  },
  {
   "cell_type": "code",
   "execution_count": 63,
   "metadata": {},
   "outputs": [
    {
     "name": "stdout",
     "output_type": "stream",
     "text": [
      "[1, 2, 3, 4, 5]\n",
      "[10, 2, 3, 4, 5]\n"
     ]
    }
   ],
   "source": [
    "my_list = [1, 2, 3, 4, 5]\n",
    "new_list = modify(my_list, 0, 10)\n",
    "\n",
    "print(my_list)\n",
    "print(new_list)"
   ]
  },
  {
   "attachments": {},
   "cell_type": "markdown",
   "metadata": {},
   "source": [
    "### Modules et imports\n",
    "\n",
    "**Exercice 1**\n",
    "\n",
    "1. Créer un fichier `my_module.py` dans lequel vous implémenter les fonctions précédentes\n",
    "2. Dans un Jupyter, importer les fonctions et les exécuter\n",
    "3. Dans un fichier `main.py`, importer les fonctions et les exécuter via un terminal"
   ]
  }
 ],
 "metadata": {
  "kernelspec": {
   "display_name": "Python 3 (ipykernel)",
   "language": "python",
   "name": "python3"
  },
  "language_info": {
   "codemirror_mode": {
    "name": "ipython",
    "version": 3
   },
   "file_extension": ".py",
   "mimetype": "text/x-python",
   "name": "python",
   "nbconvert_exporter": "python",
   "pygments_lexer": "ipython3",
   "version": "3.12.2"
  },
  "vscode": {
   "interpreter": {
    "hash": "bedc7b092f95d0173602028272227588ce1ed221a8ea777d6ee00b69541af8b2"
   }
  }
 },
 "nbformat": 4,
 "nbformat_minor": 4
}
