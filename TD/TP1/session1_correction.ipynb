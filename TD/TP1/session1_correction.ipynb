{
 "cells": [
  {
   "cell_type": "markdown",
   "id": "bdeffb86-7f4a-4bab-88fb-9bec50a23919",
   "metadata": {},
   "source": [
    "# Session 1"
   ]
  },
  {
   "cell_type": "markdown",
   "id": "5fff5ddc-a575-409c-b521-0d27f56d50d2",
   "metadata": {},
   "source": [
    "Résoudre chacun des exercices listés ci-dessous.  \n",
    "Ne pas hésiter à parcourir le notebook `pratique.ipynb` ou la documentation python sur internet pour trouver des solutions !"
   ]
  },
  {
   "cell_type": "markdown",
   "id": "68bde04b-ab48-4aee-99ff-9c20067ccdb6",
   "metadata": {},
   "source": [
    "## Exercices"
   ]
  },
  {
   "cell_type": "markdown",
   "id": "8c139a52-6b4f-47ab-b45a-092974cc095c",
   "metadata": {},
   "source": [
    "### Chaîne de caractères"
   ]
  },
  {
   "cell_type": "markdown",
   "id": "f3f1bcdb-5061-4e65-8627-4f016fdb8c3d",
   "metadata": {},
   "source": [
    "**Exercice 1 : boucle ``for``**\n",
    "\n",
    "Implémenter une fonction ``to_list`` qui renvoie la liste des caractères d'une chaîne de caractères, sans utiliser la fonction ``list``.\n",
    "\n",
    "Par exemple,\n",
    "* pour `s = \"python\"`, la fonction renverra la liste `[\"p\", \"y\", \"t\", \"h\", \"o\", \"n\"]`\n",
    "* pour `s = \"\"`, la fonction renverra la liste `[]`"
   ]
  },
  {
   "cell_type": "code",
   "execution_count": 2,
   "id": "e8fbfe66-54cb-4ae5-a722-cf70cd465a07",
   "metadata": {},
   "outputs": [],
   "source": [
    "def to_list(s):\n",
    "\n",
    "    return [i for i in s]"
   ]
  },
  {
   "cell_type": "markdown",
   "id": "a79403af-85a2-46ee-bcd1-54308c3b792a",
   "metadata": {},
   "source": [
    "**Exercice 2 : Décomposer une phrase**\n",
    "\n",
    "Implémenter une fonction qui prend en entrée une phrase et qui renvoie un par un les mots en minuscule de cette phrase.\n",
    "Exemple :  \n",
    "`Mon chien est marron, et court très vite.` renverra:\n",
    "```\n",
    "mon\n",
    "chien\n",
    "est\n",
    "marron\n",
    "et\n",
    "court\n",
    "très\n",
    "vite\n",
    "```"
   ]
  },
  {
   "cell_type": "code",
   "execution_count": 8,
   "id": "32ccf112-b234-4093-8a58-1f7790144d09",
   "metadata": {},
   "outputs": [],
   "source": [
    "def function(phrase):\n",
    "    # Remove the punctuation from the phrase\n",
    "    punctuations = [\":\", \",\", \".\", \";\", \"!\", \"?\", \"\\n\"]\n",
    "    for i in punctuations:\n",
    "        phrase = phrase.replace(i, \"\")\n",
    "\n",
    "    # Split the phrase by spaces\n",
    "    mots = phrase.split(\" \")\n",
    "    for m in mots:\n",
    "        print(m.lower())"
   ]
  },
  {
   "cell_type": "code",
   "execution_count": 9,
   "id": "025d87c8-c1aa-4742-b73f-bbfb83ec0396",
   "metadata": {},
   "outputs": [],
   "source": [
    "def function2(phrase):\n",
    "    # Words are separated either by a space or a punctuation\n",
    "    punctuations = [\" \", \":\", \",\", \".\", \";\", \"!\", \"?\", \"\\n\"]\n",
    "\n",
    "    # Initialize an empty string\n",
    "    mot = \"\"\n",
    "    for i in phrase:\n",
    "        # Continue while there is no stop characters\n",
    "        if i not in punctuations:\n",
    "            mot += i\n",
    "        else:\n",
    "            # Assure that the word is longer than 0 (cases with punctuation then space)\n",
    "            if len(mot) > 0:\n",
    "                print(mot.lower())\n",
    "            # Reset the string\n",
    "            mot = \"\""
   ]
  },
  {
   "cell_type": "code",
   "execution_count": 10,
   "id": "c3bbe253-5baf-4bf1-8bd0-de06772baaa0",
   "metadata": {},
   "outputs": [
    {
     "name": "stdout",
     "output_type": "stream",
     "text": [
      "Testing function 1:\n",
      "mon\n",
      "chien\n",
      "est\n",
      "marron\n",
      "et\n",
      "court\n",
      "très\n",
      "vite\n",
      "\n",
      "\n",
      "Testing function 2:\n",
      "mon\n",
      "chien\n",
      "est\n",
      "marron\n",
      "et\n",
      "court\n",
      "très\n",
      "vite\n"
     ]
    }
   ],
   "source": [
    "test1 = \"\"\"Mon chien est marron, et court très vite.\"\"\"\n",
    "\n",
    "print(\"Testing function 1:\")\n",
    "function(test1)\n",
    "print(\"\\n\")\n",
    "print(\"Testing function 2:\")\n",
    "function2(test1)"
   ]
  },
  {
   "cell_type": "markdown",
   "id": "ae2e4377-2970-44ff-9eb6-2a88c41ceb2b",
   "metadata": {},
   "source": [
    "**Exercice 3 : trouver l'extension d'un fichier**\n",
    "\n",
    "Implémenter une fonction qui permettra de trouver quelle est l'extension d'un fichier parmi celles listées ci-dessous:\n",
    "- `.gif` -> `image`\n",
    "- `.jpg` -> `image`\n",
    "- `.jpeg` -> `image`\n",
    "- `.png` -> `image`\n",
    "- `.pdf` -> `text`\n",
    "- `.txt` -> `text`\n",
    "\n",
    "Et renverra en plus quel est le type du fichier.  \n",
    "Exemple : `my_cat.png` renverra `image/.png`"
   ]
  },
  {
   "cell_type": "code",
   "execution_count": 29,
   "id": "89a21d70-332b-4dd7-86ae-345e21dfecba",
   "metadata": {},
   "outputs": [],
   "source": [
    "def fichier(path):\n",
    "\n",
    "    # Get the end of the file\n",
    "    g = path.split(\".\")\n",
    "    ext = g[-1]\n",
    "\n",
    "    # Separate the cases where it is an image or text extension\n",
    "    if ext in [\"png\", \"jpg\", \"jpeg\", \"gif\"]:\n",
    "        return (\"image/\" + \".\" + ext)\n",
    "    elif ext in [\"pdf\", \"txt\"]:\n",
    "        return (\"text/\" + \".\" + ext)\n",
    "    else:\n",
    "        return None"
   ]
  },
  {
   "cell_type": "code",
   "execution_count": 48,
   "id": "078c0e90-efda-4e87-b11d-aa2ff9b615af",
   "metadata": {},
   "outputs": [],
   "source": [
    "def fichier2(path):\n",
    "    \n",
    "    # Make a dictionary linking the different extension with their file format\n",
    "    ext_dict = {i: \"image/.\" for i in [\"gif\", \"jpg\", \"jpeg\", \"png\"]} | {i: \"text/.\" for i in [\"pdf\", \"txt\"]}\n",
    "\n",
    "    # Get the end of the file\n",
    "    g = path.split(\".\")\n",
    "    ext = g[-1]\n",
    "\n",
    "    # By using the get method result will be None if ext is not in the keys, else image or text\n",
    "    result = ext_dict.get(ext)\n",
    "    return result if not result else result + ext # None is considered as False by the if statement, while a string is considered True"
   ]
  },
  {
   "cell_type": "code",
   "execution_count": 50,
   "id": "b5642c45-4f43-4396-a4ca-6a4a2077ffff",
   "metadata": {},
   "outputs": [
    {
     "name": "stdout",
     "output_type": "stream",
     "text": [
      "None is considered as False\n",
      "Test is considered as True\n"
     ]
    }
   ],
   "source": [
    "a = None\n",
    "b = \"Test\"\n",
    "\n",
    "if not a:\n",
    "    print(f\"{a} is considered as False\")\n",
    "\n",
    "if b:\n",
    "    print(f\"{b} is considered as True\")"
   ]
  },
  {
   "cell_type": "code",
   "execution_count": 45,
   "id": "9ec73be8-c434-4a46-8cce-221eebcbc68c",
   "metadata": {},
   "outputs": [
    {
     "name": "stdout",
     "output_type": "stream",
     "text": [
      "Testing 1st implementation:\n",
      "\n",
      "Test 0: image/.png\n",
      "Test 1: image/.gif\n",
      "Test 2: text/.txt\n",
      "Test 3: None\n"
     ]
    }
   ],
   "source": [
    "tests = [\n",
    "    (\"my_cat.png\", \"image/.png\"),\n",
    "    (\"my_dog.beautiful.gif\", \"image/.gif\"),\n",
    "    (\"a_wonderful_book.txt\", \"text/.txt\"),\n",
    "    (\"my_dataset.csv\", None),\n",
    "]\n",
    "\n",
    "print(\"Testing 1st implementation:\\n\")\n",
    "for i, (test, expected) in enumerate(tests):\n",
    "    result = fichier(test)\n",
    "    assert expected == result\n",
    "    print(f\"Test {i}:\", result)"
   ]
  },
  {
   "cell_type": "code",
   "execution_count": 46,
   "id": "8010e057-f3ce-4542-90c3-50407fe55522",
   "metadata": {},
   "outputs": [
    {
     "name": "stdout",
     "output_type": "stream",
     "text": [
      "Testing 2nd implementation:\n",
      "\n",
      "Test 0: image/.png\n",
      "Test 1: image/.gif\n",
      "Test 2: text/.txt\n",
      "Test 3: None\n"
     ]
    }
   ],
   "source": [
    "print(\"Testing 2nd implementation:\\n\")\n",
    "for i, (test, expected) in enumerate(tests):\n",
    "    result = fichier2(test)\n",
    "    print(f\"Test {i}:\", result)\n",
    "    assert expected == result"
   ]
  },
  {
   "cell_type": "markdown",
   "id": "0a406061-b31e-469d-92fd-708addbab693",
   "metadata": {},
   "source": [
    "### Listes"
   ]
  },
  {
   "cell_type": "markdown",
   "id": "e40bcb69-0d37-4bbb-85e1-8043bd792cb6",
   "metadata": {},
   "source": [
    "**Exercice 1 : Calcul du carré des entiers**  \n",
    "\n",
    "\n",
    "Implémenter une fonction `square` prenant comme argument `n` et renvoyant la liste du carré des nombres pairs jusqu'à n.  \n",
    "Exemple:\n",
    "\n",
    "```\n",
    ">>> square(10)\n",
    "[0, 4, 16, 36, 64, 100]\n",
    "```"
   ]
  },
  {
   "cell_type": "code",
   "execution_count": 104,
   "id": "c526379e-cf22-4ada-a2e8-979121a14a20",
   "metadata": {},
   "outputs": [],
   "source": [
    "def square(n):\n",
    "\n",
    "    # On utilise la compréhension de liste pour faire tout tenir en une ligne\n",
    "    return [i**2 for i in range(n+1) if (i%2==0)]"
   ]
  },
  {
   "cell_type": "code",
   "execution_count": 105,
   "id": "17c99f77-ebed-4930-87bc-461ba6c58a49",
   "metadata": {},
   "outputs": [
    {
     "data": {
      "text/plain": [
       "[0, 4, 16, 36, 64, 100]"
      ]
     },
     "execution_count": 105,
     "metadata": {},
     "output_type": "execute_result"
    }
   ],
   "source": [
    "square(10)"
   ]
  },
  {
   "cell_type": "markdown",
   "id": "b393b9bf-4f77-4b05-848b-4e5209f5289d",
   "metadata": {},
   "source": [
    "**Exercice 2 : Test d'égalité entre deux liste**\n",
    "\n",
    "Implémenter une fonction ``equal`` qui renvoie qui renvoie ``True`` si deux listes passées en argument sont égales élément par élément, sans utiliser l'opérateur ``==``\n",
    "\n",
    "Par exemple,\n",
    "* pour `l1 = []` et `l2 = []`, la fonction renverra `True`\n",
    "* pour `l1 = [1, 2, 3]` et `l2 = [1, 2, 3]`, la fonction renverra `True`\n",
    "* pour `l1 = [1, 2, 3]` et `l2 = [1, 3, 2]`, la fonction renverra `False`\n",
    "* pour `l1 = [1, 2, 3]` et `l2 = [1, 2]`, la fonction renverra `False`"
   ]
  },
  {
   "cell_type": "code",
   "execution_count": 115,
   "id": "f2870646-1dc2-483c-be1d-5c6f4ab844a0",
   "metadata": {},
   "outputs": [],
   "source": [
    "def equal(l1, l2):\n",
    "    if len(l1) != len(l2):\n",
    "        return False\n",
    "\n",
    "    else:\n",
    "        for i in range(len(l1)):\n",
    "            if l1[i] != l2[i]:\n",
    "                return False\n",
    "\n",
    "        return True"
   ]
  },
  {
   "cell_type": "code",
   "execution_count": 116,
   "id": "c4800913-0beb-454d-9237-02a9268e8b10",
   "metadata": {},
   "outputs": [],
   "source": [
    "def equal2(l1, l2):\n",
    "    if len(l1) != len(l2):\n",
    "        return False\n",
    "\n",
    "    # The keyword all checks if all the elements of an ierable are True, its 'antiword' is any\n",
    "    return all([i == j for (i, j) in zip(l1, l2)])"
   ]
  },
  {
   "cell_type": "code",
   "execution_count": 117,
   "id": "48404d29-f7ae-457b-bd69-ee57444f1def",
   "metadata": {},
   "outputs": [
    {
     "name": "stdout",
     "output_type": "stream",
     "text": [
      "Testing 1st implementation:\n",
      "\n",
      "Testing the test 0: True\n",
      "Testing the test 1: True\n",
      "Testing the test 2: False\n",
      "Testing the test 3: False\n"
     ]
    }
   ],
   "source": [
    "tests = [\n",
    "    ([], [], True),\n",
    "    ([1, 2, 3], [1, 2, 3], True),\n",
    "    ([1, 2, 3], [1, 3, 2], False),\n",
    "    ([1, 2, 3], [1, 2], False)\n",
    "]\n",
    "\n",
    "print(\"Testing 1st implementation:\\n\")\n",
    "for i, (l1, l2, expected) in enumerate(tests):\n",
    "    result = equal(l1, l2)\n",
    "    print(f\"Testing the test {i}:\", result)\n",
    "    assert result == expected"
   ]
  },
  {
   "cell_type": "code",
   "execution_count": 118,
   "id": "7c2a39a6-3d36-4081-b4ca-3f25b027e101",
   "metadata": {},
   "outputs": [
    {
     "name": "stdout",
     "output_type": "stream",
     "text": [
      "Testing 2nd implementation:\n",
      "\n",
      "Testing the test 0: True\n",
      "Testing the test 1: True\n",
      "Testing the test 2: False\n",
      "Testing the test 3: False\n"
     ]
    }
   ],
   "source": [
    "print(\"Testing 2nd implementation:\\n\")\n",
    "for i, (l1, l2, expected) in enumerate(tests):\n",
    "    result = equal2(l1, l2)\n",
    "    print(f\"Testing the test {i}:\", result)\n",
    "    assert result == expected"
   ]
  },
  {
   "cell_type": "markdown",
   "id": "5506c68f-cfad-4856-99af-bcb41ef05958",
   "metadata": {},
   "source": [
    "**Exercice 3 : Fibonacci**\n",
    "\n",
    "Implémenter une fonction `fibo` qui renvoie la suite de Fibonacci dont les élements sont inférieurs à `n`. \n",
    "\n",
    "Par exemple, pour `n=6`, la fonction renverra `[0, 1, 1, 2, 3, 5]`"
   ]
  },
  {
   "cell_type": "code",
   "execution_count": 34,
   "id": "e59e36c9-397a-4b03-9696-b6074ac9ae00",
   "metadata": {},
   "outputs": [],
   "source": [
    "def fibo(n):\n",
    "    if n == 0:\n",
    "        return [0]\n",
    "\n",
    "    else:\n",
    "        res = [0, 1]\n",
    "        while (res[-1] + res[-2])<=n:\n",
    "            res.append(res[-1] + res[-2])\n",
    "\n",
    "        return res"
   ]
  },
  {
   "cell_type": "code",
   "execution_count": 37,
   "id": "eb4da8c3-e139-4ed0-ad25-4c144b0f903e",
   "metadata": {},
   "outputs": [
    {
     "data": {
      "text/plain": [
       "[0, 1, 1, 2, 3, 5, 8]"
      ]
     },
     "execution_count": 37,
     "metadata": {},
     "output_type": "execute_result"
    }
   ],
   "source": [
    "fibo(10)"
   ]
  },
  {
   "cell_type": "markdown",
   "id": "839bacd2-c33a-4c42-9c89-5e448ade5b87",
   "metadata": {},
   "source": [
    "## Conditions"
   ]
  },
  {
   "cell_type": "markdown",
   "id": "de9abf62-4dc6-40aa-8e55-ea5bc8e1d199",
   "metadata": {},
   "source": [
    "**Exercice 1 : Egalité des chiffres**\n",
    "\n",
    "Implémenter une fonction `equal` permettant de dire si deux chiffres `a` et `b` sont égaux, et sinon de dire si a est plus ou moins grand que b.\n",
    "\n",
    "Exemple : \n",
    "\n",
    "`equal(2, 3)` renvoie `plus petit`"
   ]
  },
  {
   "cell_type": "code",
   "execution_count": 66,
   "id": "884ba982-ec46-432e-9720-1cf9bebf4806",
   "metadata": {},
   "outputs": [],
   "source": [
    "def equal(a, b):\n",
    "\n",
    "    if a < b:\n",
    "        print(\"plus petit\")\n",
    "\n",
    "    elif a > b:\n",
    "        print(\"plus grand\")\n",
    "\n",
    "    else:\n",
    "        print(\"égaux\")"
   ]
  },
  {
   "cell_type": "code",
   "execution_count": 67,
   "id": "8d38ce56-a11e-4191-bd6f-f8b08958b4ca",
   "metadata": {},
   "outputs": [
    {
     "name": "stdout",
     "output_type": "stream",
     "text": [
      "plus petit\n",
      "plus grand\n",
      "égaux\n"
     ]
    }
   ],
   "source": [
    "equal(2, 3)\n",
    "equal(3, 2)\n",
    "equal(0, 0)"
   ]
  },
  {
   "cell_type": "markdown",
   "id": "4f88d5c1-5a07-454c-a103-c341ffb91f22",
   "metadata": {},
   "source": [
    "**Exercice 2 : Trouver le type**\n",
    "\n",
    "Implémenter une fonction `varType` qui prends en entrée un argument et renvoie :\n",
    "- `chaîne de caractères` si c'est un string\n",
    "- `nombre` si c'est un `int` ou un `float`\n",
    "- `liste` si c'est une `list`\n",
    "- `...` si c'est un autre argument"
   ]
  },
  {
   "cell_type": "code",
   "execution_count": 70,
   "id": "c08c5825-9b6c-4d2f-9aa3-aa49343d4d6d",
   "metadata": {},
   "outputs": [],
   "source": [
    "def varType(arg):\n",
    "    var = type(arg)\n",
    "\n",
    "    if var is str:\n",
    "        return(\"chaîne de caractères\")\n",
    "\n",
    "    elif var in [int, float]:\n",
    "        return(\"nombre\")\n",
    "\n",
    "    elif var is list:\n",
    "        return(\"liste\")\n",
    "\n",
    "    else:\n",
    "        return(\"...\")"
   ]
  },
  {
   "cell_type": "code",
   "execution_count": 80,
   "id": "d053ffa3-aed5-484d-a661-157fe14657cf",
   "metadata": {},
   "outputs": [],
   "source": [
    "def varType2(arg):\n",
    "    type_dict = {\n",
    "        str: \"chaîne de caractères\",\n",
    "        int: \"nombre\",\n",
    "        float: \"nombre\",\n",
    "        list: \"liste\"\n",
    "    }\n",
    "\n",
    "    # Here we see make use of the get method that can take a value to return if the key is not in the dict\n",
    "    return type_dict.get(type(arg), \"...\")"
   ]
  },
  {
   "cell_type": "code",
   "execution_count": 73,
   "id": "981b7fd8-1e96-41fa-b656-35bf4666a69a",
   "metadata": {},
   "outputs": [
    {
     "name": "stdout",
     "output_type": "stream",
     "text": [
      "Testing the test 0: chaîne de caractères\n",
      "Testing the test 1: nombre\n",
      "Testing the test 2: nombre\n",
      "Testing the test 3: liste\n",
      "Testing the test 4: ...\n"
     ]
    }
   ],
   "source": [
    "tests = [\n",
    "    (\"Test\", \"chaîne de caractères\"),\n",
    "    (10, \"nombre\"),\n",
    "    (3.4, \"nombre\"),\n",
    "    ([\"Test\", True, 5], \"liste\"),\n",
    "    ({1, 2, 3}, \"...\")\n",
    "]\n",
    "\n",
    "for i, (test, expected) in enumerate(tests):\n",
    "    result = varType(test)\n",
    "    print(f\"Testing the test {i}:\", result)\n",
    "    assert result == expected"
   ]
  },
  {
   "cell_type": "code",
   "execution_count": 79,
   "id": "6ebf715d-f823-4c04-a9f4-df803350abcf",
   "metadata": {},
   "outputs": [
    {
     "name": "stdout",
     "output_type": "stream",
     "text": [
      "Testing the test 0: chaîne de caractères\n",
      "Testing the test 1: nombre\n",
      "Testing the test 2: nombre\n",
      "Testing the test 3: liste\n",
      "Testing the test 4: ...\n"
     ]
    }
   ],
   "source": [
    "tests = [\n",
    "    (\"Test\", \"chaîne de caractères\"),\n",
    "    (10, \"nombre\"),\n",
    "    (3.4, \"nombre\"),\n",
    "    ([\"Test\", True, 5], \"liste\"),\n",
    "    ({1, 2, 3}, \"...\")\n",
    "]\n",
    "\n",
    "for i, (test, expected) in enumerate(tests):\n",
    "    result = varType2(test)\n",
    "    print(f\"Testing the test {i}:\", result)\n",
    "    assert result == expected"
   ]
  },
  {
   "cell_type": "markdown",
   "id": "bfc753a6-a304-4f88-bbfb-35a6c72d9c5c",
   "metadata": {},
   "source": [
    "**Exercice 3 : L'heure du repas**\n",
    "\n",
    "Implémenter une fonction `meal_time` qui prend en entrée un `str` indiquant une heure (`8:30`, `16:45` ...) et qui renvoie quel repas il est temps de prendre.  \n",
    "Les plages horaires sont:\n",
    "- petit-déjeuner entre 7h et 10h\n",
    "- déjeuner entre 12h et 15h\n",
    "- dîner entre 18h et 22h\n",
    "\n",
    "Exemple :  \n",
    "`meal_time(\"8:23\")` renvoie `petit-déjeuner`  \n",
    "`meal_time(\"11:30\")` ne renvoie rien"
   ]
  },
  {
   "cell_type": "code",
   "execution_count": 96,
   "id": "5e0114c1-cc2c-46b6-9d2b-9b4e291ab28e",
   "metadata": {},
   "outputs": [],
   "source": [
    "def meal_time(time):\n",
    "\n",
    "    # Get the hour and minutes\n",
    "    hour, minutes = [int(i) for i in time.split(\":\")]\n",
    "    \n",
    "    # Either make a lot of comparisons to deal with the different cases\n",
    "    if  hour >= 7:\n",
    "        if hour < 10:\n",
    "            return \"petit-déjeuner\"\n",
    "\n",
    "        elif (hour == 10) & (minutes == 0):\n",
    "            return \"petit-déjeuner\"\n",
    "\n",
    "    if hour >= 12:\n",
    "        if hour < 15:\n",
    "            return \"déjeuner\"\n",
    "        elif (hour == 15) & (minutes == 0):\n",
    "            return \"déjeuner\"\n",
    "\n",
    "    if hour >= 18:\n",
    "        if hour < 22:\n",
    "            return \"dîner\"\n",
    "        elif (hour == 22) & (minutes == 0):\n",
    "            return \"dîner\"\n",
    "\n",
    "    return None"
   ]
  },
  {
   "cell_type": "code",
   "execution_count": 97,
   "id": "6f990727-79ad-4ae4-ba37-26ab1c35374a",
   "metadata": {},
   "outputs": [],
   "source": [
    "def meal_time2(time):\n",
    "\n",
    "    # Or transform the hour into a float by replacing : by .\n",
    "    hour = float(time.replace(\":\", \".\"))\n",
    "    \n",
    "    if 7 <= hour <= 10:\n",
    "        return \"petit-déjeuner\"\n",
    "\n",
    "    elif 12 <= hour <= 15:\n",
    "        return \"déjeuner\"\n",
    "\n",
    "    elif 18 <= hour <= 22:\n",
    "        return \"dîner\"\n",
    "\n",
    "    else:\n",
    "        return None"
   ]
  },
  {
   "cell_type": "code",
   "execution_count": 102,
   "id": "a7dfc081-5b82-4c79-9653-5881beb351c5",
   "metadata": {},
   "outputs": [
    {
     "name": "stdout",
     "output_type": "stream",
     "text": [
      "Testing the 1st implementation:\n",
      "\n",
      "Testing the test 0: petit-déjeuner\n",
      "Testing the test 1: déjeuner\n",
      "Testing the test 2: None\n",
      "Testing the test 3: dîner\n"
     ]
    }
   ],
   "source": [
    "tests = [\n",
    "    (\"8:23\", \"petit-déjeuner\"),\n",
    "    (\"12:45\", \"déjeuner\"),\n",
    "    (\"11:00\", None),\n",
    "    (\"22:00\", \"dîner\")\n",
    "]\n",
    "\n",
    "print(\"Testing the 1st implementation:\\n\")\n",
    "\n",
    "for i, (test, expected) in enumerate(tests):\n",
    "    result = meal_time(test)\n",
    "    print(f\"Testing the test {i}:\", result)\n",
    "    assert result == expected"
   ]
  },
  {
   "cell_type": "code",
   "execution_count": 103,
   "id": "077b1507-811b-4fdb-8ba0-8a4d971801b6",
   "metadata": {},
   "outputs": [
    {
     "name": "stdout",
     "output_type": "stream",
     "text": [
      "Testing the 2nd implementation:\n",
      "\n",
      "Testing the test 0: petit-déjeuner\n",
      "Testing the test 1: déjeuner\n",
      "Testing the test 2: None\n",
      "Testing the test 3: dîner\n"
     ]
    }
   ],
   "source": [
    "print(\"Testing the 2nd implementation:\\n\")\n",
    "\n",
    "for i, (test, expected) in enumerate(tests):\n",
    "    result = meal_time2(test)\n",
    "    print(f\"Testing the test {i}:\", result)\n",
    "    assert result == expected"
   ]
  },
  {
   "cell_type": "markdown",
   "id": "b741e0a5",
   "metadata": {},
   "source": [
    "## Difficulté supérieure\n",
    "\n",
    "Ces exercices sont tirés de [leetcode](https://leetcode.com/problem-list/prshgx6i/),\n",
    "si vous voulez les faire sur la plateforme directement n'hésitez pas !"
   ]
  },
  {
   "cell_type": "markdown",
   "id": "910cb9c9",
   "metadata": {},
   "source": [
    "### Exercice 1\n",
    "\n",
    "[Source](https://leetcode.com/problems/find-words-containing-character/description/?envType=problem-list-v2&envId=prshgx6i)\n",
    "\n",
    "On vous donne une liste de chaînes de caractères **words** indexé à partir de 0, ainsi qu’un caractère **x**.  \n",
    "\n",
    "Retournez une liste des indices représentant les mots qui contiennent le caractère **x**.  \n",
    "\n",
    "---\n",
    "\n",
    "__Exemple 1__\n",
    "\n",
    "**Entrée :**  \n",
    "`words = [\"leet\",\"code\"], x = \"e\"`  \n",
    "\n",
    "**Sortie :**  \n",
    "`[0,1]`  \n",
    "\n",
    "**Explication :**  \n",
    "`\"e\"` apparaît dans les deux mots : `\"leet\"` et `\"code\"`. On retourne donc les indices 0 et 1.  \n",
    "\n",
    "---\n",
    "\n",
    "__Exemple 2__\n",
    "\n",
    "**Entrée :**  \n",
    "`words = [\"abc\",\"bcd\",\"aaaa\",\"cbc\"], x = \"a\"`  \n",
    "\n",
    "**Sortie :**  \n",
    "`[0,2]`  \n",
    "\n",
    "**Explication :**  \n",
    "`\"a\"` apparaît dans `\"abc\"` et `\"aaaa\"`. On retourne donc les indices 0 et 2.  \n",
    "\n",
    "---\n",
    "\n",
    "__Exemple 3__\n",
    "\n",
    "**Entrée :**  \n",
    "`words = [\"abc\",\"bcd\",\"aaaa\",\"cbc\"], x = \"z\"`  \n",
    "\n",
    "**Sortie :**  \n",
    "`[]`  \n",
    "\n",
    "**Explication :**  \n",
    "`\"z\"` n’apparaît dans aucun mot. On retourne donc un tableau vide.  \n"
   ]
  },
  {
   "cell_type": "code",
   "execution_count": 11,
   "id": "0d2351a9",
   "metadata": {},
   "outputs": [],
   "source": [
    "# Implémentez la solution ici\n",
    "def idx_char(l_strings, char):\n",
    "    # On utilise une listcomp + la fonction enumerate pour avoir les indices\n",
    "    return [i for i, s in enumerate(l_strings) if char in s]"
   ]
  },
  {
   "cell_type": "code",
   "execution_count": 13,
   "id": "a90d2ac4",
   "metadata": {},
   "outputs": [
    {
     "name": "stdout",
     "output_type": "stream",
     "text": [
      "[0, 2]\n",
      "[]\n"
     ]
    }
   ],
   "source": [
    "l_strings = [\"abc\", \"bcd\", \"aaaa\", \"cbc\"]\n",
    "print(idx_char(l_strings, \"a\"))\n",
    "print(idx_char(l_strings, \"z\"))"
   ]
  },
  {
   "cell_type": "markdown",
   "id": "ad2bef7b",
   "metadata": {},
   "source": [
    "### Exercice 2\n",
    "\n",
    "[Source](https://leetcode.com/problems/robot-return-to-origin/description/?envType=problem-list-v2&envId=prshgx6i)\n",
    "\n",
    "Un robot démarre à la position (0, 0), l’origine, sur un plan 2D.  \n",
    "Étant donné une séquence de ses déplacements, déterminez si ce robot se retrouve\n",
    "à (0, 0) après avoir terminé tous ses mouvements.\n",
    "\n",
    "On vous donne une chaîne `moves` qui représente la séquence des déplacements du\n",
    "robot, où `moves[i]` représente son iᵉ déplacement.  \n",
    "Les mouvements valides sont :  \n",
    "- `'R'` (droite)  \n",
    "- `'L'` (gauche)  \n",
    "- `'U'` (haut)  \n",
    "- `'D'` (bas)  \n",
    "\n",
    "Retournez `true` si le robot revient à l’origine après avoir exécuté tous ses mouvements, sinon retournez `false`.\n",
    "\n",
    "**Remarque :** L’orientation du robot n’a aucune importance.  \n",
    "- `'R'` fera toujours avancer le robot d’un pas vers la droite,  \n",
    "- `'L'` toujours d’un pas vers la gauche, etc.  \n",
    "De plus, on suppose que la distance parcourue par le robot est la même pour chaque déplacement.\n",
    "\n",
    "---\n",
    "\n",
    "__Exemple 1__\n",
    "\n",
    "**Entrée :** `moves = \"UD\"`  \n",
    "**Sortie :** `true`  \n",
    "**Explication :** Le robot monte une fois, puis descend une fois. Tous les déplacements ont la même magnitude, donc il revient à l’origine où il avait commencé. On retourne donc `true`.\n",
    "\n",
    "---\n",
    "\n",
    "__Exemple 2__\n",
    "\n",
    "**Entrée :** `moves = \"LL\"`  \n",
    "**Sortie :** `false`  \n",
    "**Explication :** Le robot se déplace deux fois vers la gauche.  \n",
    "Il termine deux \"pas\" à gauche de l’origine. On retourne `false` car il n’est pas revenu à l’origine après ses déplacements.\n"
   ]
  },
  {
   "cell_type": "code",
   "execution_count": 18,
   "id": "8acc6dcc",
   "metadata": {},
   "outputs": [],
   "source": [
    "# Implémentez la solution ici\n",
    "def robot_home(moves):\n",
    "    # On initialize la position\n",
    "    position = [0, 0]\n",
    "    \n",
    "    # On vérifie chacun des mouvements et modifie la position en fonction\n",
    "    for i in moves:\n",
    "        if i == \"L\":\n",
    "            position[0] += 1\n",
    "        \n",
    "        elif i == \"R\":\n",
    "            position[0] -= 1\n",
    "        \n",
    "        elif i == \"U\":\n",
    "            position[1] += 1\n",
    "        \n",
    "        elif i == \"D\":\n",
    "            position[1] -= 1\n",
    "        \n",
    "        else:\n",
    "            print(\"wrong character {i} will not be used.\")\n",
    "    \n",
    "    # On regarde si la position finale est celle de départ\n",
    "    return (position == [0, 0])"
   ]
  },
  {
   "cell_type": "code",
   "execution_count": null,
   "id": "b638eb32",
   "metadata": {},
   "outputs": [],
   "source": [
    "def robot_home_2(moves):\n",
    "    # On calcule le nombre de fois que chaque direction apparaît\n",
    "    up = moves.count(\"U\")\n",
    "    down = moves.count(\"D\")\n",
    "    left = moves.count(\"L\")\n",
    "    right = moves.count(\"R\")\n",
    "\n",
    "    return (up == down) & (left == right)"
   ]
  },
  {
   "cell_type": "markdown",
   "id": "79e64b18",
   "metadata": {},
   "source": [
    "### Exercice 3\n",
    "\n",
    "[Source](https://leetcode.com/problems/add-digits/description/?envType=problem-list-v2&envId=prshgx6i)\n",
    "\n",
    "Étant donné un entier `num`, additionnez de manière répétée tous ses chiffres\n",
    "jusqu’à ce que le résultat ne contienne plus qu’un seul chiffre, puis renvoyez-le.\n",
    "\n",
    "---\n",
    "\n",
    "__Exemple 1 :__\n",
    "\n",
    "**Entrée :** num = 38  \n",
    "**Sortie :** 2  \n",
    "**Explication :**  \n",
    "38 --> 3 + 8 --> 11  \n",
    "11 --> 1 + 1 --> 2  \n",
    "Comme 2 n’a qu’un seul chiffre, on le renvoie.\n",
    "\n",
    "---\n",
    "\n",
    "__Exemple 2 :__\n",
    "\n",
    "**Entrée :** num = 0  \n",
    "**Sortie :** 0\n"
   ]
  },
  {
   "cell_type": "code",
   "execution_count": 19,
   "id": "6b958c1f",
   "metadata": {},
   "outputs": [],
   "source": [
    "# Implémentez la solution ici\n",
    "def add_digits(num):\n",
    "    num_str = str(num)\n",
    "    while len(num_str) > 1:\n",
    "        num_str = str(sum([int(i) for i in num_str]))\n",
    "    \n",
    "    return int(num_str)"
   ]
  },
  {
   "cell_type": "code",
   "execution_count": 21,
   "id": "e5ef987e",
   "metadata": {},
   "outputs": [],
   "source": [
    "def add_digits_2(num):\n",
    "    if num == 0:\n",
    "        return 0\n",
    "\n",
    "    elif (num % 9) == 0:\n",
    "        return 9\n",
    "\n",
    "    else:\n",
    "        return num % 9"
   ]
  },
  {
   "cell_type": "markdown",
   "id": "75f44e45",
   "metadata": {},
   "source": [
    "### Exercice 4\n",
    "\n",
    "[Source](https://leetcode.com/problems/type-of-triangle/description/?envType=problem-list-v2&envId=prshgx6i)\n",
    "\n",
    "On vous donne une liste d'entiers `nums` indexé à partir de 0, de taille 3,\n",
    "qui représente les côtés d’un triangle.\n",
    "\n",
    "- Un triangle est dit **équilatéral** s’il a tous ses côtés de la même longueur.  \n",
    "- Un triangle est dit **isocèle** s’il a exactement deux côtés de la même longueur.  \n",
    "- Un triangle est dit **scalène** si tous ses côtés ont des longueurs différentes.  \n",
    "\n",
    "Retournez une chaîne représentant le type de triangle qui peut être formé,\n",
    "ou `\"none\"` si un triangle ne peut pas être formé.\n",
    "\n",
    "---\n",
    "\n",
    "__Exemple 1__\n",
    "\n",
    "**Entrée :** `nums = [3,3,3]`  \n",
    "**Sortie :** `\"equilateral\"`  \n",
    "**Explication :** Comme tous les côtés sont de même longueur, cela forme un triangle équilatéral.\n",
    "\n",
    "---\n",
    "\n",
    "__Exemple 2__\n",
    "\n",
    "**Entrée :** `nums = [3,4,5]`  \n",
    "**Sortie :** `\"scalene\"`  \n",
    "**Explication :**  \n",
    "- `nums[0] + nums[1] = 3 + 4 = 7`, ce qui est supérieur à `nums[2] = 5`.  \n",
    "- `nums[0] + nums[2] = 3 + 5 = 8`, ce qui est supérieur à `nums[1] = 4`.  \n",
    "- `nums[1] + nums[2] = 4 + 5 = 9`, ce qui est supérieur à `nums[0] = 3`.  \n",
    "\n",
    "Puisque la somme de deux côtés est supérieure au troisième dans les trois cas, cela peut former un triangle.  \n",
    "Comme tous les côtés sont de longueurs différentes, il s’agit d’un triangle **scalène**.\n",
    "\n",
    "---\n",
    "__Exemple 3__\n",
    "\n",
    "**Entrée :** `nums = [1,2,3]`  \n",
    "**Sortie :** `\"none\"`  \n",
    "**Explication :**  \n",
    "- `1 + 2 = 3`, qui **n’est pas strictement supérieur** à `3`.  \n",
    "Cela viole l’inégalité triangulaire, donc les côtés donnés ne peuvent pas former un triangle.  \n",
    "On retourne `\"none\"`."
   ]
  },
  {
   "cell_type": "code",
   "execution_count": null,
   "id": "3529c12d",
   "metadata": {},
   "outputs": [],
   "source": [
    "# Implémentez la solution ici\n",
    "def triangle_type(nums):\n",
    "    # Tri de la taille des côtés par order croissant\n",
    "    a, b, c = sorted(nums)\n",
    "\n",
    "    # On vérifie si le triangle peut être formé, ie le + grand côté est\n",
    "    # plus petit que la somme des deux autres\n",
    "    if c >= (a + b):\n",
    "        return \"none\"\n",
    "\n",
    "    # On fait les tests d'égalité pour connaître le type du triangle.\n",
    "    if a == b:\n",
    "        if a == c:\n",
    "            return \"equilateral\"\n",
    "\n",
    "        else:\n",
    "            return \"isosceles\"\n",
    "        \n",
    "    elif (b == c) | (a == c):\n",
    "        return \"isosceles\"\n",
    "\n",
    "    else:\n",
    "        return \"scalene\""
   ]
  }
 ],
 "metadata": {
  "kernelspec": {
   "display_name": "env_test",
   "language": "python",
   "name": "python3"
  },
  "language_info": {
   "codemirror_mode": {
    "name": "ipython",
    "version": 3
   },
   "file_extension": ".py",
   "mimetype": "text/x-python",
   "name": "python",
   "nbconvert_exporter": "python",
   "pygments_lexer": "ipython3",
   "version": "3.13.3"
  }
 },
 "nbformat": 4,
 "nbformat_minor": 5
}
