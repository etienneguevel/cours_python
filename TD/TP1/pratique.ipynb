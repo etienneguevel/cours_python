{
 "cells": [
  {
   "attachments": {},
   "cell_type": "markdown",
   "metadata": {},
   "source": [
    "# Python par la pratique : partie 1 - fondammentaux de Python\n",
    "\n",
    "Ce notebook fournit des ressources pour la pratique de Python.\n",
    "\n",
    "Pour chacune des méthodes, il vous faudra bien comprendre leur fonctionnement et vous pourrez vous documenter sur internet (docs officielles et forums).\n",
    "N'hésitez pas à modifier les cellules pour tester d'autres configurations que celles données ici.\n",
    "\n",
    "Si vous souhaitez connaitre les méthodes disponibles d'un objet particulier, utilisez la function ``dir(obj)``."
   ]
  },
  {
   "cell_type": "markdown",
   "metadata": {},
   "source": [
    "## Syntaxe"
   ]
  },
  {
   "cell_type": "markdown",
   "metadata": {},
   "source": [
    "### Syntaxe générale : des blocs de code indenté\n",
    "\n",
    "Important : Respecter l'identation de 4 espaces et ne surtout pas utiliser une identation en tabulation en même temps."
   ]
  },
  {
   "cell_type": "code",
   "execution_count": 5,
   "metadata": {},
   "outputs": [
    {
     "name": "stdout",
     "output_type": "stream",
     "text": [
      "0\n",
      "None\n",
      "2\n",
      "None\n",
      "4\n",
      "None\n",
      "6\n",
      "None\n",
      "8\n",
      "None\n"
     ]
    }
   ],
   "source": [
    "def fct(n):\n",
    "    \"\"\"\n",
    "    Docstring\n",
    "    \"\"\"\n",
    "    for item in range(n):\n",
    "        # un commentaire\n",
    "        if not item % 2:\n",
    "            local_variable = item\n",
    "        else:\n",
    "            local_variable = None\n",
    "        print(local_variable)\n",
    "\n",
    "fct(10)"
   ]
  },
  {
   "cell_type": "markdown",
   "metadata": {},
   "source": [
    "Les mots clés suivants sont réservés et ne peuvent être utilisés comme noms de variables :\n",
    "\n",
    "`False, await, else, import, pass, None, break, except, in, raise, True, class, finally, is, return, and, continue, for, lambda, try, as, def, from, nonlocal, while, assert, del, global, not, with, async, elif, if, or`\n",
    "\n",
    "Exception associée : `SyntaxError`"
   ]
  },
  {
   "cell_type": "markdown",
   "metadata": {},
   "source": [
    "### Typage dynamique fort\n",
    "\n",
    "Le type d'un objet est déterminé par l'ensemble de ses méthodes et attributs\n",
    "\n",
    "* Dynamique : le type d'un objet est déterminé au moment de l'exécution\n",
    "* Fort : Python interdit des opérations ayant peu de sens et ne cherche pas à convertir lui même.\n",
    "\n",
    "Par exemple :\n",
    "* **On ne peut pas** ajouter une chaîne de caractère et un entier\n",
    "* **On peut** multiplier une chaîne de caractère et un entier\n",
    "\n",
    "Exception associée : `TypeError`"
   ]
  },
  {
   "cell_type": "code",
   "execution_count": null,
   "metadata": {},
   "outputs": [],
   "source": [
    "def calcul(a, b, c):\n",
    "    return (a + b) * c\n",
    "\n",
    "print(calcul(1, 2, 3))\n",
    "print(calcul(\"titi\", \"toto \", 2))\n",
    "print(calcul(\"titi\", 2, \"toto \"))"
   ]
  },
  {
   "cell_type": "code",
   "execution_count": null,
   "metadata": {},
   "outputs": [],
   "source": [
    "print(\"python\" * 2)\n",
    "print(\"python\" + 2)"
   ]
  },
  {
   "cell_type": "markdown",
   "metadata": {},
   "source": [
    "Mots clés `type` et `isinstance`"
   ]
  },
  {
   "cell_type": "code",
   "execution_count": 1,
   "metadata": {},
   "outputs": [
    {
     "name": "stdout",
     "output_type": "stream",
     "text": [
      "<class 'int'>\n",
      "<class 'float'>\n",
      "<class 'complex'>\n"
     ]
    }
   ],
   "source": [
    "a = 1\n",
    "print(type(a))\n",
    "\n",
    "b = .5   # idem que b = 0.5\n",
    "print(type(b))\n",
    "\n",
    "c = 1.+2.j\n",
    "print(type(c))"
   ]
  },
  {
   "cell_type": "code",
   "execution_count": null,
   "metadata": {},
   "outputs": [],
   "source": [
    "isinstance(a, int)"
   ]
  },
  {
   "cell_type": "markdown",
   "metadata": {},
   "source": [
    "### Types numériques"
   ]
  },
  {
   "cell_type": "code",
   "execution_count": null,
   "metadata": {},
   "outputs": [],
   "source": [
    "print(10 ** 4)\n",
    "print(10 / 4)\n",
    "print(7 // 3)\n",
    "print(7 % 3)"
   ]
  },
  {
   "cell_type": "markdown",
   "metadata": {},
   "source": [
    "### Opérations sur les booléens et comparaison"
   ]
  },
  {
   "cell_type": "code",
   "execution_count": null,
   "metadata": {},
   "outputs": [],
   "source": [
    "a = True\n",
    "b = a and False   # idem que b = a & False\n",
    "c = not a\n",
    "d = bool(0)\n",
    "e = bool(1)"
   ]
  },
  {
   "cell_type": "code",
   "execution_count": null,
   "metadata": {},
   "outputs": [],
   "source": [
    "5 > 3\n",
    "5 >= 3\n",
    "5 != 3\n",
    "5 == 5\n",
    "5 > 3 and 6 > 3\n",
    "5 > 3 or 5 < 3\n",
    "not False\n",
    "False or not False and True"
   ]
  },
  {
   "cell_type": "markdown",
   "metadata": {},
   "source": [
    "### Structures de contrôle"
   ]
  },
  {
   "cell_type": "code",
   "execution_count": null,
   "metadata": {},
   "outputs": [],
   "source": [
    "for i in range(10):\n",
    "    print(i)"
   ]
  },
  {
   "cell_type": "code",
   "execution_count": null,
   "metadata": {},
   "outputs": [],
   "source": [
    "i = 0\n",
    "while i < 10:\n",
    "    print(i)\n",
    "    i += 1"
   ]
  },
  {
   "cell_type": "code",
   "execution_count": null,
   "metadata": {},
   "outputs": [],
   "source": [
    "i = 0\n",
    "if i == 0:\n",
    "    print(\"i equals 0\")\n",
    "\n",
    "if not i:\n",
    "    print(\"i equals 0\")"
   ]
  },
  {
   "cell_type": "code",
   "execution_count": null,
   "metadata": {},
   "outputs": [],
   "source": [
    "# Version one-liner d'une conditionnelle\n",
    "a = 1 if not i else 2\n",
    "print(a)"
   ]
  },
  {
   "cell_type": "markdown",
   "metadata": {},
   "source": [
    "## Listes\n",
    "\n",
    "Principales fonctionnalités sur les listes :\n",
    "* Extraire / remplacer un élément\n",
    "* Extraire / remplacer une sous-séquence (slicing)\n",
    "* Supprimer des éléments\n",
    "* Concaténer deux listes\n",
    "* Répeter les élements d'une liste\n",
    "* Ajout d'un élement en fin de liste\n",
    "\n",
    "Quelques méthodes utiles :\n",
    "* append\n",
    "* clear\n",
    "* copy\n",
    "* count\n",
    "* extend\n",
    "* index\n",
    "* insert\n",
    "* pop\n",
    "* remove\n",
    "* reverse\n",
    "* sort"
   ]
  },
  {
   "cell_type": "markdown",
   "metadata": {},
   "source": [
    "### Revue des fonctionnalités de base"
   ]
  },
  {
   "cell_type": "code",
   "execution_count": null,
   "metadata": {},
   "outputs": [],
   "source": [
    "my_list = [True, 2, \"3\", 4]\n",
    "my_list[0]"
   ]
  },
  {
   "cell_type": "code",
   "execution_count": null,
   "metadata": {},
   "outputs": [],
   "source": [
    "print(2 in my_list)\n",
    "print([2, \"3\"] in my_list)"
   ]
  },
  {
   "cell_type": "code",
   "execution_count": null,
   "metadata": {},
   "outputs": [],
   "source": [
    "list_of_int = list(range(10))\n",
    "n = len(list_of_int)\n",
    "list_of_int[0:n:2]"
   ]
  },
  {
   "cell_type": "code",
   "execution_count": null,
   "metadata": {},
   "outputs": [],
   "source": [
    "list_of_int = list(range(10))\n",
    "n = len(list_of_int)\n",
    "sub_list = [0, 20, 40, 60, 80]\n",
    "list_of_int[0:n:2] = sub_list\n",
    "print(list_of_int)"
   ]
  },
  {
   "cell_type": "code",
   "execution_count": null,
   "metadata": {},
   "outputs": [],
   "source": [
    "list_of_int.insert(-1, 1000)\n",
    "print(list_of_int)"
   ]
  },
  {
   "cell_type": "code",
   "execution_count": null,
   "metadata": {},
   "outputs": [],
   "source": [
    "item = list_of_int.pop(2)\n",
    "print(item, list_of_int)"
   ]
  },
  {
   "cell_type": "code",
   "execution_count": null,
   "metadata": {},
   "outputs": [],
   "source": [
    "item = list_of_int.pop(list_of_int.index(1000))\n",
    "print(item, list_of_int)"
   ]
  },
  {
   "cell_type": "code",
   "execution_count": null,
   "metadata": {},
   "outputs": [],
   "source": [
    "print(list_of_int + [-1])"
   ]
  },
  {
   "cell_type": "code",
   "execution_count": null,
   "metadata": {},
   "outputs": [],
   "source": [
    "print([1, 2] * 3)"
   ]
  },
  {
   "cell_type": "code",
   "execution_count": null,
   "metadata": {},
   "outputs": [],
   "source": [
    "my_list = [1, 2, 3]\n",
    "my_list.reverse()\n",
    "print(my_list)"
   ]
  },
  {
   "cell_type": "markdown",
   "metadata": {},
   "source": [
    "### Boucler sur une liste"
   ]
  },
  {
   "cell_type": "code",
   "execution_count": null,
   "metadata": {},
   "outputs": [],
   "source": [
    "my_list = [1, 3, 5, 2, 4, 6]\n",
    "\n",
    "print(\"Exemple 1\")\n",
    "for item in my_list:\n",
    "    print(item)\n",
    "\n",
    "print(\"Exemple 2, à éviter\")\n",
    "for i in range(len(my_list)):\n",
    "    print(my_list[i])\n",
    "\n",
    "print(\"Exemple 3, avec enumerate\")\n",
    "for i, item in enumerate(my_list):\n",
    "    print(i, item)"
   ]
  },
  {
   "cell_type": "code",
   "execution_count": null,
   "metadata": {},
   "outputs": [],
   "source": [
    "# Exemple : calculer les carrés des éléments d'une liste de n éléments\n",
    "\n",
    "n = 10\n",
    "\n",
    "# Cas 1 : à éviter !\n",
    "new_list = []\n",
    "for item in range(n):\n",
    "    new_list.append(item**2)\n",
    "print(new_list)\n",
    "\n",
    "# Cas 2 : listes de compréhension\n",
    "print([item**2 for item in range(n)])"
   ]
  },
  {
   "attachments": {},
   "cell_type": "markdown",
   "metadata": {},
   "source": [
    "### Conditionnelle avec une liste"
   ]
  },
  {
   "cell_type": "code",
   "execution_count": null,
   "metadata": {},
   "outputs": [],
   "source": [
    "my_list = [1, 2, 3]\n",
    "if my_list != []:\n",
    "    print(\"Not empty\")\n",
    "\n",
    "if my_list:\n",
    "    print(\"Not empty\")"
   ]
  },
  {
   "cell_type": "code",
   "execution_count": null,
   "metadata": {},
   "outputs": [],
   "source": [
    "my_list = []\n",
    "if my_list == []:\n",
    "    print(\"Empty\")\n",
    "\n",
    "if not my_list:\n",
    "    print(\"Empty\")"
   ]
  },
  {
   "cell_type": "markdown",
   "metadata": {},
   "source": [
    "## Chaînes de caractères"
   ]
  },
  {
   "cell_type": "code",
   "execution_count": null,
   "metadata": {},
   "outputs": [],
   "source": [
    "s = \"une chaine de caracteres\"\n",
    "print(\"Exemple 1\", s, end=\"\\n\\n\")\n",
    "\n",
    "s = 'une chaine de caracteres'\n",
    "print(\"Exemple 2\", s, end=\"\\n\\n\")\n",
    "\n",
    "s = \"\"\"une chaine \n",
    "de caracteres\"\"\"\n",
    "print(\"Exemple 3\", s, end=\"\\n\\n\")\n",
    "\n",
    "\n",
    "s = \"\"\"une chaine\n",
    "\\tde caracteres\"\"\"\n",
    "print(\"Exemple 4\", s, end=\"\\n\\n\")\n"
   ]
  },
  {
   "cell_type": "code",
   "execution_count": null,
   "metadata": {},
   "outputs": [],
   "source": [
    "print(\"u\" in s)\n",
    "print(\"une\" in s)"
   ]
  },
  {
   "cell_type": "markdown",
   "metadata": {},
   "source": [
    "### Concaténation de chaînes de caractères et formattage\n",
    "\n",
    "L'opérateur `+` permet la concaténation de deux chaînes de caractères."
   ]
  },
  {
   "cell_type": "code",
   "execution_count": null,
   "metadata": {},
   "outputs": [],
   "source": [
    "s = \"une chaine\" + \"de\" + \"caracteres\"\n",
    "print(s)"
   ]
  },
  {
   "cell_type": "markdown",
   "metadata": {},
   "source": [
    "Plusieurs manières existent pour formatter une chaîne de caractères à partir d'objets de types différents\n",
    "\n",
    "* Formattage \"old-school\"\n",
    "* Avec la fonction `format`\n",
    "* f-strings (depuis python3.6, voir [PEP498](https://peps.python.org/pep-0498/))\n",
    "\n",
    "Voir : https://realpython.com/python-f-strings"
   ]
  },
  {
   "cell_type": "code",
   "execution_count": null,
   "metadata": {},
   "outputs": [],
   "source": [
    "pi = 3.14159\n",
    "print(\"pi = {}\".format(pi))\n",
    "print(\"pi = {:.2f}\".format(pi))\n",
    "print(\"pi = {:8.2f}\".format(pi))"
   ]
  },
  {
   "cell_type": "code",
   "execution_count": null,
   "metadata": {},
   "outputs": [],
   "source": [
    "pi = 3.14159\n",
    "print(f\"pi = {pi}\")\n",
    "print(f\"pi = {pi:.2f}\")\n",
    "print(f\"pi = {pi:8.2f}\")"
   ]
  },
  {
   "cell_type": "code",
   "execution_count": null,
   "metadata": {},
   "outputs": [],
   "source": [
    "s = \"python\"\n",
    "print(s[0])\n",
    "print(s[1:3])\n",
    "print(s[1:6:2])"
   ]
  },
  {
   "cell_type": "code",
   "execution_count": null,
   "metadata": {},
   "outputs": [],
   "source": [
    "for item in \"python\":\n",
    "    print(item)"
   ]
  },
  {
   "cell_type": "code",
   "execution_count": null,
   "metadata": {},
   "outputs": [],
   "source": [
    "# Méthode join\n",
    "print(\"_\".join(\"python\"))\n",
    "print(\"_\".join([\"p\", \"y\", \"t\", \"h\", \"o\", \"n\"]))\n",
    "\n",
    "list_of_strings = [\"je\", \"suis\", \"dans\", \"jupyter\"]\n",
    "print(\" \".join(list_of_strings))"
   ]
  },
  {
   "cell_type": "markdown",
   "metadata": {},
   "source": [
    "### Quelques autres méthodes sur les chaînes de caractères"
   ]
  },
  {
   "cell_type": "code",
   "execution_count": null,
   "metadata": {},
   "outputs": [],
   "source": [
    "# Méthode lower\n",
    "print(\"AZERTY\".lower())\n",
    "\n",
    "# Méthode upper\n",
    "print(\"azerty\".upper())\n",
    "\n",
    "# Méthode replace\n",
    "my_str = \"python\"\n",
    "new_str = my_str.replace(\"t\", \"T\")\n",
    "print(new_str)\n",
    "\n",
    "# Méthode split, exemple 1\n",
    "my_str = \"je suis dans jupyter\"\n",
    "print(my_str.split(\" \"))\n",
    "\n",
    "# Méthode split, exemple 2\n",
    "path = \"data/dataset.csv\"\n",
    "file_name = path.split(\"/\")[-1]\n",
    "print(file_name)\n",
    "\n",
    "file_name = path.split(\"/\")[-1].split(\".\")[0]\n",
    "print(file_name)\n",
    "\n",
    "# Remarque : pour la gestion des dossiers et l'intéraction avec l'OS, voir la librairie pathlib\n"
   ]
  },
  {
   "attachments": {},
   "cell_type": "markdown",
   "metadata": {},
   "source": [
    "### Conditionnelle avec des chaînes de caractères"
   ]
  },
  {
   "cell_type": "code",
   "execution_count": null,
   "metadata": {},
   "outputs": [],
   "source": [
    "s = \"python\"\n",
    "if s != \"\":\n",
    "    print(\"Not empty\")\n",
    "\n",
    "if s:\n",
    "    print(\"Not empty\")"
   ]
  },
  {
   "cell_type": "code",
   "execution_count": null,
   "metadata": {},
   "outputs": [],
   "source": [
    "s = \"\"\n",
    "if s == \"\":\n",
    "    print(\"Empty\")\n",
    "\n",
    "if not s:\n",
    "    print(\"Empty\")"
   ]
  },
  {
   "cell_type": "markdown",
   "metadata": {},
   "source": [
    "## Tuples"
   ]
  },
  {
   "cell_type": "code",
   "execution_count": null,
   "metadata": {},
   "outputs": [],
   "source": [
    "my_tuple = (1, 2, 3, 4, 5)\n",
    "print(my_tuple[0])\n",
    "print(my_tuple[0:4:2])"
   ]
  },
  {
   "cell_type": "code",
   "execution_count": null,
   "metadata": {},
   "outputs": [],
   "source": [
    "my_tuple[0] = 10"
   ]
  },
  {
   "cell_type": "code",
   "execution_count": null,
   "metadata": {},
   "outputs": [],
   "source": [
    "print((1, 2) + (3, 4))"
   ]
  },
  {
   "cell_type": "markdown",
   "metadata": {},
   "source": [
    "ATTENTION : l'équivalent de la liste de compréhension pour les tuples ne donne pas directement un tuple mais un [generator](https://realpython.com/introduction-to-python-generators/)."
   ]
  },
  {
   "cell_type": "code",
   "execution_count": null,
   "metadata": {},
   "outputs": [],
   "source": [
    "print((item**2 for item in range(10)))\n"
   ]
  },
  {
   "cell_type": "code",
   "execution_count": null,
   "metadata": {},
   "outputs": [],
   "source": [
    "print(tuple(item**2 for item in range(10)))"
   ]
  },
  {
   "cell_type": "markdown",
   "metadata": {},
   "source": [
    "## Dictionnaires\n",
    "\n",
    "Un dictionnaire est une séquence mutable selon le paradigme clé/valeurs.\n",
    "\n",
    "Principales fonctionnalités sur les dictionnaires :\n",
    "* Ajouter un élément\n",
    "* Remplacer un élément\n",
    "* Supprimer des éléments\n",
    "\n",
    "Quelques méthodes utiles :\n",
    "* get\n",
    "* keys\n",
    "* values\n",
    "* update"
   ]
  },
  {
   "cell_type": "markdown",
   "metadata": {},
   "source": [
    "### Création d'un dictionnaire"
   ]
  },
  {
   "cell_type": "code",
   "execution_count": null,
   "metadata": {},
   "outputs": [],
   "source": [
    "my_dict = {\"key1\": 1, \"key2\": \"value_2\"}\n",
    "print(my_dict)\n",
    "\n",
    "my_dict = dict(key1=1, key2=\"value_2\")\n",
    "print(my_dict)"
   ]
  },
  {
   "cell_type": "markdown",
   "metadata": {},
   "source": [
    "### Accès à la valeur associée à une clé"
   ]
  },
  {
   "cell_type": "markdown",
   "metadata": {},
   "source": [
    "**Cas où la clé existe**"
   ]
  },
  {
   "cell_type": "code",
   "execution_count": null,
   "metadata": {},
   "outputs": [],
   "source": [
    "# Cas 1\n",
    "print(my_dict[\"key1\"])"
   ]
  },
  {
   "cell_type": "code",
   "execution_count": null,
   "metadata": {},
   "outputs": [],
   "source": [
    "# Cas 2\n",
    "print(my_dict.get(\"key1\"))"
   ]
  },
  {
   "cell_type": "markdown",
   "metadata": {},
   "source": [
    "**Cas où la clé n'existe pas**"
   ]
  },
  {
   "cell_type": "code",
   "execution_count": null,
   "metadata": {},
   "outputs": [],
   "source": [
    "# Cas 1\n",
    "print(my_dict[\"key3\"])"
   ]
  },
  {
   "cell_type": "code",
   "execution_count": null,
   "metadata": {},
   "outputs": [],
   "source": [
    "# Cas 2\n",
    "print(my_dict.get(\"key3\"))"
   ]
  },
  {
   "cell_type": "code",
   "execution_count": null,
   "metadata": {},
   "outputs": [],
   "source": [
    "# Cas 3, mettre une valeur par défaut lorsque la clé n'existe pas\n",
    "print(my_dict.get(\"key3\", -1))\n",
    "\n",
    "# Le cas 2 est équivalent à my_dict.get(\"key3\", None)"
   ]
  },
  {
   "cell_type": "markdown",
   "metadata": {},
   "source": [
    "Conclusion : pour l'accès des valeurs d'un dictionnaire, préférer la méthode ``get``"
   ]
  },
  {
   "cell_type": "markdown",
   "metadata": {},
   "source": [
    "### Vérifier si une clé existe"
   ]
  },
  {
   "cell_type": "code",
   "execution_count": null,
   "metadata": {},
   "outputs": [],
   "source": [
    "\"key3\" in my_dict"
   ]
  },
  {
   "cell_type": "markdown",
   "metadata": {},
   "source": [
    "### Ajouter un élément"
   ]
  },
  {
   "cell_type": "code",
   "execution_count": null,
   "metadata": {},
   "outputs": [],
   "source": [
    "my_dict[\"key3\"] = \"val_3\"\n",
    "print(my_dict)\n",
    "print(\"key3\" in my_dict)"
   ]
  },
  {
   "cell_type": "markdown",
   "metadata": {},
   "source": [
    "### Autre façon de mettre à jour un dictionnaire via la méthode update"
   ]
  },
  {
   "cell_type": "code",
   "execution_count": null,
   "metadata": {},
   "outputs": [],
   "source": [
    "# Ajouter un élément\n",
    "new_elt = {\"key5\": 5}\n",
    "my_dict.update(new_elt)\n",
    "print(my_dict)\n",
    "\n",
    "# Modifier un élément existant\n",
    "my_dict.update({\"key5\": 50})\n",
    "print(my_dict)\n",
    "\n",
    "# Ajouter/Modifier plusieurs éléments\n",
    "list_of_elements = [(\"key1\", 10), (\"key6\", 6)]\n",
    "my_dict.update(list_of_elements)\n",
    "print(my_dict)\n",
    "\n"
   ]
  },
  {
   "cell_type": "markdown",
   "metadata": {},
   "source": [
    "### Fusionner deux dictionnaires\n",
    "\n",
    "Jusqu'à python3.9, il n'existait pas de méthode pour fusionner deux dictionnaires (ou plus). La version 3.9 de python introduit la façon suivante\n",
    "\n",
    "```python\n",
    "dict_1 = {\"key1\": 1, \"key2\": 2}\n",
    "dict_2 = {\"key3\": 3, \"key4\": 4}\n",
    "new_dict = dict_1 | dict_2\n",
    "```"
   ]
  },
  {
   "cell_type": "code",
   "execution_count": null,
   "metadata": {},
   "outputs": [],
   "source": [
    "# Fusionner deux dictionnaires, python<3.9\n",
    "dict_1 = {\"key1\": 1, \"key2\": 2}\n",
    "dict_2 = {\"key3\": 3, \"key4\": 4}\n",
    "new_dict = {**dict_1, **dict_2}\n",
    "new_dict"
   ]
  },
  {
   "cell_type": "markdown",
   "metadata": {},
   "source": [
    "### Boucler sur un dictionnaire"
   ]
  },
  {
   "cell_type": "code",
   "execution_count": null,
   "metadata": {},
   "outputs": [],
   "source": [
    "# Cas 1, à préférer\n",
    "for key in my_dict:\n",
    "    print(key, my_dict[key])"
   ]
  },
  {
   "cell_type": "code",
   "execution_count": null,
   "metadata": {},
   "outputs": [],
   "source": [
    "# Cas 2\n",
    "for item in my_dict.items():\n",
    "    print(item)"
   ]
  },
  {
   "cell_type": "code",
   "execution_count": null,
   "metadata": {},
   "outputs": [],
   "source": [
    "# Cas 3\n",
    "for item in my_dict.values():\n",
    "    print(item)"
   ]
  },
  {
   "cell_type": "markdown",
   "metadata": {},
   "source": [
    "### Dictionnaire de compréhension"
   ]
  },
  {
   "cell_type": "code",
   "execution_count": null,
   "metadata": {},
   "outputs": [],
   "source": [
    "print({item: item**2 for item in range(10)})\n",
    "print({f\"key_{item}\": item**2 for item in range(10)})"
   ]
  },
  {
   "attachments": {},
   "cell_type": "markdown",
   "metadata": {},
   "source": [
    "### Conditionnelle avec des dictionnaires"
   ]
  },
  {
   "cell_type": "code",
   "execution_count": null,
   "metadata": {},
   "outputs": [],
   "source": [
    "my_dict = {\"key1\": 1, \"key2\": 2}\n",
    "if my_dict != {}:\n",
    "    print(\"Not empty\")\n",
    "\n",
    "if my_dict:\n",
    "    print(\"Not empty\")"
   ]
  },
  {
   "cell_type": "code",
   "execution_count": null,
   "metadata": {},
   "outputs": [],
   "source": [
    "my_dict = {}\n",
    "if my_dict == {}:\n",
    "    print(\"Empty\")\n",
    "\n",
    "if not my_dict:\n",
    "    print(\"Empty\")"
   ]
  },
  {
   "cell_type": "markdown",
   "metadata": {},
   "source": [
    "## Ensembles\n",
    "\n",
    "Un ensemble est une séquence mutable contenant des éléments non ordonnés et uniques. Un ensemble vide est créé par ``set()``.\n",
    "\n",
    "Principales fonctionnalités :\n",
    "* Tests d'appartenance d'un élément à une séquence\n",
    "* Suppression de doublons\n",
    "* Opérations mathématiques : unions, intersections, etc.\n",
    "\n",
    "Quelques méthodes associées :\n",
    "* difference\n",
    "* intersection\n",
    "* pop\n",
    "* isdisjoint\n",
    "* issubset\n",
    "* union"
   ]
  },
  {
   "cell_type": "code",
   "execution_count": null,
   "metadata": {},
   "outputs": [],
   "source": [
    "print(set())\n",
    "print({1, 2, 2, 3, 3, 3, 4, 4, 4})"
   ]
  },
  {
   "cell_type": "markdown",
   "metadata": {},
   "source": [
    "### Eliminer les doublons d'un objet itérable"
   ]
  },
  {
   "cell_type": "code",
   "execution_count": null,
   "metadata": {},
   "outputs": [],
   "source": [
    "my_dict = [1, 2, 2, 3, 3, 3, 4, 4, 4, 4]\n",
    "print(set(my_dict))"
   ]
  },
  {
   "attachments": {},
   "cell_type": "markdown",
   "metadata": {},
   "source": [
    "## Fonctions"
   ]
  },
  {
   "cell_type": "code",
   "execution_count": null,
   "metadata": {},
   "outputs": [],
   "source": [
    "# Ceci est une fonction\n",
    "# a, b et c sont les arguments\n",
    "# d est une variable locale\n",
    "\n",
    "def fct(a, b, c):\n",
    "    d = (a + b) * c\n",
    "    return d"
   ]
  },
  {
   "cell_type": "code",
   "execution_count": null,
   "metadata": {},
   "outputs": [],
   "source": [
    "print(fct(1, 2, 3))"
   ]
  },
  {
   "cell_type": "code",
   "execution_count": null,
   "metadata": {},
   "outputs": [],
   "source": [
    "print(fct(\"py\", \"thon\", 2))"
   ]
  },
  {
   "cell_type": "code",
   "execution_count": null,
   "metadata": {},
   "outputs": [],
   "source": [
    "print(fct(\"py\", 2, \"thon\"))"
   ]
  },
  {
   "cell_type": "code",
   "execution_count": null,
   "metadata": {},
   "outputs": [],
   "source": [
    "def fct(a=\"py\", b=\"thon\", c=2):\n",
    "    d = (a + b) * c\n",
    "    return d"
   ]
  },
  {
   "cell_type": "code",
   "execution_count": null,
   "metadata": {},
   "outputs": [],
   "source": [
    "print(fct())\n",
    "print(fct(b=1, c=2, a=3))"
   ]
  },
  {
   "cell_type": "markdown",
   "metadata": {},
   "source": [
    "## Mutabilité des objets\n",
    "\n",
    "Un objet mutable peut être modifié après sa création\n",
    "* list\n",
    "* dict\n",
    "* set\n",
    "\n",
    "\n",
    "Un objet immutable ne peut pas être modifié après sa création\n",
    "* int, float, bool\n",
    "* str\n",
    "* tuple\n",
    "* byte"
   ]
  },
  {
   "cell_type": "markdown",
   "metadata": {},
   "source": [
    "### Objets immutables"
   ]
  },
  {
   "cell_type": "code",
   "execution_count": null,
   "metadata": {},
   "outputs": [],
   "source": [
    "a = 1\n",
    "b = a\n",
    "print(b is a)\n",
    "\n",
    "b += 1\n",
    "print(a)\n",
    "print(b)\n",
    "print(b is a)"
   ]
  },
  {
   "cell_type": "markdown",
   "metadata": {},
   "source": [
    "**Que s'est-il passé dans l'exemple ci-dessus ?**"
   ]
  },
  {
   "cell_type": "markdown",
   "metadata": {},
   "source": [
    "### Objets mutables"
   ]
  },
  {
   "cell_type": "code",
   "execution_count": null,
   "metadata": {},
   "outputs": [],
   "source": [
    "a = [1, 2]\n",
    "b = a\n",
    "print(b is a)\n",
    "\n",
    "b[0] += 1\n",
    "print(a)\n",
    "print(b)\n",
    "print(b is a)"
   ]
  },
  {
   "cell_type": "markdown",
   "metadata": {},
   "source": [
    "**Que s'est-il passé dans l'exemple ci-dessus ?**"
   ]
  },
  {
   "cell_type": "markdown",
   "metadata": {},
   "source": [
    "### Dans une fonction, cas 1"
   ]
  },
  {
   "cell_type": "code",
   "execution_count": null,
   "metadata": {},
   "outputs": [],
   "source": [
    "def cast(integer):\n",
    "    integer = str(integer)\n",
    "    return integer\n",
    "\n",
    "a = 1\n",
    "b = cast(a)\n",
    "print(a, type(a))\n",
    "print(b, type(b))"
   ]
  },
  {
   "cell_type": "markdown",
   "metadata": {},
   "source": [
    "### Dans une fonction, cas 2"
   ]
  },
  {
   "cell_type": "code",
   "execution_count": null,
   "metadata": {},
   "outputs": [],
   "source": [
    "def cast_list(l, idx):\n",
    "    l[idx] = str(l[idx])\n",
    "    return l\n",
    "\n",
    "l = [1, 2]\n",
    "print(l)\n",
    "casted_list = cast_list(l, 0)\n",
    "print(l)\n",
    "print(casted_list)"
   ]
  },
  {
   "cell_type": "markdown",
   "metadata": {},
   "source": [
    "### Dans une fonction, cas 3"
   ]
  },
  {
   "cell_type": "code",
   "execution_count": null,
   "metadata": {},
   "outputs": [],
   "source": [
    "def cast_list(l, idx):\n",
    "    l = l.copy()\n",
    "    l[idx] = str(l[idx])\n",
    "    return l\n",
    "\n",
    "l = [1, 2]\n",
    "print(l)\n",
    "casted_list = cast_list(l, 0)\n",
    "print(l)\n",
    "print(casted_list)"
   ]
  },
  {
   "attachments": {},
   "cell_type": "markdown",
   "metadata": {},
   "source": [
    "## Modules et imports"
   ]
  },
  {
   "cell_type": "code",
   "execution_count": null,
   "metadata": {},
   "outputs": [],
   "source": [
    "from numpy import *\n",
    "from math import *\n",
    "\n",
    "print(sqrt([1, 2, 3]))"
   ]
  },
  {
   "cell_type": "code",
   "execution_count": null,
   "metadata": {},
   "outputs": [],
   "source": [
    "import numpy as np\n",
    "\n",
    "print(np.sqrt([1, 2, 3]))"
   ]
  },
  {
   "attachments": {},
   "cell_type": "markdown",
   "metadata": {},
   "source": [
    "Dans un fichier `main.py`, écrire ce qui suit :\n",
    "\n",
    "```python\n",
    "a = 1\n",
    "print(a)\n",
    "\n",
    "if __name__ == \"__main__\":\n",
    "    a += 1\n",
    "    print(a)\n",
    "```\n",
    "\n",
    "Exécuter le programme de deux façons :\n",
    "1. dans un terminal : `python main.py`\n",
    "2. dans un shell python\n",
    "   1. `python` pour ouvrir le shell depuis un terminal\n",
    "   2. `import main` pour importer le module\n",
    "\n",
    "Commenter le résultat."
   ]
  }
 ],
 "metadata": {
  "kernelspec": {
   "display_name": "env_test",
   "language": "python",
   "name": "python3"
  },
  "language_info": {
   "codemirror_mode": {
    "name": "ipython",
    "version": 3
   },
   "file_extension": ".py",
   "mimetype": "text/x-python",
   "name": "python",
   "nbconvert_exporter": "python",
   "pygments_lexer": "ipython3",
   "version": "3.13.3"
  }
 },
 "nbformat": 4,
 "nbformat_minor": 4
}
