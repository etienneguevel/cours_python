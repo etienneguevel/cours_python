{
 "cells": [
  {
   "cell_type": "markdown",
   "id": "bdeffb86-7f4a-4bab-88fb-9bec50a23919",
   "metadata": {},
   "source": [
    "# Session 1"
   ]
  },
  {
   "cell_type": "markdown",
   "id": "5fff5ddc-a575-409c-b521-0d27f56d50d2",
   "metadata": {},
   "source": [
    "Résoudre chacun des exercices listés ci-dessous.  \n",
    "Ne pas hésiter à parcourir le notebook `pratique.ipynb` ou la documentation python sur internet pour trouver des solutions !"
   ]
  },
  {
   "cell_type": "markdown",
   "id": "68bde04b-ab48-4aee-99ff-9c20067ccdb6",
   "metadata": {},
   "source": [
    "## Exercices"
   ]
  },
  {
   "cell_type": "markdown",
   "id": "8c139a52-6b4f-47ab-b45a-092974cc095c",
   "metadata": {},
   "source": [
    "### Chaîne de caractères"
   ]
  },
  {
   "cell_type": "markdown",
   "id": "f3f1bcdb-5061-4e65-8627-4f016fdb8c3d",
   "metadata": {},
   "source": [
    "**Exercice 1 : boucle ``for``**\n",
    "\n",
    "Implémenter une fonction ``to_list`` qui renvoie la liste des caractères d'une chaîne de caractères, sans utiliser la fonction ``list``.\n",
    "\n",
    "Par exemple,\n",
    "* pour `s = \"python\"`, la fonction renverra la liste `[\"p\", \"y\", \"t\", \"h\", \"o\", \"n\"]`\n",
    "* pour `s = \"\"`, la fonction renverra la liste `[]`"
   ]
  },
  {
   "cell_type": "code",
   "execution_count": 1,
   "id": "41d4f00e",
   "metadata": {},
   "outputs": [
    {
     "data": {
      "text/plain": [
       "['p', 'y', 't', 'h', 'o', 'n']"
      ]
     },
     "execution_count": 1,
     "metadata": {},
     "output_type": "execute_result"
    }
   ],
   "source": [
    "# Implémentez la solution ici\n",
    "s = \"python\"\n",
    "list(s)"
   ]
  },
  {
   "cell_type": "code",
   "execution_count": 6,
   "id": "81fcb3dd",
   "metadata": {},
   "outputs": [],
   "source": [
    "def to_list(s):\n",
    "    my_list = []\n",
    "    for i in s:\n",
    "        my_list.append(i)\n",
    "    \n",
    "    return my_list"
   ]
  },
  {
   "cell_type": "code",
   "execution_count": null,
   "id": "95044f71",
   "metadata": {},
   "outputs": [],
   "source": [
    "def to_list_2(s):\n",
    "    my_list = [c for c in s]\n",
    "    return my_list"
   ]
  },
  {
   "cell_type": "code",
   "execution_count": 9,
   "id": "45e7ec95",
   "metadata": {},
   "outputs": [
    {
     "data": {
      "text/plain": [
       "['p', 'y', 't', 'h', 'o', 'n']"
      ]
     },
     "execution_count": 9,
     "metadata": {},
     "output_type": "execute_result"
    }
   ],
   "source": [
    "to_list_2(s)"
   ]
  },
  {
   "cell_type": "markdown",
   "id": "a79403af-85a2-46ee-bcd1-54308c3b792a",
   "metadata": {},
   "source": [
    "**Exercice 2 : Décomposer une phrase**\n",
    "\n",
    "Implémenter une fonction qui prend en entrée une phrase et qui renvoie un par un les mots en minuscule de cette phrase.\n",
    "Exemple :  \n",
    "`Mon chien est marron, et court très vite.` renverra:\n",
    "```\n",
    "mon\n",
    "chien\n",
    "est\n",
    "marron\n",
    "et\n",
    "court\n",
    "très\n",
    "vite\n",
    "```"
   ]
  },
  {
   "cell_type": "code",
   "execution_count": null,
   "id": "d3a9a132",
   "metadata": {},
   "outputs": [],
   "source": [
    "# Implémentez la solution ici\n",
    "def function(s):\n",
    "    # Définir une liste de punctuations\n",
    "    punctuations = [\",\", \".\", \"?\", \";\", \":\", \"!\", \"\\n\"]\n",
    "\n",
    "    # Itérer sur la liste et enlever les caractères\n",
    "    for p in punctuations:\n",
    "        s = s.replace(p, \"\")\n",
    "    print(s)\n",
    "    \n",
    "    # Mettre en minuscule\n",
    "    s = s.lower()\n",
    "    print(s)\n",
    "\n",
    "    # Split sur les espaces\n",
    "    list_s = s.split(\" \")\n",
    "    for mot in list_s:\n",
    "        print(mot)"
   ]
  },
  {
   "cell_type": "code",
   "execution_count": 14,
   "id": "318bb611",
   "metadata": {},
   "outputs": [],
   "source": [
    "# Implémentez la solution ici\n",
    "def function_2(s):\n",
    "    # Définir une liste de punctuations\n",
    "    punctuations = [\",\", \".\", \"?\", \";\", \":\", \"!\", \"\\n\"]\n",
    "\n",
    "    # Définir une nouvelle liste\n",
    "    new_str = \"\"\n",
    "    for i in s:\n",
    "        if i not in punctuations:\n",
    "            new_str += i\n",
    "    \n",
    "    print(new_str)\n",
    "    \n",
    "    # Mettre en minuscule\n",
    "    s = new_str.lower()\n",
    "    print(s)\n",
    "\n",
    "    # Split sur les espaces\n",
    "    list_s = s.split(\" \")\n",
    "    for mot in list_s:\n",
    "        print(mot)"
   ]
  },
  {
   "cell_type": "code",
   "execution_count": 13,
   "id": "b04d0540",
   "metadata": {},
   "outputs": [
    {
     "name": "stdout",
     "output_type": "stream",
     "text": [
      "Mon chien est marron et court très vite\n",
      "mon chien est marron et court très vite\n",
      "mon\n",
      "chien\n",
      "est\n",
      "marron\n",
      "et\n",
      "court\n",
      "très\n",
      "vite\n"
     ]
    }
   ],
   "source": [
    "s = \"Mon chien est marron, et court très vite.\"\n",
    "function(s)"
   ]
  },
  {
   "cell_type": "code",
   "execution_count": 15,
   "id": "9ad923f5",
   "metadata": {},
   "outputs": [
    {
     "name": "stdout",
     "output_type": "stream",
     "text": [
      "Mon chien est marron et court très vite\n",
      "mon chien est marron et court très vite\n",
      "mon\n",
      "chien\n",
      "est\n",
      "marron\n",
      "et\n",
      "court\n",
      "très\n",
      "vite\n"
     ]
    }
   ],
   "source": [
    "function_2(s)"
   ]
  },
  {
   "cell_type": "markdown",
   "id": "ae2e4377-2970-44ff-9eb6-2a88c41ceb2b",
   "metadata": {},
   "source": [
    "**Exercice 3 : trouver l'extension d'un fichier**\n",
    "\n",
    "Implémenter une fonction qui permettra de trouver quelle est l'extension d'un fichier parmi celles listées ci-dessous:\n",
    "- `.gif` -> `image`\n",
    "- `.jpg` -> `image`\n",
    "- `.jpeg` -> `image`\n",
    "- `.png` -> `image`\n",
    "- `.pdf` -> `text`\n",
    "- `.txt` -> `text`\n",
    "\n",
    "Et renverra en plus quel est le type du fichier.  \n",
    "Exemple : `my_cat.png` renverra `image/.png`"
   ]
  },
  {
   "cell_type": "code",
   "execution_count": null,
   "id": "e4519fad",
   "metadata": {},
   "outputs": [],
   "source": [
    "# Implémentez la solution ici\n"
   ]
  },
  {
   "cell_type": "markdown",
   "id": "0a406061-b31e-469d-92fd-708addbab693",
   "metadata": {},
   "source": [
    "### Listes"
   ]
  },
  {
   "cell_type": "markdown",
   "id": "e40bcb69-0d37-4bbb-85e1-8043bd792cb6",
   "metadata": {},
   "source": [
    "**Exercice 1 : Calcul du carré des entiers**  \n",
    "\n",
    "\n",
    "Implémenter une fonction `square` prenant comme argument `n` et renvoyant la liste du carré des nombres pairs jusqu'à n.  \n",
    "Exemple:\n",
    "\n",
    "```\n",
    ">>> square(10)\n",
    "[0, 4, 16, 36, 64, 100]\n",
    "```"
   ]
  },
  {
   "cell_type": "code",
   "execution_count": 18,
   "id": "838c399d",
   "metadata": {},
   "outputs": [],
   "source": [
    "# Implémentez la solution ici\n",
    "def square(n):\n",
    "    my_list = [i ** 2 for i in range(n+1) if i%2 == 0]\n",
    "    \n",
    "    return my_list"
   ]
  },
  {
   "cell_type": "code",
   "execution_count": 19,
   "id": "22519596",
   "metadata": {},
   "outputs": [
    {
     "data": {
      "text/plain": [
       "[0, 4, 16, 36, 64, 100]"
      ]
     },
     "execution_count": 19,
     "metadata": {},
     "output_type": "execute_result"
    }
   ],
   "source": [
    "square(10)"
   ]
  },
  {
   "cell_type": "markdown",
   "id": "b393b9bf-4f77-4b05-848b-4e5209f5289d",
   "metadata": {},
   "source": [
    "**Exercice 2 : Test d'égalité entre deux liste**\n",
    "\n",
    "Implémenter une fonction ``equal`` qui renvoie qui renvoie ``True`` si deux listes passées en argument sont égales élément par élément, sans utiliser l'opérateur ``==``\n",
    "\n",
    "Par exemple,\n",
    "* pour `l1 = []` et `l2 = []`, la fonction renverra `True`\n",
    "* pour `l1 = [1, 2, 3]` et `l2 = [1, 2, 3]`, la fonction renverra `True`\n",
    "* pour `l1 = [1, 2, 3]` et `l2 = [1, 3, 2]`, la fonction renverra `False`\n",
    "* pour `l1 = [1, 2, 3]` et `l2 = [1, 2]`, la fonction renverra `False`"
   ]
  },
  {
   "cell_type": "code",
   "execution_count": 23,
   "id": "0ef59a23",
   "metadata": {},
   "outputs": [
    {
     "data": {
      "text/plain": [
       "False"
      ]
     },
     "execution_count": 23,
     "metadata": {},
     "output_type": "execute_result"
    }
   ],
   "source": [
    "l1 = [1, 2, 4]\n",
    "l2 = [1, 2, 3]\n",
    "\n",
    "l1 == l2"
   ]
  },
  {
   "cell_type": "code",
   "execution_count": 24,
   "id": "e8b553ad",
   "metadata": {},
   "outputs": [],
   "source": [
    "# Implémentez la solution ici\n",
    "def equal(l1, l2):\n",
    "    # Si les deux listes sont de même longueur\n",
    "    if len(l1) != len(l2):\n",
    "        return False\n",
    "    \n",
    "    for i in range(len(l1)):\n",
    "        if l1[i] != l1[2]:\n",
    "            return False\n",
    "        \n",
    "    return True"
   ]
  },
  {
   "cell_type": "code",
   "execution_count": 25,
   "id": "131ff4b1",
   "metadata": {},
   "outputs": [
    {
     "data": {
      "text/plain": [
       "True"
      ]
     },
     "execution_count": 25,
     "metadata": {},
     "output_type": "execute_result"
    }
   ],
   "source": [
    "l1 = []\n",
    "l2 = []\n",
    "equal(l1, l2)"
   ]
  },
  {
   "cell_type": "markdown",
   "id": "5506c68f-cfad-4856-99af-bcb41ef05958",
   "metadata": {},
   "source": [
    "**Exercice 3 : Fibonacci**\n",
    "\n",
    "Implémenter une fonction `fibo` qui renvoie la suite de Fibonacci dont les élements sont inférieurs à `n`. \n",
    "\n",
    "Par exemple, pour `n=6`, la fonction renverra `[0, 1, 1, 2, 3, 5]`"
   ]
  },
  {
   "cell_type": "code",
   "execution_count": null,
   "id": "d894fa6f",
   "metadata": {},
   "outputs": [],
   "source": [
    "# Implémentez la solution ici\n"
   ]
  },
  {
   "cell_type": "markdown",
   "id": "839bacd2-c33a-4c42-9c89-5e448ade5b87",
   "metadata": {},
   "source": [
    "## Conditions"
   ]
  },
  {
   "cell_type": "markdown",
   "id": "de9abf62-4dc6-40aa-8e55-ea5bc8e1d199",
   "metadata": {},
   "source": [
    "**Exercice 1 : Egalité des chiffres**\n",
    "\n",
    "Implémenter une fonction `equal` permettant de dire si deux chiffres `a` et `b` sont égaux, et sinon de dire si a est plus ou moins grand que b.\n",
    "\n",
    "Exemple : \n",
    "\n",
    "`equal(2, 3)` renvoie `plus petit`"
   ]
  },
  {
   "cell_type": "code",
   "execution_count": null,
   "id": "c2a5dfc6",
   "metadata": {},
   "outputs": [],
   "source": [
    "# Implémentez la solution ici\n"
   ]
  },
  {
   "cell_type": "markdown",
   "id": "4f88d5c1-5a07-454c-a103-c341ffb91f22",
   "metadata": {},
   "source": [
    "**Exercice 2 : Trouver le type**\n",
    "\n",
    "Implémenter une fonction `varType` qui prends en entrée un argument et renvoie :\n",
    "- `chaîne de caractères` si c'est un string\n",
    "- `nombre` si c'est un `int` ou un `float`\n",
    "- `liste` si c'est une `list`\n",
    "- `...` si c'est un autre argument"
   ]
  },
  {
   "cell_type": "code",
   "execution_count": null,
   "id": "ef0cdf7b",
   "metadata": {},
   "outputs": [],
   "source": [
    "# Implémentez la solution ici\n"
   ]
  },
  {
   "cell_type": "markdown",
   "id": "bfc753a6-a304-4f88-bbfb-35a6c72d9c5c",
   "metadata": {},
   "source": [
    "**Exercice 3 : L'heure du repas**\n",
    "\n",
    "Implémenter une fonction `meal_time` qui prend en entrée un `str` indiquant une heure (`8:30`, `16:45` ...) et qui renvoie quel repas il est temps de prendre.  \n",
    "Les plages horaires sont:\n",
    "- petit-déjeuner entre 7h et 10h\n",
    "- déjeuner entre 12h et 15h\n",
    "- dîner entre 18h et 22h\n",
    "\n",
    "Exemple :  \n",
    "`meal_time(\"8:23\")` renvoie `petit-déjeuner`  \n",
    "`meal_time(\"11:30\")` ne renvoie rien"
   ]
  },
  {
   "cell_type": "code",
   "execution_count": null,
   "id": "5491a05a",
   "metadata": {},
   "outputs": [],
   "source": [
    "# Implémentez la solution ici\n"
   ]
  },
  {
   "cell_type": "markdown",
   "id": "de761842",
   "metadata": {},
   "source": [
    "## Difficulté supérieure\n",
    "\n",
    "Ces exercices sont tirés de [leetcode](https://leetcode.com/problem-list/prshgx6i/),\n",
    "si vous voulez les faire sur la plateforme directement n'hésitez pas !"
   ]
  },
  {
   "cell_type": "markdown",
   "id": "7804dbcc",
   "metadata": {},
   "source": [
    "### Exercice 1\n",
    "\n",
    "[Source](https://leetcode.com/problems/find-words-containing-character/description/?envType=problem-list-v2&envId=prshgx6i)\n",
    "\n",
    "On vous donne une liste de chaînes de caractères **words** indexé à partir de 0, ainsi qu’un caractère **x**.  \n",
    "\n",
    "Retournez une liste des indices représentant les mots qui contiennent le caractère **x**.  \n",
    "\n",
    "---\n",
    "\n",
    "__Exemple 1__\n",
    "\n",
    "**Entrée :**  \n",
    "`words = [\"leet\",\"code\"], x = \"e\"`  \n",
    "\n",
    "**Sortie :**  \n",
    "`[0,1]`  \n",
    "\n",
    "**Explication :**  \n",
    "`\"e\"` apparaît dans les deux mots : `\"leet\"` et `\"code\"`. On retourne donc les indices 0 et 1.  \n",
    "\n",
    "---\n",
    "\n",
    "__Exemple 2__\n",
    "\n",
    "**Entrée :**  \n",
    "`words = [\"abc\",\"bcd\",\"aaaa\",\"cbc\"], x = \"a\"`  \n",
    "\n",
    "**Sortie :**  \n",
    "`[0,2]`  \n",
    "\n",
    "**Explication :**  \n",
    "`\"a\"` apparaît dans `\"abc\"` et `\"aaaa\"`. On retourne donc les indices 0 et 2.  \n",
    "\n",
    "---\n",
    "\n",
    "__Exemple 3__\n",
    "\n",
    "**Entrée :**  \n",
    "`words = [\"abc\",\"bcd\",\"aaaa\",\"cbc\"], x = \"z\"`  \n",
    "\n",
    "**Sortie :**  \n",
    "`[]`  \n",
    "\n",
    "**Explication :**  \n",
    "`\"z\"` n’apparaît dans aucun mot. On retourne donc un tableau vide.  \n"
   ]
  },
  {
   "cell_type": "code",
   "execution_count": null,
   "id": "7fe9faec",
   "metadata": {},
   "outputs": [],
   "source": [
    "# Implémentez la solution ici\n"
   ]
  },
  {
   "cell_type": "markdown",
   "id": "befa876b",
   "metadata": {},
   "source": [
    "### Exercice 2\n",
    "\n",
    "[Source](https://leetcode.com/problems/robot-return-to-origin/description/?envType=problem-list-v2&envId=prshgx6i)\n",
    "\n",
    "Un robot démarre à la position (0, 0), l’origine, sur un plan 2D.  \n",
    "Étant donné une séquence de ses déplacements, déterminez si ce robot se retrouve\n",
    "à (0, 0) après avoir terminé tous ses mouvements.\n",
    "\n",
    "On vous donne une chaîne `moves` qui représente la séquence des déplacements du\n",
    "robot, où `moves[i]` représente son iᵉ déplacement.  \n",
    "Les mouvements valides sont :  \n",
    "- `'R'` (droite)  \n",
    "- `'L'` (gauche)  \n",
    "- `'U'` (haut)  \n",
    "- `'D'` (bas)  \n",
    "\n",
    "Retournez `true` si le robot revient à l’origine après avoir exécuté tous ses mouvements, sinon retournez `false`.\n",
    "\n",
    "**Remarque :** L’orientation du robot n’a aucune importance.  \n",
    "- `'R'` fera toujours avancer le robot d’un pas vers la droite,  \n",
    "- `'L'` toujours d’un pas vers la gauche, etc.  \n",
    "De plus, on suppose que la distance parcourue par le robot est la même pour chaque déplacement.\n",
    "\n",
    "---\n",
    "\n",
    "__Exemple 1__\n",
    "\n",
    "**Entrée :** `moves = \"UD\"`  \n",
    "**Sortie :** `true`  \n",
    "**Explication :** Le robot monte une fois, puis descend une fois. Tous les déplacements ont la même magnitude, donc il revient à l’origine où il avait commencé. On retourne donc `true`.\n",
    "\n",
    "---\n",
    "\n",
    "__Exemple 2__\n",
    "\n",
    "**Entrée :** `moves = \"LL\"`  \n",
    "**Sortie :** `false`  \n",
    "**Explication :** Le robot se déplace deux fois vers la gauche.  \n",
    "Il termine deux \"pas\" à gauche de l’origine. On retourne `false` car il n’est pas revenu à l’origine après ses déplacements.\n"
   ]
  },
  {
   "cell_type": "code",
   "execution_count": null,
   "id": "6869d183",
   "metadata": {},
   "outputs": [],
   "source": [
    "# Implémentez la solution ici\n"
   ]
  },
  {
   "cell_type": "markdown",
   "id": "e20c282b",
   "metadata": {},
   "source": [
    "### Exercice 3\n",
    "\n",
    "[Source](https://leetcode.com/problems/add-digits/description/?envType=problem-list-v2&envId=prshgx6i)\n",
    "\n",
    "Étant donné un entier `num`, additionnez de manière répétée tous ses chiffres\n",
    "jusqu’à ce que le résultat ne contienne plus qu’un seul chiffre, puis renvoyez-le.\n",
    "\n",
    "---\n",
    "\n",
    "__Exemple 1 :__\n",
    "\n",
    "**Entrée :** num = 38  \n",
    "**Sortie :** 2  \n",
    "**Explication :**  \n",
    "38 --> 3 + 8 --> 11  \n",
    "11 --> 1 + 1 --> 2  \n",
    "Comme 2 n’a qu’un seul chiffre, on le renvoie.\n",
    "\n",
    "---\n",
    "\n",
    "__Exemple 2 :__\n",
    "\n",
    "**Entrée :** num = 0  \n",
    "**Sortie :** 0\n"
   ]
  },
  {
   "cell_type": "code",
   "execution_count": null,
   "id": "a0588b6a",
   "metadata": {},
   "outputs": [],
   "source": [
    "# Implémentez la solution ici\n"
   ]
  },
  {
   "cell_type": "markdown",
   "id": "ab57199e",
   "metadata": {},
   "source": [
    "### Exercice 4\n",
    "\n",
    "[Source](https://leetcode.com/problems/type-of-triangle/description/?envType=problem-list-v2&envId=prshgx6i)\n",
    "\n",
    "On vous donne une liste d'entiers `nums` indexé à partir de 0, de taille 3,\n",
    "qui représente les côtés d’un triangle.\n",
    "\n",
    "- Un triangle est dit **équilatéral** s’il a tous ses côtés de la même longueur.  \n",
    "- Un triangle est dit **isocèle** s’il a exactement deux côtés de la même longueur.  \n",
    "- Un triangle est dit **scalène** si tous ses côtés ont des longueurs différentes.  \n",
    "\n",
    "Retournez une chaîne représentant le type de triangle qui peut être formé,\n",
    "ou `\"none\"` si un triangle ne peut pas être formé.\n",
    "\n",
    "---\n",
    "\n",
    "__Exemple 1__\n",
    "\n",
    "**Entrée :** `nums = [3,3,3]`  \n",
    "**Sortie :** `\"equilateral\"`  \n",
    "**Explication :** Comme tous les côtés sont de même longueur, cela forme un triangle équilatéral.\n",
    "\n",
    "---\n",
    "\n",
    "__Exemple 2__\n",
    "\n",
    "**Entrée :** `nums = [3,4,5]`  \n",
    "**Sortie :** `\"scalene\"`  \n",
    "**Explication :**  \n",
    "- `nums[0] + nums[1] = 3 + 4 = 7`, ce qui est supérieur à `nums[2] = 5`.  \n",
    "- `nums[0] + nums[2] = 3 + 5 = 8`, ce qui est supérieur à `nums[1] = 4`.  \n",
    "- `nums[1] + nums[2] = 4 + 5 = 9`, ce qui est supérieur à `nums[0] = 3`.  \n",
    "\n",
    "Puisque la somme de deux côtés est supérieure au troisième dans les trois cas, cela peut former un triangle.  \n",
    "Comme tous les côtés sont de longueurs différentes, il s’agit d’un triangle **scalène**.\n",
    "\n",
    "---\n",
    "__Exemple 3__\n",
    "\n",
    "**Entrée :** `nums = [1,2,3]`  \n",
    "**Sortie :** `\"none\"`  \n",
    "**Explication :**  \n",
    "- `1 + 2 = 3`, qui **n’est pas strictement supérieur** à `3`.  \n",
    "Cela viole l’inégalité triangulaire, donc les côtés donnés ne peuvent pas former un triangle.  \n",
    "On retourne `\"none\"`."
   ]
  },
  {
   "cell_type": "code",
   "execution_count": null,
   "id": "27659528",
   "metadata": {},
   "outputs": [],
   "source": [
    "# Implémentez la solution ici\n"
   ]
  }
 ],
 "metadata": {
  "kernelspec": {
   "display_name": "env_test",
   "language": "python",
   "name": "python3"
  },
  "language_info": {
   "codemirror_mode": {
    "name": "ipython",
    "version": 3
   },
   "file_extension": ".py",
   "mimetype": "text/x-python",
   "name": "python",
   "nbconvert_exporter": "python",
   "pygments_lexer": "ipython3",
   "version": "3.13.3"
  }
 },
 "nbformat": 4,
 "nbformat_minor": 5
}
