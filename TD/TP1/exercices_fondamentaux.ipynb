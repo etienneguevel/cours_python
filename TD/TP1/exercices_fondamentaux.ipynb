{
 "cells": [
  {
   "attachments": {},
   "cell_type": "markdown",
   "metadata": {},
   "source": [
    "## Exercices"
   ]
  },
  {
   "attachments": {},
   "cell_type": "markdown",
   "metadata": {},
   "source": [
    "### Opérations sur les chaînes de caractères"
   ]
  },
  {
   "cell_type": "markdown",
   "metadata": {},
   "source": [
    "**Exercice 1 : boucle ``for``**\n",
    "\n",
    "Implémenter une fonction ``to_list`` qui renvoie la liste des caractères d'une chaîne de caractères, sans utiliser la fonction ``list``.\n",
    "\n",
    "Par exemple,\n",
    "* pour `s = \"python\"`, la fonction renverra la liste `[\"p\", \"y\", \"t\", \"h\", \"o\", \"n\"]`\n",
    "* pour `s = \"\"`, la fonction renverra la liste `[]`"
   ]
  },
  {
   "cell_type": "markdown",
   "metadata": {},
   "source": [
    "**Exercice 2 : `length`**\n",
    "\n",
    "Implémenter une fonction qui compte le nombre de caractères dans une chaîne de caractères, sans utiliser la fonction `len`. La fonction doit rester valide également pour des listes, tuples et dictionnaires\n",
    "\n",
    "Par exemple,\n",
    "* ``length([])`` donnera 0\n",
    "* ``length([\"p\", \"y\", \"t\", \"h\", \"o\", \"n\"])`` donnera 6\n",
    "* ``length((\"p\", \"y\", \"t\", \"h\", \"o\", \"n\"))`` donnera 6\n",
    "* ``length(\"python\")`` donnera 6\n",
    "* ``length({\"key1\": \"val1\", \"key2\": \"val2\"})`` donnera 2\n",
    "* ``length({})`` donnera 0\n"
   ]
  },
  {
   "cell_type": "markdown",
   "metadata": {},
   "source": [
    "**Exercice 3 : `count_element`**\n",
    "\n",
    "* Implémenter une fonction ``count_element`` qui compte le nombre d'occurences d'un caractère `elt` d'une chaîne de caractères `s` sans utiliser la fonction `count`.\n",
    "* Vérifier que la fonction `count_element` fonctionne avec une liste en entrée à la place d'une chaîne de caractère. En particulier, pour une liste `l = [\"a\", 1., 2, 1, 2, 2, \"a\"]` et `elt=\"a\"`, la fonction renverra 2.\n",
    "* Implémenter une fonction ``count_sub_str`` qui compte le nombre d'occurences d'une sous-chaîne de caractères `sub_str` d'une chaîne de caractères `s` sans utiliser la fonction `count`."
   ]
  },
  {
   "cell_type": "markdown",
   "metadata": {},
   "source": [
    "**Exercice 4 : `index`**\n",
    "\n",
    "* Implémenter une fonction ``get_first`` qui renvoie l'indice de la première ocurrence d'un caractère donné en argument, sans utiliser la fonction `index`. La fonction renvoie `None` si le caractère n'est pas dans la chaîne de caractères.\n",
    "* Implémenter une fonction ``get_all`` qui renvoie l'indice de toutes les ocurrences d'un caractère donné en argument. Le type du retour sera une liste d'indices. La fonction renvoie `None` si le caractère n'est pas dans la chaîne de caractères."
   ]
  },
  {
   "cell_type": "markdown",
   "metadata": {},
   "source": [
    "**Exercice 5 : `replace`**\n",
    "\n",
    "Implémenter une fonction qui remplace un élément dans une chaîne de caractères par un autre, sans utiliser la fonction `replace`.\n",
    "La fonction doit retourner la nouvelle chaîne de caractère\n"
   ]
  },
  {
   "cell_type": "markdown",
   "metadata": {},
   "source": [
    "**Exercice 6 : `join`**\n",
    "\n",
    "Implémenter une fonction qui joint les éléments d'une liste de chaîne de caractères avec un séparateur `sep` donné en argument, sans utiliser la fonction ``join``.\n",
    "La fonction doit également prendre une chaîne de caractères en argument. Dans ce cas, la fonction insèrera le séparateur dans la chaîne de caractères. \n",
    "\n",
    "Par exemple, \n",
    "* `join(iterable=[\"py\", \"th\", \"on\"], sep=\"_\")` renverra \"py_th_on\"\n",
    "* `join(iterable=\"python\", sep=\"_\")` renverra \"p_y_t_h_o_n\"\n",
    "* `join(iterable=[\"py\", \"th\", \"on\"], sep=\"\")` renverra \"python\""
   ]
  },
  {
   "attachments": {},
   "cell_type": "markdown",
   "metadata": {},
   "source": [
    "### Opérations sur les listes"
   ]
  },
  {
   "cell_type": "markdown",
   "metadata": {},
   "source": [
    "**Exercice 1 : Test d'égalité entre deux liste**\n",
    "\n",
    "Implémenter une fonction ``equal`` qui renvoie qui renvoie ``True`` si deux listes passées en argument sont égales élément par élément, sans utiliser l'opérateur ``==``\n",
    "\n",
    "Par exemple,\n",
    "* pour `l1 = []` et `l2 = []`, la fonction renverra `True`\n",
    "* pour `l1 = [1, 2, 3]` et `l2 = [1, 2, 3]`, la fonction renverra `True`\n",
    "* pour `l1 = [1, 2, 3]` et `l2 = [1, 3, 2]`, la fonction renverra `False`\n",
    "* pour `l1 = [1, 2, 3]` et `l2 = [1, 2]`, la fonction renverra `False`"
   ]
  },
  {
   "cell_type": "markdown",
   "metadata": {},
   "source": [
    "**Exercice 2 : `range_list`**\n",
    "\n",
    "Créer une fonction `range_list` qui prend `start`, `end` et `step` en argument et qui renvoie une liste d'entiers compris entre `start` et `end`, sans utiliser la fonction `range`.\n",
    "\n",
    "Attention : bien vérifier que `start` est supérieur à `end` et adapter le code au cas où `start < end`. Vous pouvez utiliser plusieurs sous-fonctions si besoin.\n",
    "\n",
    "Exemples :\n",
    "* `range_list(1, 5)` donne ``[1, 2, 3, 4]``\n",
    "* `range_list(1, 5, 1)` donne ``[1, 2, 3, 4]``\n",
    "* `range_list(1, 5, 2)` donne ``[1, 3]``\n",
    "* `range_list(1, 5, -1)` donne ``[]``\n",
    "* `range_list(5, 1, -1)` donne ``[5, 4, 3, 2]``"
   ]
  },
  {
   "cell_type": "markdown",
   "metadata": {},
   "source": [
    "**Exercice 3 : `len`**\n",
    "* Implémenter une fonction `count_pairs` qui renvoie le nombre d'entiers pairs dans une liste et la liste de leur position. Par exemple pour la liste `[1, 2, 3, 4]`, la fonction renverra `(2, [1, 3])`\n",
    "* Implémenter une fonction `get_pairs` qui renvoie la sous-liste des entiers pairs\n",
    "* Implémenter une fonction `increment` qui ajoute 1 aux entiers impairs trouvés dans la liste passée en argument. Par exemple, pour la liste `[1, 5, 3, 2, 6]`, la fonction renverra la liste `[2, 6, 4, 2, 6]`"
   ]
  },
  {
   "cell_type": "markdown",
   "metadata": {},
   "source": [
    "**Exercice 4 : `insert` et `pop`**\n",
    "\n",
    "* Implémenter une fonction `insert_list` qui insère un élément `elt` dans une liste à une position `n` fixée, sans utiliser la fonction `insert`. Exemple : pour `l = [1, 2, 3, 4]`, `elt = 10` et `n = 2`, la fonction renvoie la liste `[1, 2, 10, 3, 4]`\n",
    "* Implémenter une fonction `pop_list` qui supprime l'élément d'une liste à la position `n`, sans utiliser la fonction `pop`. Exemple : pour `l = [1, 2, 3, 4]` et `n = 2`, la fonction renvoie la liste `[1, 2, 4]`"
   ]
  },
  {
   "cell_type": "markdown",
   "metadata": {},
   "source": [
    "**Exercice 5 : Fibonacci**\n",
    "\n",
    "Implémenter une fonction `fibo` qui renvoie la suite de Fibonacci dont les élements sont inférieurs à `n`. \n",
    "\n",
    "Par exemple, pour `n=6`, la fonction renverra `[0, 1, 1, 2, 3, 5]`"
   ]
  },
  {
   "cell_type": "markdown",
   "metadata": {},
   "source": [
    "**Exercice 6 :**\n",
    "\n",
    "Implémenter une fonction `replace_in_list` qui remplace un élément `old` par un autre élément `new` dans une liste `list_of_elements`. Le remplacement doit s'effectuer directement dans la liste passée en argument et ne renvoie rien."
   ]
  },
  {
   "cell_type": "markdown",
   "metadata": {},
   "source": [
    "**Exercice 7 : Triangle de Pascal**\n",
    "\n",
    "Implémenter une fonction `pascal` qui calcule le triangle de Pascal pour un entier `n` passé en argument. Exemple pour `n=6` :\n",
    "\n",
    "```\n",
    "1\n",
    "1  1\n",
    "1  2  1\n",
    "1  3  3  1\n",
    "1  4  6  4  1\n",
    "1  5  10 10 5  1\n",
    "```\n",
    "\n",
    "Les valeurs du triangle devront être stockées dans une liste de `n` listes de taille `n`. Les valeurs en dehors du triangle seront mises à 0.\n",
    "La fonction renverra la liste remplie, par exemple :\n",
    "\n",
    "```python\n",
    "pascal(3)\n",
    "```\n",
    "\n",
    "donnera\n",
    "\n",
    "```python\n",
    "[[1, 0, 0], [1, 1, 0], [1, 2, 1]]\n",
    "```\n"
   ]
  },
  {
   "attachments": {},
   "cell_type": "markdown",
   "metadata": {},
   "source": [
    "**Exercice 8 : tri à bulle**\n",
    "\n",
    "Implémenter le tri à bulle dans une fonction `tri_bulle` selon le pseudo-code suivant :\n",
    "\n",
    "```\n",
    "tri_bulle(Tableau T)\n",
    "    pour i allant de taille(T) - 1 a 1\n",
    "        pour j allant de 0 a i-1\n",
    "            si T[j+1] < T[j]\n",
    "                intervertir T[j] et T[j+1]\n",
    "```\n",
    "\n",
    "L'argument de la fonction est une liste. La fonction ne renvoie rien et modifie la list passée en argument.\n",
    "\n",
    "Exemple :\n",
    "\n",
    "```python\n",
    ">>> my_list = [1, 3, 2, 4]\n",
    ">>> tri_bulle(my_list)\n",
    ">>> print(my_list)\n",
    "[1, 2, 3, 4]\n",
    "```"
   ]
  },
  {
   "attachments": {},
   "cell_type": "markdown",
   "metadata": {},
   "source": [
    "**Exercice 9 : tri par insertion**\n",
    "\n",
    "Implémenter le tri par insertion dans une fonction `tri_insertion` selon le pseudo-code suivant :\n",
    "\n",
    "```\n",
    "tri_insertion(tableau T)\n",
    "  pour i allant de 1 a taille(T) - 1\n",
    "    stocker T[i] dans x\n",
    "      # decaler les elements T[0]..T[i-1] qui sont plus grands que x, en partant de T[i-1]\n",
    "      j = i                               \n",
    "      tant que j > 0 et T[j - 1] > x\n",
    "        T[j] = T[j - 1]\n",
    "        j = j - 1\n",
    "      # placer x dans le \"trou\" laisse par le decalage\n",
    "      T[j] = x\n",
    "```\n",
    "\n",
    "L'argument de la fonction est une liste. La fonction ne renvoie rien et modifie la list passée en argument.\n",
    "\n",
    "Exemple :\n",
    "\n",
    "```python\n",
    ">>> my_list = [1, 3, 2, 4]\n",
    ">>> tri_insertion(my_list)\n",
    ">>> print(my_list)\n",
    "[1, 2, 3, 4]\n",
    "```"
   ]
  },
  {
   "attachments": {},
   "cell_type": "markdown",
   "metadata": {},
   "source": [
    "### Fonctions"
   ]
  },
  {
   "attachments": {},
   "cell_type": "markdown",
   "metadata": {},
   "source": [
    "**Exercice 1**\n",
    "\n",
    "Utiliser la fonction `lambda` pour recoder la fonction suivant en une seule ligne :\n",
    "\n",
    "```python\n",
    "def fct(a, b, c=None):\n",
    "    if not c:\n",
    "        d = a + b\n",
    "    else:\n",
    "        d = (a + b) * c\n",
    "    return d\n",
    "```"
   ]
  },
  {
   "attachments": {},
   "cell_type": "markdown",
   "metadata": {},
   "source": [
    "**Exercice 2**\n",
    "\n",
    "*Question 1*. Implémenter une fonction `modify_inplace` qui modifie une liste passée en paramètre de la façon suivante :\n",
    "\n",
    "```python\n",
    ">>> my_list = [1, 2, 3, 4, 5]\n",
    ">>> modify_inplace(iterable=my_list, position=0, value=10)\n",
    ">>> print(my_list)\n",
    "[10, 2, 3, 4, 5]\n",
    "```\n",
    "\n",
    "*Question 2*. Implémenter une fonction `modify` qui ne modifie pas la liste passée en paramètre mais qui en renvoie une copie modifiée. \n",
    "\n",
    "Exemple :\n",
    "\n",
    "```python\n",
    ">>> my_list = [1, 2, 3, 4, 5]\n",
    ">>> list_modified = modify(iterable=my_list, position=0, value=10)\n",
    ">>> print(my_list)\n",
    "[1, 2, 3, 4, 5]\n",
    ">>> print(list_modified)\n",
    "[10, 2, 3, 4, 5]\n",
    "```"
   ]
  },
  {
   "cell_type": "markdown",
   "metadata": {},
   "source": [
    "### Opérations sur les dictionnaires"
   ]
  },
  {
   "cell_type": "markdown",
   "metadata": {},
   "source": [
    "**Exercice 1 :**\n",
    "\n",
    "* Implémenter une fonction `dict_to_list` qui renvoie une liste contenant des tuples `(key, value)` comme suit :\n",
    "```json\n",
    "[\n",
    "    (\"a\", 1),\n",
    "    (\"b\", 2),\n",
    "    (\"c\", 3)\n",
    "]\n",
    "```\n",
    "correspondant au dictionnaire\n",
    "```json\n",
    "{\n",
    "    \"a\": 1,\n",
    "    \"b\": 2,\n",
    "    \"c\": 3\n",
    "}\n",
    "```\n",
    "\n",
    "\n",
    "* Implémenter une fonction `get_type` qui renvoie un dictionnaire contenant le type de chaque élément et ce à partir d'une liste d'éléments quelconques nommée `list_of_items`.\n",
    "\n",
    "Par exemple, pour la liste `[0, \"1\", True, 9]`, la fonction renverra\n",
    "```json\n",
    "{\n",
    "    0: int,\n",
    "    \"1\": str,\n",
    "    True: bool,\n",
    "    9: int\n",
    "}\n",
    "```"
   ]
  },
  {
   "cell_type": "markdown",
   "metadata": {},
   "source": [
    "**Exercice 2 :**\n",
    "\n",
    "Implémenter une fonction `update_dict` qui modifie un dictionnaire `dic` passé en paramètre avec une listes de tuples `(key, value)`, sans utiliser `update`.\n",
    "\n",
    "Exemple : pour\n",
    "\n",
    "```json\n",
    "dic = {\n",
    "    \"a\": 1,\n",
    "    \"b\": 2,\n",
    "    \"c\": 3\n",
    "}\n",
    "```\n",
    "\n",
    "et\n",
    "\n",
    "```json\n",
    "[\n",
    "    (\"b\", 20),\n",
    "    (\"c\", 30),\n",
    "    (\"d\", -1)\n",
    "]\n",
    "```\n",
    "\n",
    "la fonction modifiera le dictionnaire en\n",
    "\n",
    "```json\n",
    "{\n",
    "    \"a\": 1,\n",
    "    \"b\": 20,\n",
    "    \"c\": 30,\n",
    "    \"d\": -1\n",
    "}\n",
    "```\n",
    "\n",
    "Implémenter une fonction `update_dict_copy` qui ne modifie pas le dictionnaire donné en argument et qui renvoie une copie modifiée"
   ]
  },
  {
   "cell_type": "markdown",
   "metadata": {},
   "source": [
    "**Exercice 3 :**\n",
    "\n",
    "Implémenter une fonction `get_item` qui fait la même chose que la méthode `get` d'un dictionnaire. Par exemple, pour `d = {\"a\": 1, \"b\": 2}`\n",
    "\n",
    "* ``get_item(dic=d, item=\"a\")`` donne ``1``\n",
    "* ``get_item(dic=d, item=\"c\")`` donne ``None``\n",
    "* ``get_item(dic=d, item=\"b\", default=-1)`` donne ``2``\n",
    "* ``get_item(dic=d, item=\"c\", default=-1)`` donne ``-1``"
   ]
  },
  {
   "cell_type": "markdown",
   "metadata": {},
   "source": [
    "**Exercice 4 :**\n",
    "\n",
    "Implémenter une fonction `count_pairs_dict` qui compte le nombre d'entiers pairs et impairs dans un dictionnaire et qui renvoie un dictionnaire de la forme :\n",
    "\n",
    "```python\n",
    "{\n",
    "    \"even\": 2,\n",
    "    \"keys_even\": [\"a\", \"b\"],\n",
    "    \"odd\": 1,\n",
    "    \"keys_odd\": [\"c\"]\n",
    "}\n",
    "```\n",
    "\n",
    "pour le dictionnaire \n",
    "\n",
    "```python\n",
    "dic = {\n",
    "    \"a\": 2,\n",
    "    \"b\": 4,\n",
    "    \"c\": 1\n",
    "}\n",
    "```"
   ]
  },
  {
   "attachments": {},
   "cell_type": "markdown",
   "metadata": {},
   "source": [
    "### Modules et imports\n",
    "\n",
    "**Exercice 1**\n",
    "\n",
    "1. Créer un fichier `my_module.py` dans lequel vous implémenter les fonctions précédentes\n",
    "2. Dans un Jupyter, importer les fonctions et les exécuter\n",
    "3. Dans un fichier `main.py`, importer les fonctions et les exécuter via un terminal"
   ]
  }
 ],
 "metadata": {
  "kernelspec": {
   "display_name": "env_test",
   "language": "python",
   "name": "python3"
  },
  "language_info": {
   "codemirror_mode": {
    "name": "ipython",
    "version": 3
   },
   "file_extension": ".py",
   "mimetype": "text/x-python",
   "name": "python",
   "nbconvert_exporter": "python",
   "pygments_lexer": "ipython3",
   "version": "3.13.3"
  }
 },
 "nbformat": 4,
 "nbformat_minor": 4
}
