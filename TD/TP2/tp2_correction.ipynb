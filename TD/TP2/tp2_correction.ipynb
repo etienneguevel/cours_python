{
 "cells": [
  {
   "cell_type": "markdown",
   "metadata": {},
   "source": [
    "# Python par la pratique : partie 2 - Programmation orientée objet\n",
    "\n",
    "Ce notebook fournit des ressources pour la pratique de Python.\n",
    "\n",
    "Pour chacune des méthodes, il vous faudra bien comprendre leur fonctionnement et vous pourrez vous documenter sur internet (docs officielles et forums).\n",
    "N'hésitez pas à modifier les cellules pour tester d'autres configurations que celles données ici.\n",
    "\n",
    "Si vous souhaitez connaitre les méthodes disponibles d'un objet particulier, utilisez la function ``dir(obj)``."
   ]
  },
  {
   "cell_type": "markdown",
   "metadata": {},
   "source": [
    "## Définition d'une classe"
   ]
  },
  {
   "cell_type": "code",
   "execution_count": null,
   "metadata": {},
   "outputs": [],
   "source": [
    "class Point():\n",
    "    def __init__(self, x, y):\n",
    "        self.x = x\n",
    "        self.y = y"
   ]
  },
  {
   "cell_type": "code",
   "execution_count": null,
   "metadata": {},
   "outputs": [],
   "source": [
    "point = Point(1, 2)\n",
    "print(point)\n",
    "print(type(point))\n",
    "print(id(point))"
   ]
  },
  {
   "cell_type": "code",
   "execution_count": null,
   "metadata": {},
   "outputs": [],
   "source": [
    "point2 = Point(1, 2)\n",
    "print(point2)\n",
    "print(type(point2))\n",
    "print(id(point2))\n",
    "print(point is point2)"
   ]
  },
  {
   "cell_type": "code",
   "execution_count": null,
   "metadata": {},
   "outputs": [],
   "source": [
    "class Point():\n",
    "    point_type = \"2D\"  # attribut de classe\n",
    "    def __init__(self, x, y):\n",
    "        self.x = x\n",
    "        self.y = y"
   ]
  },
  {
   "cell_type": "code",
   "execution_count": null,
   "metadata": {},
   "outputs": [],
   "source": [
    "p1 = Point(1, 2)\n",
    "p2 = Point(2, 1)\n",
    "print(p1.point_type)\n",
    "print(p2.point_type)"
   ]
  },
  {
   "cell_type": "markdown",
   "metadata": {},
   "source": [
    "## Méthode d'instance"
   ]
  },
  {
   "cell_type": "code",
   "execution_count": null,
   "metadata": {},
   "outputs": [],
   "source": [
    "import math\n",
    "\n",
    "class Point():\n",
    "    def __init__(self, x, y):\n",
    "        self.x = x\n",
    "        self.y = y\n",
    "\n",
    "    def norm(self):\n",
    "        return math.sqrt(self.x**2 + self.y**2)"
   ]
  },
  {
   "cell_type": "code",
   "execution_count": null,
   "metadata": {},
   "outputs": [],
   "source": [
    "p1 = Point(1, 2)\n",
    "p2 = Point(2, 1)\n",
    "print(p1.norm())\n",
    "print(p2.norm())"
   ]
  },
  {
   "attachments": {},
   "cell_type": "markdown",
   "metadata": {},
   "source": [
    "**Exercice** :\n",
    "\n",
    "Exécuter la cellule suivante et expliquer le résultat."
   ]
  },
  {
   "cell_type": "code",
   "execution_count": null,
   "metadata": {},
   "outputs": [],
   "source": [
    "print(p1.norm)"
   ]
  },
  {
   "attachments": {},
   "cell_type": "markdown",
   "metadata": {},
   "source": [
    "Modifier la classe précédente pour accéder à la norme d'un point comme suit :\n",
    "`p1.norm`."
   ]
  },
  {
   "cell_type": "markdown",
   "metadata": {},
   "source": [
    "## Méthode de classe"
   ]
  },
  {
   "cell_type": "code",
   "execution_count": null,
   "metadata": {},
   "outputs": [],
   "source": [
    "class Point():\n",
    "    type = \"2D\"\n",
    "    def __init__(self, x, y):\n",
    "        self.x = x\n",
    "        self.y = y\n",
    "\n",
    "    @classmethod\n",
    "    def print_type(cls):\n",
    "        print(f\"My type is {cls.type}\")"
   ]
  },
  {
   "cell_type": "code",
   "execution_count": null,
   "metadata": {},
   "outputs": [],
   "source": [
    "p1 = Point(1, 2)\n",
    "p1.print_type()"
   ]
  },
  {
   "cell_type": "markdown",
   "metadata": {},
   "source": [
    "## Méthode statique"
   ]
  },
  {
   "cell_type": "code",
   "execution_count": null,
   "metadata": {},
   "outputs": [],
   "source": [
    "import math\n",
    "\n",
    "class Point():\n",
    "    type = \"2D\"\n",
    "    def __init__(self, x, y):\n",
    "        self.x = x\n",
    "        self.y = y\n",
    "\n",
    "    def norm(self):\n",
    "        return self.norm2d(self.x, self.y)\n",
    "\n",
    "    @staticmethod\n",
    "    def norm2d(x, y):\n",
    "        return math.sqrt(x**2 + y**2)"
   ]
  },
  {
   "cell_type": "code",
   "execution_count": null,
   "metadata": {},
   "outputs": [],
   "source": [
    "p1 = Point(1, 2)\n",
    "print(p1.norm())\n",
    "print(p1.norm2d(1, 2))"
   ]
  },
  {
   "cell_type": "markdown",
   "metadata": {},
   "source": [
    "## Accès et modification d'attributs"
   ]
  },
  {
   "cell_type": "code",
   "execution_count": null,
   "metadata": {},
   "outputs": [],
   "source": [
    "class Point():\n",
    "    def __init__(self, x, y):\n",
    "        self.x = x\n",
    "        self.y = y"
   ]
  },
  {
   "cell_type": "code",
   "execution_count": null,
   "metadata": {},
   "outputs": [],
   "source": [
    "point = Point(1, 2)"
   ]
  },
  {
   "cell_type": "markdown",
   "metadata": {},
   "source": [
    "### Accès"
   ]
  },
  {
   "cell_type": "code",
   "execution_count": null,
   "metadata": {},
   "outputs": [],
   "source": [
    "getattr(point, \"x\")"
   ]
  },
  {
   "cell_type": "code",
   "execution_count": null,
   "metadata": {},
   "outputs": [],
   "source": [
    "point.x"
   ]
  },
  {
   "cell_type": "markdown",
   "metadata": {},
   "source": [
    "### Modification"
   ]
  },
  {
   "cell_type": "code",
   "execution_count": null,
   "metadata": {},
   "outputs": [],
   "source": [
    "setattr(point, \"x\", 2)\n",
    "point.x"
   ]
  },
  {
   "cell_type": "code",
   "execution_count": null,
   "metadata": {},
   "outputs": [],
   "source": [
    "point.x = 3\n",
    "point.x"
   ]
  },
  {
   "attachments": {},
   "cell_type": "markdown",
   "metadata": {},
   "source": [
    "**Exercice :** \n",
    "\n",
    "Modifier les cellules précédentes pour rendre les attributs \"cachés\" et implémenter un `getter` et un `setter`."
   ]
  },
  {
   "attachments": {},
   "cell_type": "markdown",
   "metadata": {},
   "source": [
    "### Décorateur `property`\n",
    "\n",
    "Le décorateur `property` permet l'appel de méthodes d'instance de la même manière qu'un attribut. C'est une autre façon de définir des accesseurs (ou getters).\n"
   ]
  },
  {
   "cell_type": "code",
   "execution_count": null,
   "metadata": {},
   "outputs": [],
   "source": [
    "class Point():\n",
    "    def __init__(self, x, y):\n",
    "        self.__x = x\n",
    "        self.__y = y\n",
    "\n",
    "    @property\n",
    "    def x(self):\n",
    "        return self.__x"
   ]
  },
  {
   "cell_type": "code",
   "execution_count": null,
   "metadata": {},
   "outputs": [],
   "source": [
    "point = Point(1, 2)\n",
    "print(point.x)"
   ]
  },
  {
   "cell_type": "code",
   "execution_count": null,
   "metadata": {},
   "outputs": [],
   "source": [
    "# Essayons de modifier la valeur de x\n",
    "point.x = 2"
   ]
  },
  {
   "cell_type": "code",
   "execution_count": null,
   "metadata": {},
   "outputs": [],
   "source": [
    "# Rappelons que l'attribut __x n'est pas accessible, encore moins modifiable\n",
    "point.__x"
   ]
  },
  {
   "attachments": {},
   "cell_type": "markdown",
   "metadata": {},
   "source": [
    "____________\n",
    "\n",
    "## Classe `Complex` et surcharge des opérateurs\n",
    "\n",
    "L'objectif est d'implémenter une classe qui définit un nombre complexe et ses opérations"
   ]
  },
  {
   "cell_type": "markdown",
   "metadata": {},
   "source": [
    "**Exercice 1**\n",
    "\n",
    "Implémenter une classe `Complex` qui stocke l'information d'un nombre complexe (ie sa partie entière et sa partie immaginaire)."
   ]
  },
  {
   "cell_type": "code",
   "execution_count": 1,
   "metadata": {},
   "outputs": [],
   "source": [
    "class Complex:\n",
    "    def __init__(self, r, im):\n",
    "        self.r = r\n",
    "        self.im = im\n",
    "    "
   ]
  },
  {
   "cell_type": "code",
   "execution_count": 2,
   "metadata": {},
   "outputs": [],
   "source": [
    "c = Complex(3, 2)"
   ]
  },
  {
   "cell_type": "markdown",
   "metadata": {},
   "source": [
    "**Exercice 2**\n",
    "\n",
    " 1. Implémenter une méthode `print` pour afficher le nombre complexe\n",
    "\n",
    "Exemple :\n",
    "\n",
    "```\n",
    ">>> c = Complex(real=1, imag=2)\n",
    ">>> c.print()\n",
    "1 + 2i\n",
    "```\n",
    "\n",
    "2. Comparer `c.print()` avec `print(c)` ?\n",
    "3. Modifier la méthode `print` pour quelle retourne la chaîne de caractère à afficher et la renommer en `__str__`. Exécuter à nouveau `print(c)`. "
   ]
  },
  {
   "cell_type": "code",
   "execution_count": 3,
   "metadata": {},
   "outputs": [],
   "source": [
    "class Complex:\n",
    "    def __init__(self, r, im):\n",
    "        self.r = r\n",
    "        self.im = im\n",
    "    \n",
    "    def print(self):\n",
    "        return f\"{self.r} + {self.im}i\"\n",
    "\n",
    "    def __str__(self):\n",
    "        return f\"{self.r} + {self.im}i\""
   ]
  },
  {
   "cell_type": "code",
   "execution_count": 4,
   "metadata": {},
   "outputs": [],
   "source": [
    "a = Complex(2, 3)"
   ]
  },
  {
   "cell_type": "markdown",
   "metadata": {},
   "source": [
    "**Exercice 3**\n",
    "\n",
    "1. Exécuter le code suivant et interpréter le résultat\n",
    "\n",
    "```python\n",
    ">>> c = Complex(1, 2)\n",
    ">>> c + c\n",
    "```\n",
    "2. Implémenter une méthode `add` pour l'ajout de deux nombres complexes. Le résultat est un nouvel objet de classe `Complex`.\n",
    "\n",
    "Exemple :\n",
    "\n",
    "```bash\n",
    ">>> c1 = Complex(1, 2)\n",
    ">>> c2 = c1.add(c1)\n",
    ">>> print(c2)\n",
    "2 + 4i\n",
    "```\n",
    "\n",
    "1. Renommer la méthode implémentée en `__add__` et tester à nouveau\n",
    "\n",
    "Exemple : \n",
    "```bash\n",
    ">>> c1 = Complex(1, 2)\n",
    ">>> c2 = c1 + c1\n",
    ">>> print(c2)\n",
    "2 + 4i\n",
    "```\n"
   ]
  },
  {
   "cell_type": "code",
   "execution_count": 5,
   "metadata": {},
   "outputs": [],
   "source": [
    "class Complex:\n",
    "    def __init__(self, r, im):\n",
    "        self.r = r\n",
    "        self.im = im\n",
    "    \n",
    "    def print(self):\n",
    "        return f\"{self.r} + {self.im}i\"\n",
    "\n",
    "    def __str__(self):\n",
    "        return f\"{self.r} + {self.im}i\"\n",
    "\n",
    "    def __add__(self, c):\n",
    "        return Complex(self.r + c.r, self.im + c.im)"
   ]
  },
  {
   "cell_type": "code",
   "execution_count": 6,
   "metadata": {},
   "outputs": [
    {
     "name": "stdout",
     "output_type": "stream",
     "text": [
      "2 + 4i\n"
     ]
    }
   ],
   "source": [
    "c1 = Complex(1, 2)\n",
    "c2 = c1 + c1\n",
    "print(c2)"
   ]
  },
  {
   "cell_type": "markdown",
   "metadata": {},
   "source": [
    "**Exercice 4**\n",
    "\n",
    "Surcharger les opérateurs suivants :\n",
    "* Valeur absolue en utilisant la méthode `__abs__`\n",
    "* Opposé en utilisant la méthode `__neg__`\n",
    "* Test d'égalité en utilisant la méthode `__eq__`\n",
    "* Test d'inégalité en utilisant la méthode `__ne__`"
   ]
  },
  {
   "cell_type": "code",
   "execution_count": 7,
   "metadata": {},
   "outputs": [],
   "source": [
    "from math import sqrt\n",
    "\n",
    "class Complex:\n",
    "    def __init__(self, r, im):\n",
    "        self.r = r\n",
    "        self.im = im\n",
    "    \n",
    "    def print(self):\n",
    "        return f\"{self.r} + {self.im}i\"\n",
    "\n",
    "    def __str__(self):\n",
    "        return f\"{self.r} + {self.im}i\"\n",
    "\n",
    "    def __add__(self, c):\n",
    "        return Complex(self.r + c.r, self.im + c.im)\n",
    "\n",
    "    def __abs__(self):\n",
    "        return sqrt(self.r**2 + self.im**2)\n",
    "\n",
    "    def __neg__(self):\n",
    "        return Complex(-self.r, -self.im)\n",
    "\n",
    "    def __eq__(self, c):\n",
    "        return (self.r == c.r)&(self.im == c.im)\n",
    "\n",
    "    def __ne__(self, c):\n",
    "        return abs(self) < abs(c)\n",
    "\n",
    "    def __gt__(self, c):\n",
    "        return abs(self) > abs(c)"
   ]
  },
  {
   "cell_type": "code",
   "execution_count": 8,
   "metadata": {},
   "outputs": [
    {
     "name": "stdout",
     "output_type": "stream",
     "text": [
      "2.23606797749979\n",
      "-1 + -2i\n",
      "True\n",
      "True\n",
      "False\n"
     ]
    }
   ],
   "source": [
    "c1 = Complex(1, 2)\n",
    "c2 = c1 + c1\n",
    "c3 = Complex(1, 2)\n",
    "c4 = Complex(2, 1)\n",
    "\n",
    "print(abs(c1))\n",
    "print(-c1)\n",
    "print(c1 != c2)\n",
    "print(c1 == c3)\n",
    "print(c1 == c4)"
   ]
  },
  {
   "attachments": {},
   "cell_type": "markdown",
   "metadata": {},
   "source": [
    "## Héritage"
   ]
  },
  {
   "cell_type": "markdown",
   "metadata": {},
   "source": [
    "### Etudiants"
   ]
  },
  {
   "cell_type": "code",
   "execution_count": 9,
   "metadata": {},
   "outputs": [],
   "source": [
    "class Person():\n",
    "    def __init__(self, firstname, lastname):\n",
    "        self.__firstname = firstname\n",
    "        self.__lastname = lastname\n",
    "\n",
    "    def __str__(self):\n",
    "        return f\"{self.firstname} {self.lastname}\"\n",
    "    \n",
    "    @property\n",
    "    def firstname(self):\n",
    "        return self.__firstname\n",
    "    \n",
    "    @property\n",
    "    def lastname(self):\n",
    "        return self.__lastname"
   ]
  },
  {
   "cell_type": "code",
   "execution_count": 10,
   "metadata": {},
   "outputs": [],
   "source": [
    "class Student(Person):\n",
    "    def __init__(self, firstname, lastname, university, student_id):\n",
    "        super().__init__(firstname, lastname)\n",
    "        self.__university = university\n",
    "        self.student_id = student_id\n",
    "\n",
    "    @property\n",
    "    def university(self):\n",
    "        return self.__university\n",
    "    \n",
    "    def __str__(self):\n",
    "        return f\"{self.firstname} {self.lastname} Student ID: {self.student_id}\""
   ]
  },
  {
   "cell_type": "code",
   "execution_count": 11,
   "metadata": {},
   "outputs": [
    {
     "name": "stdout",
     "output_type": "stream",
     "text": [
      "étienne guével Student ID: 2024\n"
     ]
    }
   ],
   "source": [
    "print(Student(\"étienne\", \"guével\", \"cs\", \"2024\"))"
   ]
  },
  {
   "cell_type": "markdown",
   "metadata": {},
   "source": [
    "Implémenter une classe `Teacher` sur le même modèle que `Student` avec des attributs spécifiques (`teacher_id`, `salary`, `courses`, etc.)"
   ]
  },
  {
   "cell_type": "markdown",
   "metadata": {},
   "source": [
    "### Polygones\n",
    "\n",
    "1. Implémenter une classe `Polygon` qui contient le nombre de côtés d'un polygone `nr_sides` et la liste de la longueur de chaque côté `sides`.  \n",
    "Du style : \n",
    "`polygon = Polygon(sides=[1, 1, 1, 1, 1])`  \n",
    "\n",
    "2. Implémenter une classe `Rectangle` qui hérite de la classe `Polygon` et qui contient une méthode `area` permettant de calculer l'aire.\n",
    "3. Implémenter une classe `Square`"
   ]
  },
  {
   "cell_type": "code",
   "execution_count": 12,
   "metadata": {},
   "outputs": [],
   "source": [
    "class Polygon:\n",
    "    def __init__(self, sides):\n",
    "        self.sides = tuple(sides)\n",
    "    \n",
    "    @property\n",
    "    def sides(self):\n",
    "        return self._sides\n",
    "\n",
    "    @sides.setter\n",
    "    def sides(self, ls_sides):\n",
    "        if all([type(i) in [int, float] for i in ls_sides]):\n",
    "            \n",
    "            if all([i > 0 for i in ls_sides]):\n",
    "                self._sides = ls_sides\n",
    "            \n",
    "            else:\n",
    "                raise ValueError(\"A nul or negative value was given.\")\n",
    "\n",
    "        else: \n",
    "            raise ValueError(\"A non number value was given for sides.\")\n",
    "            \n",
    "    @property\n",
    "    def nr_sides(self):\n",
    "        return len(self.sides)\n",
    "\n",
    "    # la dunder __repr__ ressemble a celle __str__ MAIS s'active aussi dans les cas ou on mentionne l'objet sans print >>> voir en dessous l'exemple\n",
    "    def __repr__(self):\n",
    "        return f\"{type(self).__name__} with {self.nr_sides} sides: {tuple(self.sides)}\""
   ]
  },
  {
   "cell_type": "code",
   "execution_count": 13,
   "metadata": {},
   "outputs": [
    {
     "data": {
      "text/plain": [
       "5"
      ]
     },
     "execution_count": 13,
     "metadata": {},
     "output_type": "execute_result"
    }
   ],
   "source": [
    "polygon = Polygon([2, 3, 1, 2, 4])\n",
    "polygon.nr_sides"
   ]
  },
  {
   "cell_type": "code",
   "execution_count": 14,
   "metadata": {},
   "outputs": [
    {
     "data": {
      "text/plain": [
       "Polygon with 5 sides: (2, 3, 1, 2, 4)"
      ]
     },
     "execution_count": 14,
     "metadata": {},
     "output_type": "execute_result"
    }
   ],
   "source": [
    "polygon"
   ]
  },
  {
   "cell_type": "code",
   "execution_count": 15,
   "metadata": {},
   "outputs": [],
   "source": [
    "class Rectangle(Polygon):\n",
    "    def __init__(self, sides):\n",
    "        if len(sides) == 2:\n",
    "            list_sides = list(sides) * 2\n",
    "            super().__init__(list_sides)\n",
    "\n",
    "        elif len(sides) == 4:\n",
    "            if len(set(sides)) > 2:\n",
    "                raise ValueError(\"There are more than 2 unique values given.\")\n",
    "            list_sides = list(sides)\n",
    "            super().__init__(list_sides)\n",
    "\n",
    "        else:\n",
    "            raise ValueError(\"The number of given sides should be 2 or 4.\")\n",
    "\n",
    "    @property\n",
    "    def area(self):\n",
    "        return max(self.sides)*min(self.sides)"
   ]
  },
  {
   "cell_type": "code",
   "execution_count": 16,
   "metadata": {},
   "outputs": [
    {
     "name": "stdout",
     "output_type": "stream",
     "text": [
      "Rectangle with 4 sides: (2, 8, 2, 8) aire: 16\n"
     ]
    }
   ],
   "source": [
    "rectangle = Rectangle([2, 8])\n",
    "print(rectangle, \"aire:\", rectangle.area)\n"
   ]
  },
  {
   "cell_type": "code",
   "execution_count": 17,
   "metadata": {},
   "outputs": [],
   "source": [
    "class Square(Rectangle):\n",
    "    def __init__(self, side):\n",
    "        super().__init__([side, side])"
   ]
  },
  {
   "cell_type": "code",
   "execution_count": 18,
   "metadata": {},
   "outputs": [
    {
     "data": {
      "text/plain": [
       "Square with 4 sides: (4, 4, 4, 4)"
      ]
     },
     "execution_count": 18,
     "metadata": {},
     "output_type": "execute_result"
    }
   ],
   "source": [
    "square = Square(4)\n",
    "square"
   ]
  },
  {
   "cell_type": "markdown",
   "metadata": {},
   "source": [
    "## Vector\n",
    "\n",
    "Implémenter une class Vector qui stocke l'information d'un vecteur de `n` valeurs initialement stockée dans une liste. Exemple :\n",
    "\n",
    "```python\n",
    ">>> vector = Vector([1, 2, 3])\n",
    ">>> vector.size\n",
    "3\n",
    ">>> vector.norm()\n",
    "3.74\n",
    "```\n",
    "\n",
    "Modifier la classe pour gérer plusieurs structures de données (`dict`, `tuples`, etc.), exemple :\n",
    "\n",
    "```python\n",
    ">>> vector = Vector([1, 2, 3])\n",
    ">>> vector = Vector({\"a\": 1, \"b\": 2, \"c\": 3})\n",
    ">>> vector = Vector((1, 2, 3))\n",
    "```"
   ]
  },
  {
   "cell_type": "code",
   "execution_count": 1,
   "metadata": {},
   "outputs": [],
   "source": [
    "from math import sqrt\n",
    "\n",
    "class Vector:\n",
    "    def __init__(self, it):\n",
    "        self.data = it\n",
    "\n",
    "    @property\n",
    "    def size(self):\n",
    "        return len(self.data)\n",
    "\n",
    "    @property\n",
    "    def data(self):\n",
    "        return self._data\n",
    "\n",
    "    @data.setter\n",
    "    def data(self, it):\n",
    "        # on voit ici le cas match | case qui fonctionne comme une suite de if / elif /else\n",
    "        # le cas _ correspond a tous les cas qui n'ont pas été selectionnés précedemment\n",
    "        match it:\n",
    "            case list() | tuple():\n",
    "                data = list(it)\n",
    "\n",
    "            case dict():\n",
    "                data = list(it.values())\n",
    "\n",
    "            case _:\n",
    "                raise ValueError(f\"{type(it)} is not accepted.\")\n",
    "                \n",
    "        if all([type(i) in [int, float] for i in data]):\n",
    "            self._data = data\n",
    "\n",
    "        else:\n",
    "            raise ValueError(\"Non numeric types were given.\")\n",
    "\n",
    "    # On pourrait aussi mettre @property devant pour mettre norm en attribut\n",
    "    def norm(self):\n",
    "        return sqrt(sum([i**2 for i in self.data]))\n",
    "\n",
    "    def __repr__(self):\n",
    "        return f\"Vector of size {self.size}\""
   ]
  },
  {
   "cell_type": "code",
   "execution_count": 2,
   "metadata": {},
   "outputs": [
    {
     "data": {
      "text/plain": [
       "Vector of size 3"
      ]
     },
     "execution_count": 2,
     "metadata": {},
     "output_type": "execute_result"
    }
   ],
   "source": [
    "test = Vector([1,2,3])\n",
    "test.data\n",
    "test"
   ]
  },
  {
   "cell_type": "code",
   "execution_count": 3,
   "metadata": {},
   "outputs": [
    {
     "data": {
      "text/plain": [
       "3.7416573867739413"
      ]
     },
     "execution_count": 3,
     "metadata": {},
     "output_type": "execute_result"
    }
   ],
   "source": [
    "test.norm()"
   ]
  },
  {
   "cell_type": "code",
   "execution_count": 5,
   "metadata": {},
   "outputs": [
    {
     "name": "stdout",
     "output_type": "stream",
     "text": [
      "[1, 2, 3]\n",
      "3.7416573867739413\n"
     ]
    }
   ],
   "source": [
    "vector = Vector({\"a\": 1, \"b\": 2, \"c\": 3})\n",
    "print(vector.data)\n",
    "print(vector.norm())"
   ]
  },
  {
   "cell_type": "code",
   "execution_count": 6,
   "metadata": {},
   "outputs": [
    {
     "name": "stdout",
     "output_type": "stream",
     "text": [
      "[1, 2, 3]\n",
      "3.7416573867739413\n"
     ]
    }
   ],
   "source": [
    "vector = Vector((1, 2, 3))\n",
    "print(vector.data)\n",
    "print(vector.norm())"
   ]
  },
  {
   "attachments": {},
   "cell_type": "markdown",
   "metadata": {},
   "source": [
    "## Matrix\n",
    "\n",
    "* Implémenter une classe `Matrix` qui stocke l'information d'une matrice de taille `n x m`. Utiliser une structure de données standard pour les données d'entrée (liste ou tuple). L'attribut associé sera nommé `values`\n",
    "* Implémenter une propriété `shape` qui renvoie le tuple `(n, m)`\n",
    "* Surcharger les opérateurs suivants :\n",
    "  * Multiplication point-à-point entre deux matrices, opérateur `*`\n",
    "  * Somme de deux matrices, opérateur `+`\n",
    "  * Egalité de deux matrices, opérateur `==`\n",
    "  * Affichage de la matrice\n",
    "* Implémenter les méthodes suivantes :\n",
    "  * `transpose` qui renvoie la matrice transposée\n",
    "  * `dot` pour le produit matriciel\n",
    "\n",
    "\n",
    "Exemple d'utilisation pour une matrice `2 x 3` :\n",
    "\n",
    "```python\n",
    ">>> values = ((1, 2, 3),\n",
    "...           (4, 5, 6))\n",
    ">>> mat = Matrix(values=values)\n",
    ">>> mat.shape\n",
    "(2, 3)\n",
    ">>> print(mat)\n",
    "1  2  3\n",
    "4  5  6\n",
    ">>> print(mat * mat)\n",
    "1   4   9\n",
    "16  25  36\n",
    ">>> print(mat + mat)\n",
    "2  4   5\n",
    "8  10  12\n",
    ">>> mat == mat\n",
    "True\n",
    ">>> trans = mat.transpose()\n",
    ">>> print(trans)\n",
    "1 4\n",
    "2 5\n",
    "3 6\n",
    ">>> mat2 = mat.dot(trans)\n",
    ">>> print(mat2)\n",
    "14  32\n",
    "32  77\n",
    "```\n",
    "\n",
    "* **Questions bonus** : \n",
    "  * Implémenter une méthode `inv` pour calculer l'inverse d'une matrice, voir la méthode de [Gauss-Jordan](https://fr.wikipedia.org/wiki/%C3%89limination_de_Gauss-Jordan)\n",
    "  * Utiliser la méthode `__getitem__` pour implémenter l'accès aux valeurs de l'objet de classe Matrix :\n",
    "\n",
    "```python\n",
    ">>> mat = Matrix(values)\n",
    ">>> mat[0, 0]\n",
    "1\n",
    "```\n",
    "\n",
    "Ref : [geeksforgeeks.org/__getitem__-in-python](https://www.geeksforgeeks.org/__getitem__-in-python/#:~:text=__getitem__()%20is%20a%20magic,getitem__(x%2C%20i)%20.)"
   ]
  },
  {
   "cell_type": "code",
   "execution_count": 7,
   "metadata": {},
   "outputs": [],
   "source": [
    "class Matrix:\n",
    "    def __init__(self, values):\n",
    "        self.values = values\n",
    "\n",
    "    @property\n",
    "    def values(self):\n",
    "        return self._values\n",
    "\n",
    "    @values.setter\n",
    "    def values(self, val):        \n",
    "        if len(set([len(line) for line in values])) > 1:\n",
    "            raise ValueError(\"There are several rows length.\")\n",
    "\n",
    "\n",
    "        if all([all([type(i) in [int, float] for i in row]) for row in val]):\n",
    "            self._values = val\n",
    "\n",
    "        else:\n",
    "            raise ValueError(\"Non numeric types were given.\")\n",
    "\n",
    "    @property\n",
    "    def shape(self):\n",
    "        if len(self.values) == 0:\n",
    "            return (0, 0)\n",
    "\n",
    "        elif len(self.values[0]) == 0:\n",
    "            return (0, 0)\n",
    "        \n",
    "        else:\n",
    "            return (len(self.values), len(self.values[0]))\n",
    "\n",
    "    def __str__(self):\n",
    "        return \"\\n\".join([\" \".join([str(i) for i in row]) for row in self.values])\n",
    "\n",
    "    def __eq__(self, m):\n",
    "        if self.shape != m.shape:\n",
    "            return False\n",
    "        \n",
    "        else:\n",
    "            return all(\n",
    "                [all([i == j for i, j in zip(row1, row2)]) for row1, row2 in zip(self.values, m.values)]\n",
    "            )\n",
    "    def __add__(self, m):\n",
    "        if self.shape != m.shape:\n",
    "            raise ValueError(\"The matrices are of different shapes\")\n",
    "\n",
    "        else:\n",
    "            new_values = [\n",
    "                [i + j for i, j in zip(row1, row2)] for row1, row2 in zip(self.values, m.values)\n",
    "            ]\n",
    "            return Matrix(new_values)\n",
    "            \n",
    "    def __mul__(self, m):\n",
    "        if self.shape != m.shape:\n",
    "            raise ValueError(\"The matrices are of different shapes.\")\n",
    "        \n",
    "        else:\n",
    "            new_values = [\n",
    "                [i * j for i, j in zip(row1, row2)] for row1, row2 in zip(self.values, m.values)\n",
    "            ]\n",
    "            return Matrix(new_values)\n",
    "\n",
    "    def transpose(self):\n",
    "        n, m = self.shape\n",
    "        new_values = [\n",
    "            [self.values[j][i] for j in range(n)] for i in range(m)\n",
    "        ]\n",
    "        return Matrix(new_values)\n",
    "\n",
    "    def dot(self, m):\n",
    "        n1, m1 = self.shape\n",
    "        n2, m2 = m.shape\n",
    "\n",
    "        if m1 != n2:\n",
    "            raise ValueError(f\"Shape mismatch {self.shape} {m.shape}\")\n",
    "\n",
    "        new_values = [\n",
    "            [\n",
    "                sum([self.values[i][k] * m.values[k][j] for k in range(m1)])\n",
    "                for j in range(m2)\n",
    "            ]\n",
    "            for i in range(n1)\n",
    "        ]\n",
    "        return Matrix(new_values)"
   ]
  },
  {
   "cell_type": "code",
   "execution_count": 373,
   "metadata": {},
   "outputs": [
    {
     "name": "stdout",
     "output_type": "stream",
     "text": [
      "1 2 3\n",
      "4 5 6\n",
      "7 8 9 \n",
      "\n",
      "1 2 3\n",
      "4 5 6\n",
      "10 8 9 \n",
      "\n",
      "False \n",
      "\n",
      "2 4 6\n",
      "8 10 12\n",
      "17 16 18 \n",
      "\n",
      "1 4 9\n",
      "16 25 36\n",
      "70 64 81 \n",
      "\n",
      "1 4 7\n",
      "2 5 8\n",
      "3 6 9\n"
     ]
    }
   ],
   "source": [
    "values = ((1, 2, 3), (4, 5, 6), (7, 8, 9))\n",
    "matrix = Matrix(values)\n",
    "print(matrix, \"\\n\")\n",
    "\n",
    "values2 = ((1, 2, 3), (4, 5, 6), (10, 8, 9))\n",
    "matrix2 = Matrix(values2)\n",
    "print(matrix2, \"\\n\")\n",
    "\n",
    "print(matrix == matrix2, \"\\n\")\n",
    "print(matrix + matrix2, \"\\n\")\n",
    "print(matrix * matrix2, \"\\n\")\n",
    "print(matrix.transpose())"
   ]
  },
  {
   "cell_type": "code",
   "execution_count": 283,
   "metadata": {},
   "outputs": [
    {
     "name": "stdout",
     "output_type": "stream",
     "text": [
      "mat1:\n",
      "1 2 3\n",
      "4 5 6 \n",
      "\n",
      "mat2:\n",
      "1 4\n",
      "2 5\n",
      "3 6 \n",
      "\n",
      "mat1 x mat2:\n",
      "14 32\n",
      "32 77\n"
     ]
    }
   ],
   "source": [
    "values = ((1, 2, 3), (4, 5, 6))\n",
    "\n",
    "mat1 = Matrix(values)\n",
    "print(\"mat1:\")\n",
    "print(mat1, \"\\n\")\n",
    "mat2 = mat1.transpose()\n",
    "print(\"mat2:\")\n",
    "print(mat2, \"\\n\")\n",
    "print(\"mat1 x mat2:\")\n",
    "print(mat1.dot(mat2))"
   ]
  },
  {
   "cell_type": "markdown",
   "metadata": {},
   "source": [
    "## Générateur de mots de passe\n",
    "\n",
    "L'objectif de cet exercice est d'implémenter un générateur de mot de passe contenant `size` caractères alphanumériques.\n",
    "\n",
    "Le mot de passe est simplement une chaîne de caractères construite comme la concaténation des `size` caractères.\n",
    "\n",
    "### Question 1\n",
    "\n",
    "Implémenter une fonction `generate_password` qui génère un mot de passe aléatoirement :\n",
    "* Utiliser la librairie `random` pour générer aléatoirement les caractères du mot de passe (voir https://docs.python.org/3/library/random.html)\n",
    "* Utiliser la librarie `string` pour lister l'ensemble des caractères alphanumériques (voir https://docs.python.org/fr/3/library/string.html)\n",
    "\n",
    "Les caractères spéciaux (ex `/ ! ? % - _`) sont donnés par  `string.punctuation`.\n",
    "\n",
    "Exempe :\n",
    "\n",
    "```python\n",
    ">>> print(generate_password(size=10))\n",
    "\"bXjASE6QER\"\n",
    "```"
   ]
  },
  {
   "cell_type": "code",
   "execution_count": 323,
   "metadata": {},
   "outputs": [],
   "source": [
    "import random\n",
    "import string"
   ]
  },
  {
   "cell_type": "code",
   "execution_count": 327,
   "metadata": {},
   "outputs": [],
   "source": [
    "def generate_password(size):\n",
    "    return \"\".join([random.choice(string.printable) for i in range(size)])"
   ]
  },
  {
   "cell_type": "code",
   "execution_count": 331,
   "metadata": {},
   "outputs": [
    {
     "data": {
      "text/plain": [
       "'1k &?LiHVt'"
      ]
     },
     "execution_count": 331,
     "metadata": {},
     "output_type": "execute_result"
    }
   ],
   "source": [
    "generate_password(10)"
   ]
  },
  {
   "cell_type": "markdown",
   "metadata": {},
   "source": [
    "### Question 2\n",
    "\n",
    "Ajouter à la fonction implémentée précedemment pour mettre des contraintes sur le mot de passe. Le mot de passe doit contenir :\n",
    "* exactement `size` caractères\n",
    "* exactement `num_digits` caractères numériques\n",
    "* exactement `num_specials` caractères spéciaux, par exemple, `/ ! ? % - _`\n",
    "\n",
    "Exemple :\n",
    "\n",
    "```python\n",
    "print(generate_password(size=10, num_digits=2, num_specials=2))\n",
    "\"b!j2SE6Q/R\"\n",
    "```\n",
    "\n",
    "Tester la fonction avec `size` égal à 10, 20 ou 100"
   ]
  },
  {
   "cell_type": "code",
   "execution_count": 23,
   "metadata": {},
   "outputs": [],
   "source": [
    "import random\n",
    "import string\n",
    "\n",
    "def generate_password(size, num_digits, num_specials):\n",
    "    digits = [random.choice(string.digits) for i in range(num_digits)]\n",
    "    specials = [random.choice(string.punctuation) for i in range(num_specials)]\n",
    "    others = [random.choice(string.ascii_letters) for i in range(size - num_digits - num_specials)]\n",
    "    password = digits + specials + others\n",
    "    random.shuffle(password)\n",
    "    \n",
    "    return \"\".join(password)"
   ]
  },
  {
   "cell_type": "code",
   "execution_count": 24,
   "metadata": {},
   "outputs": [
    {
     "data": {
      "text/plain": [
       "'Fqn]8<<4Ytv~/#18noUpOjn}hIs6ix5~rEzxwahlnV2dawwMkonmW-|[l@m;UX5rUZq9ez0W65?n+8)0vG%69jp1Dn.[3E9sK`r1'"
      ]
     },
     "execution_count": 24,
     "metadata": {},
     "output_type": "execute_result"
    }
   ],
   "source": [
    "generate_password(100, 20, 20)"
   ]
  },
  {
   "cell_type": "markdown",
   "metadata": {},
   "source": [
    "### Exercice 3\n",
    "\n",
    "Implémenter votre générateur de mot de passe dans une classe `PasswordGenerator` en utilisant \n",
    "\n",
    "* une **méthode statique** pour la fonction principale\n",
    "* Des accesseurs `get_size`, `get_num_digits` et `get_num_specials`\n",
    "\n",
    "Exemple d'utilisation :\n",
    "\n",
    "```python\n",
    ">>> generator = PasswordGenerator(size=20, min_size=10, num_digits=2, num_specials=1)\n",
    ">>> password = generator.generate()\n",
    ">>> print(password)\n",
    "\"bXjASENQEREeZD?19YYf\"\n",
    ">>> print(generator.get_size())\n",
    "20\n",
    ">>> print(generator.get_num_digits())\n",
    "2\n",
    ">>> print(generator.get_num_specials())\n",
    "1\n",
    "```\n",
    "\n",
    "De **façon alternative**, vous pouvez utiliser le décorateur `property` pour accéder aux attributs (cachés) :\n",
    "\n",
    "```python\n",
    ">>> print(generator.size)\n",
    "20\n",
    ">>> print(generator.num_digits)\n",
    "2\n",
    ">>> print(generator.num_specials)\n",
    "1\n",
    "```"
   ]
  },
  {
   "cell_type": "code",
   "execution_count": 26,
   "metadata": {},
   "outputs": [],
   "source": [
    "import random\n",
    "import string\n",
    "\n",
    "\n",
    "class PasswordGenerator:\n",
    "    def __init__(self, size, num_digits, num_specials):\n",
    "        self.size = size\n",
    "        self.num_digits = num_digits\n",
    "        self.num_specials = num_specials\n",
    "\n",
    "    @staticmethod\n",
    "    def generate_password(size, num_digits, num_specials):\n",
    "        digits = [random.choice(string.digits) for i in range(num_digits)]\n",
    "        specials = [random.choice(string.punctuation) for i in range(num_specials)]\n",
    "        others = [random.choice(string.ascii_letters) for i in range(size - num_digits - num_specials)]\n",
    "        password = digits + specials + others\n",
    "        random.shuffle(password)\n",
    "        \n",
    "        return \"\".join(password)\n",
    "\n",
    "    def generate(self):\n",
    "        return self.generate_password(self.size, self.num_digits, self.num_specials)\n",
    "    \n",
    "    @property\n",
    "    def size(self):\n",
    "        return self._size\n",
    "\n",
    "    @size.setter\n",
    "    def size(self, value):\n",
    "        if type(value) is int:\n",
    "            self._size = value\n",
    "        \n",
    "        else:\n",
    "            raise ValueError(\"The value given is not an int.\")\n",
    "\n",
    "    @property\n",
    "    def num_digits(self):\n",
    "        return self._num_digits\n",
    "\n",
    "    @num_digits.setter\n",
    "    def num_digits(self, value):\n",
    "        if type(value) is int:\n",
    "            self._num_digits = value\n",
    "        \n",
    "        else:\n",
    "            raise ValueError(\"The value given is not an int.\")\n",
    "\n",
    "    @property\n",
    "    def num_specials(self):\n",
    "        return self._num_specials\n",
    "\n",
    "    @num_specials.setter\n",
    "    def num_specials(self, value):\n",
    "        if type(value) is int:\n",
    "            self._num_specials = value\n",
    "        \n",
    "        else:\n",
    "            raise ValueError(\"The value given is not an int.\")"
   ]
  },
  {
   "cell_type": "code",
   "execution_count": 27,
   "metadata": {},
   "outputs": [
    {
     "name": "stdout",
     "output_type": "stream",
     "text": [
      "NpAEYJ2kisJPlJDyrp0+\n",
      "20\n",
      "1\n",
      "2\n"
     ]
    }
   ],
   "source": [
    "generator = PasswordGenerator(20, 2, 1)\n",
    "print(generator.generate())\n",
    "print(generator.size)\n",
    "print(generator.num_specials)\n",
    "print(generator.num_digits)"
   ]
  },
  {
   "cell_type": "markdown",
   "metadata": {},
   "source": [
    "## Triangle de Pascal\n",
    "\n",
    "L'objectif de l'exercice est d'implémenter le Triangle de Pascal.\n",
    "\n",
    "* Implémenter une classe `Pascal` qui stocke les valeurs du triangle de Pascal de taille `size` dans un attribut nommé `triangle`. La construction du triangle **ne doit pas** utiliser la fonction `factorial`.\n",
    "* Surcharger la méthode `print` pour afficher le triangle.\n",
    "* Ajouter deux méthodes qui renvoient le coefficient binomial $C_k^n$, sans faire le calcul explicitement (en particulier sans utiliser la fonction `factorial`):\n",
    "  * 1ère méthode : implémenter une méthode d'instance nommée `combination`\n",
    "  * 2ème méthode : surcharger la méthode `__getitem__`\n",
    "\n",
    "Exemple :\n",
    "\n",
    "```python\n",
    ">>> triangle = Pascal(size=6)\n",
    ">>> print(triangle)\n",
    "1\n",
    "1  1\n",
    "1  2  1\n",
    "1  3  3  1\n",
    "1  4  6  4  1\n",
    "1  5  10 10 5  1\n",
    "\n",
    ">>> triangle.combination(5, 3)\n",
    "10\n",
    ">>> triangle[5, 3]\n",
    "10\n",
    "```\n"
   ]
  },
  {
   "cell_type": "code",
   "execution_count": 68,
   "metadata": {},
   "outputs": [],
   "source": [
    "class Pascal:\n",
    "    def __init__(self, size):\n",
    "        self.size = size\n",
    "        self.triangle = self._build_triangle(size)\n",
    "\n",
    "    def _build_triangle(self, n):\n",
    "        if n == 1:\n",
    "            return [[1]]\n",
    "\n",
    "        if n == 2:\n",
    "            return [[1, 0], [1, 1]]\n",
    "    \n",
    "        # Set the triangle with zeros\n",
    "        triangle = [[0 for _ in range(n)] for _ in range(n)]\n",
    "    \n",
    "        # Set the two first rows\n",
    "        triangle[0][0] = 1\n",
    "        triangle[1][0] = 1\n",
    "        triangle[1][1] = 1\n",
    "    \n",
    "        # Run the algorithm\n",
    "        for i in range(n):\n",
    "            for j in range(n):\n",
    "                if j==0:\n",
    "                    triangle[i][j] = 1\n",
    "                else:\n",
    "                    triangle[i][j] = triangle[i-1][j-1] + triangle[i-1][j]\n",
    "        return triangle\n",
    "\n",
    "    def __str__(self):\n",
    "        s = [\" \".join([str(l) for l in line if l!=0]) for line in self.triangle]\n",
    "        return \"\\n\".join(s)\n",
    "\n",
    "    def combination(self, i, j):\n",
    "        if j > i:\n",
    "            raise ValueError(\"j is superior to i, that is mathematically not correct.\")\n",
    "\n",
    "        if i >= self.size:\n",
    "            raise ValueError(\"The created triangle is too small for the asked value.\")\n",
    "        \n",
    "        return self.triangle[i][j]\n",
    "    \n",
    "    def __getitem__(self, idx):\n",
    "        match idx:\n",
    "            case int(x):\n",
    "                return self.triangle[x]\n",
    "\n",
    "            case (int(x), int(y)):\n",
    "                return self.triangle[x][y]\n",
    "\n",
    "            case _:\n",
    "                raise ValueError(\"The given indexes are not comprehensible.\")            "
   ]
  },
  {
   "cell_type": "code",
   "execution_count": 69,
   "metadata": {},
   "outputs": [
    {
     "name": "stdout",
     "output_type": "stream",
     "text": [
      "1\n",
      "1 1\n",
      "1 2 1\n",
      "1 3 3 1\n",
      "1 4 6 4 1\n",
      "1 5 10 10 5 1\n",
      "10\n",
      "10\n"
     ]
    }
   ],
   "source": [
    "triangle = Pascal(6)\n",
    "\n",
    "print(triangle)\n",
    "\n",
    "print(triangle.combination(5, 3))\n",
    "print(triangle[5, 3])"
   ]
  },
  {
   "cell_type": "markdown",
   "metadata": {},
   "source": [
    "## Lecteur de fichier CSV\n",
    "\n",
    "L'objectif de l'exercice est d'implémenter un lecteur de fichiers CSV.\n",
    "\n",
    "Implémenter une classe `CsvReader` qui permet de lire un fichier CSV et d'en stocker ses valeurs dans une liste, comme suit :\n",
    "\n",
    "```python\n",
    "reader = CsvReader()\n",
    "data = reader.load(\"weather.csv\", sep=\";\")\n",
    "```\n",
    "\n",
    "La méthode `load` a deux arguments :\n",
    "* path : le chemin vers le fichier\n",
    "* sep : le séparateur des éléments du fichier, optionnel\n",
    "\n",
    "Pour ouvrir un fichier, utiliser la librairie standard, voir [ici](https://docs.python.org/3/tutorial/inputoutput.html#reading-and-writing-files).\n",
    "\n",
    "Les fonctions ou librairies suivantes **ne sont pas autorisées** :\n",
    "* Librairie `csv`\n",
    "* Fonctions de `NumPy` ou `Pandas` : `pd.read_csv`, `np.loadtxt`, `np.genfromtxt`, etc."
   ]
  },
  {
   "cell_type": "code",
   "execution_count": 81,
   "metadata": {},
   "outputs": [],
   "source": [
    "class CsvReader:\n",
    "\n",
    "    @classmethod\n",
    "    def load(cls, path, sep=\",\"):\n",
    "        data = []\n",
    "        with open(path, \"r\") as f:\n",
    "            for line in f:\n",
    "                row = line.split(sep)\n",
    "                data.append(row)\n",
    "                \n",
    "        return data"
   ]
  },
  {
   "cell_type": "code",
   "execution_count": 89,
   "metadata": {},
   "outputs": [
    {
     "data": {
      "text/plain": [
       "[['date',\n",
       "  'precipitation',\n",
       "  'temp_max',\n",
       "  'temp_min',\n",
       "  'wind',\n",
       "  'weather',\n",
       "  'month\\n'],\n",
       " ['2012-01-01', '0.0', '12.8', '5.0', '4.7', 'drizzle', 'January\\n']]"
      ]
     },
     "execution_count": 89,
     "metadata": {},
     "output_type": "execute_result"
    }
   ],
   "source": [
    "reader = CsvReader()\n",
    "data = reader.load(\"weather.csv\", sep=\";\")\n",
    "\n",
    "data[:2]"
   ]
  },
  {
   "cell_type": "code",
   "execution_count": 90,
   "metadata": {},
   "outputs": [
    {
     "data": {
      "text/plain": [
       "[['date',\n",
       "  'precipitation',\n",
       "  'temp_max',\n",
       "  'temp_min',\n",
       "  'wind',\n",
       "  'weather',\n",
       "  'month\\n'],\n",
       " ['2012-01-01', '0.0', '12.8', '5.0', '4.7', 'drizzle', 'January\\n']]"
      ]
     },
     "execution_count": 90,
     "metadata": {},
     "output_type": "execute_result"
    }
   ],
   "source": [
    "# Comme load a été définie comme une méthode de classe, on peut l'utiliser\n",
    "# sans avoir besoin d'initialiser une instance de la classe\n",
    "\n",
    "data = CsvReader.load(\"weather.csv\", sep=\";\")\n",
    "data[:2]"
   ]
  },
  {
   "cell_type": "markdown",
   "metadata": {},
   "source": [
    "## Ensembles\n",
    "\n",
    "Un ensemble est une séquence mutable contenant des éléments uniques. Le type de base est `set`.\n",
    "\n",
    "L'objectif de l'exercice est d'implémenter une structure de données Set selon la même logique que le type de base (**mais sans l'utiliser**). La structure doit :\n",
    "\n",
    "* contenir des éléments uniques, non nécessairement de même type\n",
    "* contenir des éléments de types numériques ou des chaînes de caractères\n",
    "* réordonner les éléments\n",
    "\n",
    "**Question 1**\n",
    "\n",
    "Implémenter la structure de données Set pour stocker des entiers et des flottants en respectant les caractéristiques suivantes :\n",
    "* l'argument du constructeur doit être une liste d'entiers ou de flottants\n",
    "* un attribut **caché** `__data` : un tuple contenant les éléments uniques et réordonnés\n",
    "* une property size qui renvoie la taille de l'ensemble\n",
    "\n",
    "Méthodes à implémenter :\n",
    "* Surcharge de la méthode `print`, via la fonction `__str__`\n",
    "* Surcharge de l'opérateur `in`, via la fonction `__contains__`\n",
    "* `intersection` et `union` pour l'intersection et l'union de deux ensembles\n",
    "* `add` pour ajouter un élément en ﬁn d'ensemble\n",
    "* `remove` pour supprimer un élément donné en argument\n",
    "\n",
    "Exemple :\n",
    "\n",
    "```python\n",
    ">>> s = Set() # ensemble vide\n",
    "\n",
    ">>> s = Set([1, 2.2, 4, 3, 1, 2.2])\n",
    ">>> s.size\n",
    "4\n",
    ">>> print(s)\n",
    "{1, 2.2, 3, 4}\n",
    ">>> 1 in s\n",
    "True\n",
    "\n",
    ">>> s1 = Set([1, 2, 3])\n",
    ">>> s2 = Set([2, 3, 4])\n",
    "\n",
    ">>> s1.intersection(s2)\n",
    "{2, 3}\n",
    ">>> s1.union(s2)\n",
    "{1, 2, 3, 4}\n",
    "\n",
    ">>> s1.add(4)\n",
    ">>> s1\n",
    "{1, 2, 3, 4}\n",
    "\n",
    ">>> s1.remove(1)\n",
    ">>> s1\n",
    "{2, 3, 4}\n",
    "```"
   ]
  },
  {
   "cell_type": "code",
   "execution_count": 147,
   "metadata": {},
   "outputs": [],
   "source": [
    "class Set:\n",
    "\n",
    "    def __init__(self, data):\n",
    "        self.__data = self._make_set(data)\n",
    "\n",
    "\n",
    "    def _make_set(self, data):\n",
    "        d = []\n",
    "        for i in data:\n",
    "            if i not in d:\n",
    "                d.append(i)\n",
    "                \n",
    "        return tuple(d)\n",
    "    \n",
    "    @property\n",
    "    def size(self):\n",
    "        return len(self.__data)\n",
    "\n",
    "    def intersection(self, s):\n",
    "        data = []\n",
    "        for i in self.__data:\n",
    "            if i in s:\n",
    "                data.append(i)\n",
    "        return Set(data)\n",
    "\n",
    "    def union(self, s):\n",
    "        data = self.__data + s.__data\n",
    "        return Set(data)\n",
    "\n",
    "    def add(self, element):\n",
    "        if element not in self:\n",
    "            new_data = self.__data + (element, )\n",
    "            self.__data = new_data\n",
    "        \n",
    "        else:\n",
    "            pass\n",
    "\n",
    "    def remove(self, element):\n",
    "        if element in self:\n",
    "            new_data = (i for i in self.__data if i!=element)\n",
    "            self.__data = new_data\n",
    "\n",
    "        else:\n",
    "            pass\n",
    "        \n",
    "    def __contains__(self, element):\n",
    "        return element in self.__data\n",
    "        \n",
    "    def __str__(self):\n",
    "        return f\"{{{\", \".join([str(i) for i in self.__data])}}}\""
   ]
  },
  {
   "cell_type": "code",
   "execution_count": 149,
   "metadata": {},
   "outputs": [
    {
     "name": "stdout",
     "output_type": "stream",
     "text": [
      "{1, 2, 3}\n",
      "3\n",
      "True\n",
      "False\n",
      "{2, 3}\n",
      "{1, 2, 3, 4}\n",
      "{1, 2, 3, 4}\n",
      "{1, 3, 4}\n"
     ]
    }
   ],
   "source": [
    "s1 = Set([1, 1, 2, 3])\n",
    "\n",
    "print(s1)\n",
    "print(s1.size)\n",
    "print(2 in s1)\n",
    "print(4 in s1)\n",
    "\n",
    "s2 = Set([2, 3, 4])\n",
    "\n",
    "print(s1.intersection(s2))\n",
    "print(s1.union(s2))\n",
    "\n",
    "s1.add(4)\n",
    "print(s1)\n",
    "s1.remove(2)\n",
    "print(s1)"
   ]
  },
  {
   "cell_type": "markdown",
   "metadata": {},
   "source": [
    "**Question 2**\n",
    "\n",
    "Adapter la classe `Set` pour stocker également des chaînes de caractères comme dans l'exemple :\n",
    "\n",
    "```python\n",
    ">>> s = Set([1, 1, \"b\", \"a\", 2.2, 4, 3])\n",
    ">>> s.size\n",
    "6\n",
    ">>> print(s)\n",
    "{1, 2.2, 3, 4, \"a\", \"b\"}\n",
    ">>> \"a\" in s\n",
    "True\n",
    "```"
   ]
  },
  {
   "cell_type": "code",
   "execution_count": 155,
   "metadata": {},
   "outputs": [
    {
     "name": "stdout",
     "output_type": "stream",
     "text": [
      "{1, 2, 3, a}\n",
      "4\n",
      "True\n",
      "False\n",
      "{2, 3, a}\n",
      "{1, 2, 3, a, 4, b}\n",
      "{1, 2, 3, a, abracadabra}\n",
      "{1, 2, 3, abracadabra}\n"
     ]
    }
   ],
   "source": [
    "s1 = Set([1, 1, 2, 3, \"a\"])\n",
    "\n",
    "print(s1)\n",
    "print(s1.size)\n",
    "print(\"a\" in s1)\n",
    "print(\"b\" in s1)\n",
    "\n",
    "s2 = Set([2, 3, 4, \"b\", \"a\"])\n",
    "\n",
    "print(s1.intersection(s2))\n",
    "print(s1.union(s2))\n",
    "\n",
    "s1.add(\"abracadabra\")\n",
    "print(s1)\n",
    "s1.remove(\"a\")\n",
    "print(s1)"
   ]
  }
 ],
 "metadata": {
  "kernelspec": {
   "display_name": "Python 3 (ipykernel)",
   "language": "python",
   "name": "python3"
  },
  "language_info": {
   "codemirror_mode": {
    "name": "ipython",
    "version": 3
   },
   "file_extension": ".py",
   "mimetype": "text/x-python",
   "name": "python",
   "nbconvert_exporter": "python",
   "pygments_lexer": "ipython3",
   "version": "3.12.2"
  },
  "vscode": {
   "interpreter": {
    "hash": "bedc7b092f95d0173602028272227588ce1ed221a8ea777d6ee00b69541af8b2"
   }
  }
 },
 "nbformat": 4,
 "nbformat_minor": 4
}
