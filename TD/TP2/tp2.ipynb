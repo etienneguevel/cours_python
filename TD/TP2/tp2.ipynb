{
 "cells": [
  {
   "cell_type": "markdown",
   "metadata": {},
   "source": [
    "# Python par la pratique : partie 2 - Programmation orientée objet\n",
    "\n",
    "Ce notebook fournit des ressources pour la pratique de Python.\n",
    "\n",
    "Pour chacune des méthodes, il vous faudra bien comprendre leur fonctionnement et vous pourrez vous documenter sur internet (docs officielles et forums).\n",
    "N'hésitez pas à modifier les cellules pour tester d'autres configurations que celles données ici.\n",
    "\n",
    "Si vous souhaitez connaitre les méthodes disponibles d'un objet particulier, utilisez la function ``dir(obj)``."
   ]
  },
  {
   "cell_type": "markdown",
   "metadata": {},
   "source": [
    "## Définition d'une classe"
   ]
  },
  {
   "cell_type": "code",
   "execution_count": null,
   "metadata": {},
   "outputs": [],
   "source": [
    "class Point():\n",
    "    def __init__(self, x, y):\n",
    "        self.x = x\n",
    "        self.y = y"
   ]
  },
  {
   "cell_type": "code",
   "execution_count": null,
   "metadata": {},
   "outputs": [],
   "source": [
    "point = Point(1, 2)\n",
    "print(point)\n",
    "print(type(point))\n",
    "print(id(point))"
   ]
  },
  {
   "cell_type": "code",
   "execution_count": null,
   "metadata": {},
   "outputs": [],
   "source": [
    "point2 = Point(1, 2)\n",
    "print(point2)\n",
    "print(type(point2))\n",
    "print(id(point2))\n",
    "print(point is point2)"
   ]
  },
  {
   "cell_type": "code",
   "execution_count": null,
   "metadata": {},
   "outputs": [],
   "source": [
    "class Point():\n",
    "    point_type = \"2D\"  # attribut de classe\n",
    "    def __init__(self, x, y):\n",
    "        self.x = x\n",
    "        self.y = y"
   ]
  },
  {
   "cell_type": "code",
   "execution_count": null,
   "metadata": {},
   "outputs": [],
   "source": [
    "p1 = Point(1, 2)\n",
    "p2 = Point(2, 1)\n",
    "print(p1.point_type)\n",
    "print(p2.point_type)"
   ]
  },
  {
   "cell_type": "markdown",
   "metadata": {},
   "source": [
    "## Méthode d'instance"
   ]
  },
  {
   "cell_type": "code",
   "execution_count": null,
   "metadata": {},
   "outputs": [],
   "source": [
    "import math\n",
    "\n",
    "class Point():\n",
    "    def __init__(self, x, y):\n",
    "        self.x = x\n",
    "        self.y = y\n",
    "\n",
    "    def norm(self):\n",
    "        return math.sqrt(self.x**2 + self.y**2)"
   ]
  },
  {
   "cell_type": "code",
   "execution_count": null,
   "metadata": {},
   "outputs": [],
   "source": [
    "p1 = Point(1, 2)\n",
    "p2 = Point(2, 1)\n",
    "print(p1.norm())\n",
    "print(p2.norm())"
   ]
  },
  {
   "attachments": {},
   "cell_type": "markdown",
   "metadata": {},
   "source": [
    "**Exercice** :\n",
    "\n",
    "Exécuter la cellule suivante et expliquer le résultat."
   ]
  },
  {
   "cell_type": "code",
   "execution_count": null,
   "metadata": {},
   "outputs": [],
   "source": [
    "print(p1.norm)"
   ]
  },
  {
   "attachments": {},
   "cell_type": "markdown",
   "metadata": {},
   "source": [
    "Modifier la classe précédente pour accéder à la norme d'un point comme suit :\n",
    "`p1.norm`."
   ]
  },
  {
   "cell_type": "markdown",
   "metadata": {},
   "source": [
    "## Méthode de classe"
   ]
  },
  {
   "cell_type": "code",
   "execution_count": null,
   "metadata": {},
   "outputs": [],
   "source": [
    "class Point():\n",
    "    type = \"2D\"\n",
    "    def __init__(self, x, y):\n",
    "        self.x = x\n",
    "        self.y = y\n",
    "\n",
    "    @classmethod\n",
    "    def print_type(cls):\n",
    "        print(f\"My type is {cls.type}\")"
   ]
  },
  {
   "cell_type": "code",
   "execution_count": null,
   "metadata": {},
   "outputs": [],
   "source": [
    "p1 = Point(1, 2)\n",
    "p1.print_type()"
   ]
  },
  {
   "cell_type": "markdown",
   "metadata": {},
   "source": [
    "## Méthode statique"
   ]
  },
  {
   "cell_type": "code",
   "execution_count": null,
   "metadata": {},
   "outputs": [],
   "source": [
    "import math\n",
    "\n",
    "class Point():\n",
    "    type = \"2D\"\n",
    "    def __init__(self, x, y):\n",
    "        self.x = x\n",
    "        self.y = y\n",
    "\n",
    "    def norm(self):\n",
    "        return self.norm2d(self.x, self.y)\n",
    "\n",
    "    @staticmethod\n",
    "    def norm2d(x, y):\n",
    "        return math.sqrt(x**2 + y**2)"
   ]
  },
  {
   "cell_type": "code",
   "execution_count": null,
   "metadata": {},
   "outputs": [],
   "source": [
    "p1 = Point(1, 2)\n",
    "print(p1.norm())\n",
    "print(p1.norm2d(1, 2))"
   ]
  },
  {
   "cell_type": "markdown",
   "metadata": {},
   "source": [
    "## Accès et modification d'attributs"
   ]
  },
  {
   "cell_type": "code",
   "execution_count": null,
   "metadata": {},
   "outputs": [],
   "source": [
    "class Point():\n",
    "    def __init__(self, x, y):\n",
    "        self.x = x\n",
    "        self.y = y"
   ]
  },
  {
   "cell_type": "code",
   "execution_count": null,
   "metadata": {},
   "outputs": [],
   "source": [
    "point = Point(1, 2)"
   ]
  },
  {
   "cell_type": "markdown",
   "metadata": {},
   "source": [
    "### Accès"
   ]
  },
  {
   "cell_type": "code",
   "execution_count": null,
   "metadata": {},
   "outputs": [],
   "source": [
    "getattr(point, \"x\")"
   ]
  },
  {
   "cell_type": "code",
   "execution_count": null,
   "metadata": {},
   "outputs": [],
   "source": [
    "point.x"
   ]
  },
  {
   "cell_type": "markdown",
   "metadata": {},
   "source": [
    "### Modification"
   ]
  },
  {
   "cell_type": "code",
   "execution_count": null,
   "metadata": {},
   "outputs": [],
   "source": [
    "setattr(point, \"x\", 2)\n",
    "point.x"
   ]
  },
  {
   "cell_type": "code",
   "execution_count": null,
   "metadata": {},
   "outputs": [],
   "source": [
    "point.x = 3\n",
    "point.x"
   ]
  },
  {
   "attachments": {},
   "cell_type": "markdown",
   "metadata": {},
   "source": [
    "**Exercice :** \n",
    "\n",
    "Modifier les cellules précédentes pour rendre les attributs \"cachés\" et implémenter un `getter` et un `setter`."
   ]
  },
  {
   "attachments": {},
   "cell_type": "markdown",
   "metadata": {},
   "source": [
    "### Décorateur `property`\n",
    "\n",
    "Le décorateur `property` permet l'appel de méthodes d'instance de la même manière qu'un attribut. C'est une autre façon de définir des accesseurs (ou getters).\n"
   ]
  },
  {
   "cell_type": "code",
   "execution_count": null,
   "metadata": {},
   "outputs": [],
   "source": [
    "class Point():\n",
    "    def __init__(self, x, y):\n",
    "        self.__x = x\n",
    "        self.__y = y\n",
    "\n",
    "    @property\n",
    "    def x(self):\n",
    "        return self.__x"
   ]
  },
  {
   "cell_type": "code",
   "execution_count": null,
   "metadata": {},
   "outputs": [],
   "source": [
    "point = Point(1, 2)\n",
    "print(point.x)"
   ]
  },
  {
   "cell_type": "code",
   "execution_count": null,
   "metadata": {},
   "outputs": [],
   "source": [
    "# Essayons de modifier la valeur de x\n",
    "point.x = 2"
   ]
  },
  {
   "cell_type": "code",
   "execution_count": null,
   "metadata": {},
   "outputs": [],
   "source": [
    "# Rappelons que l'attribut __x n'est pas accessible, encore moins modifiable\n",
    "point.__x"
   ]
  },
  {
   "attachments": {},
   "cell_type": "markdown",
   "metadata": {},
   "source": [
    "____________\n",
    "\n",
    "## Classe `Complex` et surcharge des opérateurs\n",
    "\n",
    "L'objectif est d'implémenter une classe qui définit un nombre complexe et ses opérations"
   ]
  },
  {
   "cell_type": "markdown",
   "metadata": {},
   "source": [
    "**Exercice 1**\n",
    "\n",
    "Implémenter une classe `Complex` qui stocke l'information d'un nombre complexe soit sa partie entière et sa partie immaginaire."
   ]
  },
  {
   "cell_type": "markdown",
   "metadata": {},
   "source": [
    "**Exercice 2**\n",
    "\n",
    " 1. Implémenter une méthode `print` pour afficher le nombre complexe\n",
    "\n",
    "Exemple :\n",
    "\n",
    "```\n",
    ">>> c = Complex(real=1, imag=2)\n",
    ">>> c.print()\n",
    "1 + 2i\n",
    "```\n",
    "\n",
    "2. Comparer `c.print()` avec `print(c)` ?\n",
    "3. Modifier la méthode `print` pour quelle retourne la chaîne de caractère à afficher et la renommer en `__str__`. Exécuter à nouveau `print(c)`. "
   ]
  },
  {
   "cell_type": "markdown",
   "metadata": {},
   "source": [
    "**Exercice 3**\n",
    "\n",
    "1. Exécuter le code suivant et interpréter le résultat\n",
    "\n",
    "```python\n",
    ">>> c = Complex(1, 2)\n",
    ">>> c + c\n",
    "```\n",
    "2. Implémenter une méthode `add` pour l'ajout de deux nombres complexes. Le résultat est un nouvel objet de classe `Complex`.\n",
    "\n",
    "Exemple :\n",
    "\n",
    "```bash\n",
    ">>> c1 = Complex(1, 2)\n",
    ">>> c2 = c1.add(c1)\n",
    ">>> print(c2)\n",
    "2 + 4i\n",
    "```\n",
    "\n",
    "1. Renommer la méthode implémentée en `__add__` et tester à nouveau\n",
    "\n",
    "Exemple : \n",
    "```bash\n",
    ">>> c1 = Complex(1, 2)\n",
    ">>> c2 = c1 + c1\n",
    ">>> print(c2)\n",
    "2 + 4i\n",
    "```\n"
   ]
  },
  {
   "cell_type": "markdown",
   "metadata": {},
   "source": [
    "**Exercice 4**\n",
    "\n",
    "Surcharger les opérateurs suivants :\n",
    "* Valeur absolue en utilisant la méthode `__abs__`\n",
    "* Opposé en utilisant la méthode `__neg__`\n",
    "* Test d'égalité en utilisant la méthode `__eq__`\n",
    "* Test d'inégalité en utilisant la méthode `__ne__`"
   ]
  },
  {
   "attachments": {},
   "cell_type": "markdown",
   "metadata": {},
   "source": [
    "## Héritage"
   ]
  },
  {
   "cell_type": "markdown",
   "metadata": {},
   "source": [
    "### Etudiants"
   ]
  },
  {
   "cell_type": "code",
   "execution_count": null,
   "metadata": {},
   "outputs": [],
   "source": [
    "class Person():\n",
    "    def __init__(self, firstname, lastname):\n",
    "        self.__firstname = firstname\n",
    "        self.__lastname = lastname\n",
    "\n",
    "    def __str__(self):\n",
    "        return f\"{self.firstname} {self.lastname}\"\n",
    "    \n",
    "    @property\n",
    "    def firstname(self):\n",
    "        return self.__firstname\n",
    "    \n",
    "    @property\n",
    "    def lastname(self):\n",
    "        return self.__lastname"
   ]
  },
  {
   "cell_type": "code",
   "execution_count": null,
   "metadata": {},
   "outputs": [],
   "source": [
    "class Student(Person):\n",
    "    def __init__(self, firstname, lastname, university, student_id):\n",
    "        super().__init__(firstname, lastname)\n",
    "        self.__university = university\n",
    "        self.student_id = student_id\n",
    "\n",
    "    @property\n",
    "    def university(self):\n",
    "        return self.__university\n",
    "    \n",
    "    def __str__(self):\n",
    "        print(f\"{self.firstname} {self.lastname}\")\n",
    "        print(f\"Student ID: {self.student_id}\")"
   ]
  },
  {
   "cell_type": "markdown",
   "metadata": {},
   "source": [
    "Implémenter une classe `Teacher` sur le même modèle que `Student` avec des attributs spécifiques (`teacher_id`, `salary`, `courses`, etc.)"
   ]
  },
  {
   "cell_type": "markdown",
   "metadata": {},
   "source": [
    "### Polygones\n",
    "\n",
    "1. Implémenter une classe `Polygon` qui contient le nombre de côtés d'un polygone `nr_sides` et la liste de la longueur de chaque côté `sides`. \n",
    "2. Implémenter une classe `Rectangle` qui hérite de la classe `Polygon` et qui contient une méthode `area` permettant de calculer l'aire.\n",
    "3. Implémenter une classe `Square`"
   ]
  },
  {
   "cell_type": "markdown",
   "metadata": {},
   "source": [
    "## Vector\n",
    "\n",
    "Implémenter une class Vector qui stocke l'information d'un vecteur de `n` valeurs initialement stockée dans une liste. Exemple :\n",
    "\n",
    "```python\n",
    ">>> vector = Vector([1, 2, 3])\n",
    ">>> vector.size\n",
    "3\n",
    ">>> vector.norm()\n",
    "3.74\n",
    "```\n",
    "\n",
    "Modifier la classe pour gérer plusieurs structures de données (`dict`, `tuples`, etc.), exemple :\n",
    "\n",
    "```python\n",
    ">>> vector = Vector([1, 2, 3])\n",
    ">>> vector = Vector({\"a\": 1, \"b\": 2, \"c\": 3})\n",
    ">>> vector = Vector((1, 2, 3))\n",
    "```"
   ]
  },
  {
   "attachments": {},
   "cell_type": "markdown",
   "metadata": {},
   "source": [
    "## Matrix\n",
    "\n",
    "* Implémenter une classe `Matrix` qui stocke l'information d'une matrice de taille `n x m`. Utiliser une structure de données standard pour les données d'entrée (liste ou tuple). L'attribut associé sera nommé `values`\n",
    "* Implémenter une propriété `shape` qui renvoie le tuple `(n, m)`\n",
    "* Surcharger les opérateurs suivants :\n",
    "  * Multiplication point-à-point entre deux matrices, opérateur `*`\n",
    "  * Somme de deux matrices, opérateur `+`\n",
    "  * Egalité de deux matrices, opérateur `==`\n",
    "  * Affichage de la matrice\n",
    "* Implémenter les méthodes suivantes :\n",
    "  * `transpose` qui renvoie la matrice transposée\n",
    "  * `dot` pour le produit matriciel\n",
    "\n",
    "\n",
    "Exemple d'utilisation pour une matrice `2 x 3` :\n",
    "\n",
    "```python\n",
    ">>> values = ((1, 2, 3),\n",
    "...           (4, 5, 6))\n",
    ">>> mat = Matrix(values=values)\n",
    ">>> mat.shape\n",
    "(2, 3)\n",
    ">>> print(mat)\n",
    "1  2  3\n",
    "4  5  6\n",
    ">>> print(mat * mat)\n",
    "1   4   9\n",
    "16  25  36\n",
    ">>> print(mat + mat)\n",
    "2  4   5\n",
    "8  10  12\n",
    ">>> mat == mat\n",
    "True\n",
    ">>> trans = mat.transpose()\n",
    ">>> print(trans)\n",
    "1 4\n",
    "2 5\n",
    "3 6\n",
    ">>> mat2 = mat.dot(trans)\n",
    ">>> print(mat2)\n",
    "14  32\n",
    "32  77\n",
    "```\n",
    "\n",
    "* **Questions bonus** : \n",
    "  * Implémenter une méthode `inv` pour calculer l'inverse d'une matrice, voir la méthode de [Gauss-Jordan](https://fr.wikipedia.org/wiki/%C3%89limination_de_Gauss-Jordan)\n",
    "  * Utiliser la méthode `__getitem__` pour implémenter l'accès aux valeurs de l'objet de classe Matrix :\n",
    "\n",
    "```python\n",
    ">>> mat = Matrix(values)\n",
    ">>> mat[0, 0]\n",
    "1\n",
    "```\n",
    "\n",
    "Ref : [geeksforgeeks.org/__getitem__-in-python](https://www.geeksforgeeks.org/__getitem__-in-python/#:~:text=__getitem__()%20is%20a%20magic,getitem__(x%2C%20i)%20.)"
   ]
  },
  {
   "attachments": {},
   "cell_type": "markdown",
   "metadata": {},
   "source": [
    "## Générateur de mots de passe\n",
    "\n",
    "L'objectif de cet exercice est d'implémenter un générateur de mot de passe contenant `size` caractères alphanumériques.\n",
    "\n",
    "Le mot de passe est simplement une chaîne de caractères construite comme la concaténation des `size` caractères.\n",
    "\n",
    "### Question 1\n",
    "\n",
    "Implémenter une fonction `generate_password` qui génère un mot de passe aléatoirement :\n",
    "* Utiliser la librairie `random` pour générer aléatoirement les caractères du mot de passe (voir https://docs.python.org/3/library/random.html)\n",
    "* Utiliser la librarie `string` pour lister l'ensemble des caractères alphanumériques (voir https://docs.python.org/fr/3/library/string.html)\n",
    "\n",
    "Les caractères spéciaux (ex `/ ! ? % - _`) sont donnés par  `string.punctuation`.\n",
    "\n",
    "Exempe :\n",
    "\n",
    "```python\n",
    ">>> print(generate_password(size=10))\n",
    "\"bXjASE6QER\"\n",
    "```\n",
    "\n",
    "### Question 2\n",
    "\n",
    "Ajouter à la fonction implémentée précedemment pour mettre des contraintes sur le mot de passe. Le mot de passe doit contenir :\n",
    "* exactement `size` caractères\n",
    "* exactement `num_digits` caractères numériques\n",
    "* exactement `num_specials` caractères spéciaux, par exemple, `/ ! ? % - _`\n",
    "\n",
    "Exemple :\n",
    "\n",
    "```python\n",
    "print(generate_password(size=10, num_digits=2, num_specials=2))\n",
    "\"b!j2SE6Q/R\"\n",
    "```\n",
    "\n",
    "Tester la fonction avec `size` égal à 10, 20 ou 100\n",
    "\n",
    "### Exercice 3\n",
    "\n",
    "Implémenter votre générateur de mot de passe dans une classe `PasswordGenerator` en utilisant \n",
    "\n",
    "* une **méthode statique** pour la fonction principale\n",
    "* Des accesseurs `get_size`, `get_num_digits` et `get_num_specials`\n",
    "\n",
    "Exemple d'utilisation :\n",
    "\n",
    "```python\n",
    ">>> generator = PasswordGenerator(size=20, min_size=10, num_digits=2, num_specials=1)\n",
    ">>> password = generator.generate()\n",
    ">>> print(password)\n",
    "\"bXjASENQEREeZD?19YYf\"\n",
    ">>> print(generator.get_size())\n",
    "20\n",
    ">>> print(generator.get_num_digits())\n",
    "2\n",
    ">>> print(generator.get_num_specials())\n",
    "1\n",
    "```\n",
    "\n",
    "De **façon alternative**, vous pouvez utiliser le décorateur `property` pour accéder aux attributs (cachés) :\n",
    "\n",
    "```python\n",
    ">>> print(generator.size)\n",
    "20\n",
    ">>> print(generator.num_digits)\n",
    "2\n",
    ">>> print(generator.num_specials)\n",
    "1\n",
    "```\n"
   ]
  },
  {
   "cell_type": "markdown",
   "metadata": {},
   "source": [
    "## Triangle de Pascal\n",
    "\n",
    "L'objectif de l'exercice est d'implémenter le Triangle de Pascal.\n",
    "\n",
    "* Implémenter une classe `Pascal` qui stocke les valeurs du triangle de Pascal de taille `size` dans un attribut nommé `triangle`. La construction du triangle **ne doit pas** utiliser la fonction `factorial`.\n",
    "* Surcharger la méthode `print` pour afficher le triangle.\n",
    "* Ajouter deux méthodes qui renvoient le coefficient binomial $C_k^n$, sans faire le calcul explicitement (en particulier sans utiliser la fonction `factorial`):\n",
    "  * 1ère méthode : implémenter une méthode d'instance nommée `combination`\n",
    "  * 2ème méthode : surcharger la méthode `__getitem__`\n",
    "\n",
    "Exemple :\n",
    "\n",
    "```python\n",
    ">>> triangle = Pascal(size=6)\n",
    ">>> print(triangle)\n",
    "1\n",
    "1  1\n",
    "1  2  1\n",
    "1  3  3  1\n",
    "1  4  6  4  1\n",
    "1  5  10 10 5  1\n",
    "\n",
    ">>> triangle.combination(5, 3)\n",
    "10\n",
    ">>> triangle[5, 3]\n",
    "10\n",
    "```\n"
   ]
  },
  {
   "cell_type": "markdown",
   "metadata": {},
   "source": [
    "## Lecteur de fichier CSV\n",
    "\n",
    "L'objectif de l'exercice est d'implémenter un lecteur de fichiers CSV.\n",
    "\n",
    "Implémenter une classe `CsvReader` qui permet de lire un fichier CSV et d'en stocker ses valeurs dans une liste, comme suit :\n",
    "\n",
    "```python\n",
    "reader = CsvReader()\n",
    "data = reader.load(\"weather.csv\", sep=\";\")\n",
    "```\n",
    "\n",
    "La méthode `load` a deux arguments :\n",
    "* path : le chemin vers le fichier\n",
    "* sep : le séparateur des éléments du fichier, optionnel\n",
    "\n",
    "Pour ouvrir un fichier, utiliser la librairie standard, voir [ici](https://docs.python.org/3/tutorial/inputoutput.html#reading-and-writing-files).\n",
    "\n",
    "Les fonctions ou librairies suivantes **ne sont pas autorisées** :\n",
    "* Librairie `csv`\n",
    "* Fonctions de `NumPy` ou `Pandas` : `pd.read_csv`, `np.loadtxt`, `np.genfromtxt`, etc."
   ]
  },
  {
   "cell_type": "markdown",
   "metadata": {},
   "source": [
    "## Ensembles\n",
    "\n",
    "Un ensemble est une séquence mutable contenant des éléments uniques. Le type de base est `set`.\n",
    "\n",
    "L'objectif de l'exercice est d'implémenter une structure de données Set selon la même logique que le type de base (**mais sans l'utiliser**). La structure doit :\n",
    "\n",
    "* contenir des éléments uniques, non nécessairement de même type\n",
    "* contenir des éléments de types numériques ou des chaînes de caractères\n",
    "* réordonner les éléments\n",
    "\n",
    "**Question 1**\n",
    "\n",
    "Implémenter la structure de données Set pour stocker des entiers et des flottants en respectant les caractéristiques suivantes :\n",
    "* l'argument du constructeur doit être une liste d'entiers ou de flottants\n",
    "* un attribut **caché** `__data` : un tuple contenant les éléments uniques et réordonnés\n",
    "* une property size qui renvoie la taille de l'ensemble\n",
    "\n",
    "Méthodes à implémenter :\n",
    "* Surcharge de la méthode `print`, via la fonction `__str__`\n",
    "* Surcharge de l'opérateur `in`, via la fonction `__contains__`\n",
    "* `intersection` et `union` pour l'intersection et l'union de deux ensembles\n",
    "* `add` pour ajouter un élément en ﬁn d'ensemble\n",
    "* `remove` pour supprimer un élément donné en argument\n",
    "\n",
    "Exemple :\n",
    "\n",
    "```python\n",
    ">>> s = Set() # ensemble vide\n",
    "\n",
    ">>> s = Set([1, 2.2, 4, 3, 1, 2.2])\n",
    ">>> s.size\n",
    "4\n",
    ">>> print(s)\n",
    "{1, 2.2, 3, 4}\n",
    ">>> 1 in s\n",
    "True\n",
    "\n",
    ">>> s1 = Set([1, 2, 3])\n",
    ">>> s2 = Set([2, 3, 4])\n",
    "\n",
    ">>> s1.intersection(s2)\n",
    "{2, 3}\n",
    ">>> s1.union(s2)\n",
    "{1, 2, 3, 4}\n",
    "\n",
    ">>> s1.add(4)\n",
    ">>> s1\n",
    "{1, 2, 3, 4}\n",
    "\n",
    ">>> s1.remove(1)\n",
    ">>> s1\n",
    "{2, 3, 4}\n",
    "```\n",
    "\n",
    "**Question 2**\n",
    "\n",
    "Adapter la classe `Set` pour stocker également des chaînes de caractères comme dans l'exemple :\n",
    "\n",
    "```python\n",
    ">>> s = Set([1, 1, \"b\", \"a\", 2.2, 4, 3])\n",
    ">>> s.size\n",
    "6\n",
    ">>> print(s)\n",
    "{1, 2.2, 3, 4, \"a\", \"b\"}\n",
    ">>> \"a\" in s\n",
    "True\n",
    "```"
   ]
  }
 ],
 "metadata": {
  "kernelspec": {
   "display_name": "Python 3.9.13 ('tabobine')",
   "language": "python",
   "name": "python3"
  },
  "language_info": {
   "codemirror_mode": {
    "name": "ipython",
    "version": 3
   },
   "file_extension": ".py",
   "mimetype": "text/x-python",
   "name": "python",
   "nbconvert_exporter": "python",
   "pygments_lexer": "ipython3",
   "version": "3.8.11"
  },
  "orig_nbformat": 4,
  "vscode": {
   "interpreter": {
    "hash": "bedc7b092f95d0173602028272227588ce1ed221a8ea777d6ee00b69541af8b2"
   }
  }
 },
 "nbformat": 4,
 "nbformat_minor": 2
}
