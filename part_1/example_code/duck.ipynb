{
 "cells": [
  {
   "cell_type": "code",
   "execution_count": 3,
   "id": "ced3b610",
   "metadata": {},
   "outputs": [],
   "source": [
    "class Duck:\n",
    "    def __init__(self):\n",
    "        self.name = 'duck'\n",
    "    \n",
    "    def quack(self):\n",
    "        print('Duck says quack!')\n",
    "    \n",
    "    def fly(self):\n",
    "        print('Duck flies away!')\n"
   ]
  },
  {
   "cell_type": "code",
   "execution_count": 4,
   "id": "c30226a9",
   "metadata": {},
   "outputs": [
    {
     "name": "stdout",
     "output_type": "stream",
     "text": [
      "Duck says quack!\n",
      "Duck flies away!\n"
     ]
    }
   ],
   "source": [
    "duck = Duck()\n",
    "duck.quack()\n",
    "duck.fly()"
   ]
  }
 ],
 "metadata": {
  "kernelspec": {
   "display_name": "env",
   "language": "python",
   "name": "python3"
  },
  "language_info": {
   "codemirror_mode": {
    "name": "ipython",
    "version": 3
   },
   "file_extension": ".py",
   "mimetype": "text/x-python",
   "name": "python",
   "nbconvert_exporter": "python",
   "pygments_lexer": "ipython3",
   "version": "3.11.12"
  }
 },
 "nbformat": 4,
 "nbformat_minor": 5
}
